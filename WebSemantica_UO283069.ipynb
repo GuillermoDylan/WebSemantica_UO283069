{
 "cells": [
  {
   "cell_type": "markdown",
   "metadata": {},
   "source": [
    "# Ejercicio 1 - Modelado de datos como RDF\n",
    "## Temática elegida\n",
    "La temática que se ha escogido para modelar los datos ha sido la serie de animación japonesa \"*Serial Experiments: Lain*\", un anime vanguardista conocido por tocar temas filosóficos y de comunicación social (centrado en el comienzo de internet en los 90-2000).\n",
    "\n",
    "Se han modelado principalmente **personajes, organizaciones y objetos** que aparecen en a serie, intentando hacer incapié en las similitudes de esta con elementos de la vida real.\n",
    "\n",
    "Entre los diferentes **conceptos y entidades** modelados, podemos encontrar:\n",
    "\n",
    "- **Personajes**: los personajes principales de la serie, de tipo Person\n",
    "- **Lugares**: (Solamente uno, ya que la trama transcurre en Tokyo, Japón)\n",
    "- **Organizaciones**: tomando el termino de organización como grupo organizado, como pueden ser empresas o sectas\n",
    "- **Productos/Objetos**: muy generalmente, todos aquellos elementos desarrollados por alguien con un fin o propósito, desde internet a productos de compra venta. Por enumerar algunos:\n",
    "    - Código de programación\n",
    "    - Dispositivos electrónicos\n",
    "    - Ordenadores\n",
    "    - Redes de ordenadores\n",
    "- **Otros conceptos que aparecen representados**:\n",
    "    - Dios: de manera simplificada, teniendo en cuenta su papel en la serie (mejor definido en la ontología)\n",
    "    - Videojuegos: muy simplificadamente\n",
    "    - Páginas web: tanto como enlaces como entidades en sí, ya que juegan un papel dentro de la serie\n",
    "    - Conceptos físicos: como resonancias magnéticas\n",
    "    - Eventos \n",
    "\n",
    "Para modelar este dominio, se ha hecho uso de **elementos de otras ontologías**, principalmente de Wikidata, Schema.org y DBpedia, aunque también se han tenido en cuenta otras ontologías como la [VideoGameOntology](http://purl.org/net/VideoGameOntology#), [FOAF](http://xmlns.com/foaf/0.1/) o [GEO](http://www.w3.org/2003/01/geo/wgs84_pos#). Entre estos elementos encontramos:\n",
    "- La entidad de *schema:Person*, que representa a una persona\n",
    "- La entidad *schema:Organization*, que representa organizaciones\n",
    "- Se ha usado *schema:City* para representar ciudades\n",
    "- Diversos Qs de Wikidata, entre ellos *Q15836568* (Computer Network) o *Q1293220* (Resonancia de Schumman)\n",
    "- Para los eventos se ha empleado *schema:Event*\n",
    "- Para el videojuego mencionado en el grafdo, se ha empleado *vgo:GameGenre* para describir su género\n",
    "\n",
    "No se han empleado ontologías que describan a los personajes como personajes de una serie animada ni como peronajes de ficción ya que se ha considerado que no era pertinente para la aplicación que se le pretenderá dar a los datos del grafo."
   ]
  },
  {
   "cell_type": "code",
   "execution_count": null,
   "metadata": {},
   "outputs": [
    {
     "data": {
      "text/plain": [
       "'@prefix dpedia: <http://dbpedia.org/resource/> .\\n@prefix foaf: <http://xmlns.com/foaf/0.1/> .\\n@prefix owl: <http://www.w3.org/2002/07/owl#> .\\n@prefix rdf: <http://www.w3.org/1999/02/22-rdf-syntax-ns#> .\\n@prefix rdfs: <http://www.w3.org/2000/01/rdf-schema#> .\\n@prefix schema1: <http://schema.org/> .\\n@prefix uo: <http://uniovi.es/miw/uo283069/entity/> .\\n@prefix uop: <http://uniovi.es/miw/uo283069/property/> .\\n@prefix vgo: <http://purl.org/net/VideoGameOntology#> .\\n@prefix wd: <http://www.wikidata.org/entity/> .\\n@prefix xsd: <http://www.w3.org/2001/XMLSchema#> .\\n\\nuo:Afx-n-nPrv-View.CL a uo:ComputerCode ;\\n    schema1:creator uo:Lain_Iwakura ;\\n    schema1:name \"Afx-n-nPrv-View.CL\" ;\\n    schema1:programmingLanguage wd:Q849146 ;\\n    uop:references wd:Q312 ;\\n    rdfs:comment \"Afx-n-nPrv-View.CL is the source for a code walker.\" ;\\n    foaf:image <https://lain.wiki/images/a/ad/Walker.jpg> .\\n\\nuo:CRowView.CL a uo:ComputerCode ;\\n    schema1:creator uo:Lain_Iwakura ;\\n    schema1:name \"CRowView.CL\" ;\\n    schema1:programmingLanguage wd:Q849146 ;\\n    uop:references wd:Q244615 ;\\n    rdfs:comment \"CRowView.CL contains code for John Conway\\'s Game of Life.\" ;\\n    foaf:image <https://lain.wiki/images/5/5e/Life.jpg> .\\n\\nuo:KarlHaushofer a schema1:Person ;\\n    schema1:deathPlace uo:Tokyo ;\\n    schema1:employmentUnit uo:MenInBlack ;\\n    schema1:hasOccupation [ a schema1:Occupation ;\\n            schema1:name \"Spy\" ;\\n            schema1:occupationalCategory \"33-3021.00\" ] ;\\n    schema1:name \"Karl Haushofer\"@en ;\\n    uop:characterRole \"Secondary Character\" ;\\n    foaf:age 32 ;\\n    foaf:gender \"Male\" .\\n\\nuo:KensingtonExperiment a schema1:Event ;\\n    schema1:director uo:ProfessorHodgeson ;\\n    schema1:location uo:Tokyo ;\\n    schema1:name \"Kensington Experiment\" ;\\n    uop:references wd:Q496036 ;\\n    rdfs:comment \"An experiment conducted by Professor Hodgeson  to harness the latent para-psychological abilities of children that resulted in multiple casualties.\" .\\n\\nuo:LinSuiXi a schema1:Person ;\\n    schema1:deathPlace uo:Tokyo ;\\n    schema1:employmentUnit uo:MenInBlack ;\\n    schema1:hasOccupation [ a schema1:Occupation ;\\n            schema1:name \"Spy\" ;\\n            schema1:occupationalCategory \"33-3021.00\" ] ;\\n    schema1:name \"Lin Sui-Xi\"@en ;\\n    uop:characterRole \"Secondary Character\" ;\\n    foaf:age 35 ;\\n    foaf:gender \"Male\" .\\n\\nuo:Mebious a schema1:WebPage ;\\n    schema1:creator uo:Lain_Iwakura ;\\n    schema1:image <https://lain.wiki/images/7/75/Mobious.co.uk.png> ;\\n    schema1:name \"Mebious.co.uk\" ;\\n    schema1:significantLink <http://www.mebious.co.uk/>,\\n        <http://www.mebious.mobi/> ;\\n    rdfs:comment \"A website on the Wired.\" .\\n\\nuo:PHANTOMa a schema1:VideoGame ;\\n    vgo:hasGameGenere uo:MMORPG ;\\n    schema1:device uo:KIDS ;\\n    schema1:name \"PHANTOMa\" ;\\n    foaf:image <https://lain.wiki/wiki/File:1669_900.png> .\\n\\nuo:CommunicationOperatingSystem a dpedia:Operating_system ;\\n    rdfs:label \"Communication Operating System\" ;\\n    rdfs:comment \"An operating system designed for communication purposes.\" .\\n\\nuo:KIDS a dpedia:Electrical_device ;\\n    schema1:creator uo:ProfessorHodgeson ;\\n    schema1:image <https://lain.wiki/images/d/de/KIDS_Prototype.jpeg> ;\\n    schema1:location uo:Tokyo ;\\n    schema1:name \"KIDS System\" .\\n\\nuo:KnightsoftheEasternCalculus a schema1:Organization ;\\n    schema1:location uo:Tokyo ;\\n    schema1:name \"Knights of the Eastern Calculus\" ;\\n    uop:references wd:Q6422517 .\\n\\nuo:MMORPG a vgo:GameGenre ;\\n    rdfs:label \"MMORPG\" ;\\n    rdf:subclassOf vgo:GameGenre ;\\n    rdfs:comment \"A genre of video games that are played online with a large number of players.\" ;\\n    owl:sameAs wd:Q175173 .\\n\\nuo:Navi2 a uo:NAVI ;\\n    schema1:manufacturer uo:TachibanaLabs ;\\n    schema1:name \"NAVI\" ;\\n    schema1:operatingSystem uo:CoplandOS ;\\n    schema1:version 2 ;\\n    uop:hasComponent uo:PsycheChip ;\\n    uop:references wd:Q306381 ;\\n    uop:usesProtocol uo:Protocol7 ;\\n    owl:sameAs wd:Q380574 .\\n\\nuo:Navi3 a uo:NAVI ;\\n    schema1:alternateName \"Handheld NAVI\" ;\\n    schema1:manufacturer uo:TachibanaLabs ;\\n    schema1:name \"HandiNAVI\" ;\\n    schema1:operatingSystem uo:CoplandOS ;\\n    schema1:version 3 ;\\n    uop:references wd:Q420772 .\\n\\nuo:NaviV1 a uo:NAVI ;\\n    schema1:manufacturer uo:TachibanaLabs ;\\n    schema1:name \"Child\\'s NAVI\" ;\\n    schema1:operatingSystem uo:CommunicationOperatingSystem ;\\n    schema1:version 1 ;\\n    uop:references wd:Q2141790 ;\\n    uop:usesProtocol uo:Protocol6 .\\n\\nuo:Protocol6 a wd:Q15836568 ;\\n    schema1:name \"Protocol 6\" ;\\n    schema1:version 6 ;\\n    uop:grantsAccessTo uo:TheWired ;\\n    uop:references wd:Q2551624 .\\n\\nuo:PsycheChip a schema1:Product ;\\n    schema1:manufacturer uo:KnightsoftheEasternCalculus ;\\n    schema1:name \"Psyche Chip\" ;\\n    uop:usesProtocol uo:Protocol7 .\\n\\nuo:SchumannResonances a wd:Q1293220 ;\\n    schema1:name \"Schumann Resonances\" ;\\n    uop:references wd:Q916906 ;\\n    rdfs:comment \"A set of spectrum peaks in the uotremely low frequency portion of the Earth\\'s electromagnetic field spectrum.\" ;\\n    owl:sameAs wd:Q916906 .\\n\\nuo:CoplandOS a dpedia:Operating_system ;\\n    schema1:manufacturer uo:TachibanaLabs ;\\n    schema1:name \"Copland OS\" ;\\n    uop:references wd:Q1131259 .\\n\\nuo:MasamiEiri a schema1:Person,\\n        uo:God ;\\n    schema1:deathPlace uo:Tokyo ;\\n    schema1:employmentUnit uo:TachibanaLabs ;\\n    schema1:hasOccupation [ a schema1:Occupation ;\\n            schema1:name \"Computer Programmer\" ;\\n            schema1:occupationalCategory \"15-1251.00\" ] ;\\n    schema1:name \"Masami Eiri\"@en,\\n        \"英利 政美\"@ja ;\\n    uop:characterRole \"Antagonist\" ;\\n    foaf:age 30 ;\\n    foaf:gender \"Male\" .\\n\\nuo:MenInBlack a schema1:Organization ;\\n    schema1:founder [ a schema1:Person ;\\n            schema1:employmentUnit uo:TachibanaLabs ;\\n            schema1:name \"Kurosawa\"@en,\\n                \"黒沢\"@ja ;\\n            foaf:gender \"Male\" ] ;\\n    schema1:name \"Men in Black\" ;\\n    uop:location uo:Tokyo ;\\n    uop:references wd:Q51410 .\\n\\nuo:MihoIwakura a schema1:Person ;\\n    schema1:children uo:Lain_Iwakura,\\n        uo:MikaIwakura ;\\n    schema1:employmentUnit uo:TachibanaLabs ;\\n    schema1:name \"Miho Iwakura\"@en,\\n        \"岩倉 美穂\"@ja ;\\n    uop:characterRole \"Secondary Character\" ;\\n    foaf:age 38 ;\\n    foaf:gender \"Female\" .\\n\\nuo:ProfessorHodgeson a schema1:Person ;\\n    schema1:deathPlace uo:Tokyo ;\\n    schema1:employmentUnit uo:TachibanaLabs ;\\n    schema1:hasOccupation [ a schema1:Occupation ;\\n            schema1:name \"Scientist\" ;\\n            schema1:occupationalCategory \"19-1029.01\" ] ;\\n    schema1:name \"Professor Hodgeson\"@en ;\\n    uop:characterRole \"Secondary Character\" ;\\n    foaf:age 60 ;\\n    foaf:gender \"Male\" .\\n\\nuo:Protocol7 a wd:Q15836568 ;\\n    schema1:creator uo:MasamiEiri ;\\n    schema1:image <https://lain.wiki/images/6/6f/Eiri_masami_and_protocol_7.jpeg> ;\\n    schema1:name \"Protocol 7\" ;\\n    schema1:version 7 ;\\n    uo:worksThrough uo:SchumannResonances ;\\n    uop:grantsAccessTo uo:TheWired ;\\n    uop:references wd:Q28823658 .\\n\\nuo:TheWired a dpedia:Computer_network ;\\n    schema1:name \"The Wired\" ;\\n    uop:references wd:Q466 ;\\n    rdfs:subClassOf dpedia:Virtual_reality .\\n\\nuo:YasuoIwakura a schema1:Person ;\\n    schema1:children uo:Lain_Iwakura,\\n        uo:MikaIwakura ;\\n    schema1:employmentUnit uo:TachibanaLabs ;\\n    schema1:hasOccupation [ a schema1:Occupation ;\\n            schema1:name \"Computer Programmer\" ;\\n            schema1:occupationalCategory \"15-1251.00\" ] ;\\n    schema1:name \"Yasuo Iwakura\"@en,\\n        \"岩倉 康男\"@ja ;\\n    uop:characterRole \"Secondary Character\" ;\\n    foaf:age 45 ;\\n    foaf:gender \"Male\" .\\n\\nuo:MikaIwakura a schema1:Person ;\\n    schema1:name \"Mika Iwakura\"@en,\\n        \"岩倉 美香\"@ja ;\\n    schema1:parent uo:MihoIwakura,\\n        uo:YasuoIwakura ;\\n    schema1:sibling uo:Lain_Iwakura ;\\n    uop:characterRole \"Secondary Character\" ;\\n    foaf:age 16 ;\\n    foaf:gender \"Female\" .\\n\\nuo:NAVI a dpedia:Computer ;\\n    schema1:manufacturer uo:TachibanaLabs ;\\n    schema1:name \"Knowledge Navigator\",\\n        \"NAVI\" ;\\n    uop:versions ( uo:NaviV1 uo:Navi2 uo:Navi3 ) .\\n\\nuo:Lain_Iwakura a schema1:Person ;\\n    schema1:follows uo:MasamiEiri ;\\n    schema1:name \"Lain Iwakura\"@en,\\n        \"岩倉 レイン\"@ja ;\\n    schema1:parent uo:MihoIwakura,\\n        uo:YasuoIwakura ;\\n    schema1:sibling uo:MikaIwakura ;\\n    uop:characterRole \"Main Character\" ;\\n    owl:sameAs wd:Q112631434 ;\\n    foaf:age 14 ;\\n    foaf:gender \"Female\" .\\n\\nuo:Tokyo a schema1:City ;\\n    rdfs:label \"Tokyo\" ;\\n    schema1:alternateName \"東京都\"@ja ;\\n    schema1:containedInPlace wd:Q17 ;\\n    schema1:latitude \"35.6895\"^^xsd:float ;\\n    schema1:longitude \"139.6917\"^^xsd:float ;\\n    owl:sameAs wd:Q1490 .\\n\\nuo:TachibanaLabs a schema1:Organization ;\\n    schema1:location uo:Tokyo ;\\n    schema1:name \"Tachibana General Laboratories\" .\\n\\n'"
      ]
     },
     "execution_count": 14,
     "metadata": {},
     "output_type": "execute_result"
    }
   ],
   "source": [
    "%pip install rdflib sparqlwrapper pyshex shexer --quiet --user\n",
    "from rdflib import Graph, Literal, BNode, Namespace, RDF, URIRef\n",
    "from pyshex import ShExEvaluator\n",
    "from pyshex.evaluate import evaluate\n",
    "\n",
    "g = Graph()\n",
    "base_path = \"./lain.ttl\"\n",
    "g.parse(base_path)\n",
    "g.serialize(format=\"turtle\")"
   ]
  },
  {
   "cell_type": "markdown",
   "metadata": {},
   "source": [
    "# Ejercicio 2 - Despliegue datos RDF + consultas SPARQL\n",
    "\n",
    "- URL pública del endpoint de Apache Jena Fuseki: http://156.35.95.43:3030/SerialExperimentsLain/sparql\n",
    "- URL pública del endpoint de Blazergaph: http://156.35.95.43:9999/blazegraph/namespace/kb/sparql (puede que no funcione por errores del servidor, fuseki en cambio si que funciona)\n",
    "\n",
    "\n",
    "## Primera consulta: Familia\n",
    "- Objetivo: Obtener los datos de personajes que formen una familia (padres, hijos o hermanos)\n",
    "- Consulta NO FEDERADA\n",
    "### Query:\n",
    "```SPARQL\n",
    "PREFIX rdf: <http://www.w3.org/1999/02/22-rdf-syntax-ns#>\n",
    "PREFIX rdfs: <http://www.w3.org/2000/01/rdf-schema#>\n",
    "PREFIX schema: <http://schema.org/>\n",
    "\n",
    "SELECT DISTINCT ?person ?personName (GROUP_CONCAT(DISTINCT ?relation; separator=\", \") AS ?relations) (GROUP_CONCAT(DISTINCT ?relativeName; separator=\", \") AS ?relatives)\n",
    "WHERE {\n",
    "  ?person schema:name ?personName .\n",
    "  FILTER (LANG(?personName) = \"en\")\n",
    "\n",
    "  {\n",
    "    ?person schema:parent ?relative .\n",
    "    ?relative schema:name ?relativeName .\n",
    "    FILTER (LANG(?relativeName) = \"en\")\n",
    "    BIND(\"Parent\" AS ?relation)\n",
    "  }\n",
    "  UNION\n",
    "  {\n",
    "    ?person schema:sibling ?relative .\n",
    "    ?relative schema:name ?relativeName .\n",
    "    FILTER (LANG(?relativeName) = \"en\")\n",
    "    BIND(\"Sibling\" AS ?relation)\n",
    "  }\n",
    "  UNION\n",
    "  {\n",
    "    ?person schema:children ?relative .\n",
    "    ?relative schema:name ?relativeName .\n",
    "    FILTER (LANG(?relativeName) = \"en\")\n",
    "    BIND(\"Child\" AS ?relation)\n",
    "  }\n",
    "}\n",
    "GROUP BY ?person ?personName\n",
    "ORDER BY ?personName ?relation\n",
    "\n",
    "```"
   ]
  },
  {
   "cell_type": "code",
   "execution_count": 7,
   "metadata": {},
   "outputs": [
    {
     "name": "stdout",
     "output_type": "stream",
     "text": [
      "Person: http://example.org/Lain_Iwakura, Name: Lain Iwakura, Relations: Parent, Sibling, Relatives: Yasuo Iwakura, Miho Iwakura, Mika Iwakura\n",
      "Person: http://example.org/MihoIwakura, Name: Miho Iwakura, Relations: Child, Relatives: Mika Iwakura, Lain Iwakura\n",
      "Person: http://example.org/MikaIwakura, Name: Mika Iwakura, Relations: Parent, Sibling, Relatives: Miho Iwakura, Yasuo Iwakura, Lain Iwakura\n",
      "Person: http://example.org/YasuoIwakura, Name: Yasuo Iwakura, Relations: Child, Relatives: Mika Iwakura, Lain Iwakura\n"
     ]
    }
   ],
   "source": [
    "str_query = \"\"\"\n",
    "PREFIX rdf: <http://www.w3.org/1999/02/22-rdf-syntax-ns#>\n",
    "PREFIX rdfs: <http://www.w3.org/2000/01/rdf-schema#>\n",
    "PREFIX schema: <http://schema.org/>\n",
    "\n",
    "SELECT DISTINCT ?person ?personName (GROUP_CONCAT(DISTINCT ?relation; separator=\", \") AS ?relations) (GROUP_CONCAT(DISTINCT ?relativeName; separator=\", \") AS ?relatives)\n",
    "WHERE {\n",
    "  ?person schema:name ?personName .\n",
    "  FILTER (LANG(?personName) = \"en\")\n",
    "\n",
    "  {\n",
    "    ?person schema:parent ?relative .\n",
    "    ?relative schema:name ?relativeName .\n",
    "    FILTER (LANG(?relativeName) = \"en\")\n",
    "    BIND(\"Parent\" AS ?relation)\n",
    "  }\n",
    "  UNION\n",
    "  {\n",
    "    ?person schema:sibling ?relative .\n",
    "    ?relative schema:name ?relativeName .\n",
    "    FILTER (LANG(?relativeName) = \"en\")\n",
    "    BIND(\"Sibling\" AS ?relation)\n",
    "  }\n",
    "  UNION\n",
    "  {\n",
    "    ?person schema:children ?relative .\n",
    "    ?relative schema:name ?relativeName .\n",
    "    FILTER (LANG(?relativeName) = \"en\")\n",
    "    BIND(\"Child\" AS ?relation)\n",
    "  }\n",
    "}\n",
    "GROUP BY ?person ?personName\n",
    "ORDER BY ?personName ?relation\n",
    "\"\"\"\n",
    "query_result = g.query(str_query)\n",
    "\n",
    "# Los resultados se recorren por filas, quizá te recuerde a resultsets de librerías para ejecutar consultas SQL.\n",
    "# Cada fila contiene objeto de dominio de rdflib (URIRef, Literal...) en variables que se llaman exactamente como los nombres de variables en la consulta SPARQL\n",
    "for a_row in query_result:\n",
    "  print(f\"Person: {a_row.person}, Name: {a_row.personName}, Relations: {a_row.relations}, Relatives: {a_row.relatives}\")"
   ]
  },
  {
   "cell_type": "markdown",
   "metadata": {},
   "source": [
    "## Segunda consulta: Referencias\n",
    "\n",
    "\n",
    "```SPARQL\n",
    "PREFIX rdf: <http://www.w3.org/1999/02/22-rdf-syntax-ns#>\n",
    "PREFIX rdfs: <http://www.w3.org/2000/01/rdf-schema#>\n",
    "PREFIX schema: <http://schema.org/>\n",
    "PREFIX ex: <http://example.org/>\n",
    "\n",
    "SELECT ?object ?name ?subject\n",
    "WHERE {\n",
    "  ?object ex:references ?subject .\n",
    "  ?object schema:name ?name . \n",
    "}\n",
    "```"
   ]
  },
  {
   "cell_type": "code",
   "execution_count": 4,
   "metadata": {},
   "outputs": [
    {
     "name": "stdout",
     "output_type": "stream",
     "text": [
      "Object: http://example.org/Protocol6, Name: Protocol 6, Subject: http://www.wikidata.org/entity/Q2551624\n",
      "Object: http://example.org/Protocol7, Name: Protocol 7, Subject: http://www.wikidata.org/entity/Q28823658\n",
      "Object: http://example.org/KnightsoftheEasternCalculus, Name: Knights of the Eastern Calculus, Subject: http://www.wikidata.org/entity/Q6422517\n",
      "Object: http://example.org/CoplandOS, Name: Copland OS, Subject: http://www.wikidata.org/entity/Q1131259\n",
      "Object: http://example.org/NaviV1, Name: Child's NAVI, Subject: http://www.wikidata.org/entity/Q2141790\n",
      "Object: http://example.org/Navi2, Name: NAVI, Subject: http://www.wikidata.org/entity/Q306381\n",
      "Object: http://example.org/Navi3, Name: HandiNAVI, Subject: http://www.wikidata.org/entity/Q420772\n",
      "Object: http://example.org/TheWired, Name: The Wired, Subject: http://www.wikidata.org/entity/Q466\n",
      "Object: http://example.org/KensingtonExperiment, Name: Kensington Experiment, Subject: http://www.wikidata.org/entity/Q496036\n",
      "Object: http://example.org/MenInBlack, Name: Men in Black, Subject: http://www.wikidata.org/entity/Q51410\n",
      "Object: http://example.org/CRowView.CL, Name: CRowView.CL, Subject: http://www.wikidata.org/entity/Q244615\n",
      "Object: http://example.org/Afx-n-nPrv-View.CL, Name: Afx-n-nPrv-View.CL, Subject: http://www.wikidata.org/entity/Q312\n"
     ]
    }
   ],
   "source": [
    "str_query =\"\"\"\n",
    "PREFIX rdf: <http://www.w3.org/1999/02/22-rdf-syntax-ns#>\n",
    "PREFIX rdfs: <http://www.w3.org/2000/01/rdf-schema#>\n",
    "PREFIX schema: <http://schema.org/>\n",
    "PREFIX ex: <http://example.org/>\n",
    "\n",
    "SELECT ?object ?name ?subject\n",
    "WHERE {\n",
    "  ?object ex:references ?subject .\n",
    "  ?object schema:name ?name . \n",
    "}\n",
    "\"\"\"\n",
    "query_result = g.query(str_query)\n",
    "\n",
    "for a_row in query_result:\n",
    "  print(f\"Object: {a_row.object}, Name: {a_row.name}, Subject: {a_row.subject}\")"
   ]
  },
  {
   "cell_type": "markdown",
   "metadata": {},
   "source": [
    "## Tercera consulta: Federada\n",
    "- Objetivo: Obtener, en base a la consulta anterior, los nombres de los sujetos en Wikidata"
   ]
  },
  {
   "cell_type": "code",
   "execution_count": 3,
   "metadata": {},
   "outputs": [
    {
     "name": "stdout",
     "output_type": "stream",
     "text": [
      "http://uniovi.es/miw/uo283069/entity/Protocol6       Protocol 6       http://www.wikidata.org/entity/Q2551624       IPv6       \n",
      "http://uniovi.es/miw/uo283069/entity/Protocol7       Protocol 7       http://www.wikidata.org/entity/Q28823658       TP/IX       \n",
      "http://uniovi.es/miw/uo283069/entity/KnightsoftheEasternCalculus       Knights of the Eastern Calculus       http://www.wikidata.org/entity/Q6422517       Knights of the Lambda Calculus       \n",
      "http://uniovi.es/miw/uo283069/entity/CoplandOS       Copland OS       http://www.wikidata.org/entity/Q1131259       Copland       \n",
      "http://uniovi.es/miw/uo283069/entity/NaviV1       Child's NAVI       http://www.wikidata.org/entity/Q2141790       Twentieth Anniversary Macintosh       \n",
      "http://uniovi.es/miw/uo283069/entity/Navi2       NAVI       http://www.wikidata.org/entity/Q306381       iMac G3       \n",
      "http://uniovi.es/miw/uo283069/entity/Navi3       HandiNAVI       http://www.wikidata.org/entity/Q420772       Newton       \n",
      "http://uniovi.es/miw/uo283069/entity/TheWired       The Wired       http://www.wikidata.org/entity/Q466       World Wide Web       \n",
      "http://uniovi.es/miw/uo283069/entity/KensingtonExperiment       Kensington Experiment       http://www.wikidata.org/entity/Q496036       Philadelphia Experiment       \n",
      "http://uniovi.es/miw/uo283069/entity/MenInBlack       Men in Black       http://www.wikidata.org/entity/Q51410       Men in black       \n",
      "http://uniovi.es/miw/uo283069/entity/CRowView.CL       CRowView.CL       http://www.wikidata.org/entity/Q244615       Conway's Game of Life       \n",
      "http://uniovi.es/miw/uo283069/entity/Afx-n-nPrv-View.CL       Afx-n-nPrv-View.CL       http://www.wikidata.org/entity/Q312       Apple       \n",
      "http://uniovi.es/miw/uo283069/entity/SchumannResonances       Schumann Resonances       http://www.wikidata.org/entity/Q916906       Schumann resonances       \n",
      "--------\n"
     ]
    }
   ],
   "source": [
    "from SPARQLWrapper import SPARQLWrapper, JSON\n",
    "\n",
    "sparql = SPARQLWrapper(\"http://156.35.95.43:3030/SerialExperimentsLain/sparql\")\n",
    "\n",
    "str_query =\"\"\"\n",
    "PREFIX rdf: <http://www.w3.org/1999/02/22-rdf-syntax-ns#>\n",
    "PREFIX rdfs: <http://www.w3.org/2000/01/rdf-schema#>\n",
    "PREFIX schema: <http://schema.org/>\n",
    "PREFIX uo: <http://uniovi.es/miw/uo283069/entity/> \n",
    "PREFIX uop: <http://uniovi.es/miw/uo283069/property/> \n",
    "PREFIX wd: <http://www.wikidata.org/entity/>\n",
    "PREFIX wdt: <http://www.wikidata.org/prop/direct/>\n",
    "PREFIX wikibase: <http://wikiba.se/ontology#>\n",
    "PREFIX bd: <http://www.bigdata.com/rdf#>\n",
    "\n",
    "SELECT ?object ?name ?subject ?subjectLabel\n",
    "WHERE {\n",
    "    ?object uop:references ?subject .\n",
    "    ?object schema:name ?name . \n",
    "    \n",
    "    SERVICE <https://query.wikidata.org/sparql> {\n",
    "        ?subject rdfs:label ?subjectLabel .\n",
    "        FILTER (LANG(?subjectLabel) = \"en\")\n",
    "    }\n",
    "}\n",
    "\"\"\"\n",
    "\n",
    "sparql.setQuery(str_query)\n",
    "\n",
    "sparql.setReturnFormat(JSON)\n",
    "results = sparql.query().convert()\n",
    "for result in results[\"results\"][\"bindings\"]:\n",
    "    for a_var_key in result:\n",
    "      print(result[a_var_key][\"value\"], end=\"       \")\n",
    "    print()\n",
    "print(\"--------\")"
   ]
  },
  {
   "cell_type": "markdown",
   "metadata": {},
   "source": [
    "## Cuarta consula: Relaciones entre nodos\n",
    "\n",
    "- Objetivo (un poco complejo): Comprobar si hay o no una relación entre dos entidades, para ello utilizaremos el oeprador del wildcard <>.\n",
    "- No federada"
   ]
  },
  {
   "cell_type": "code",
   "execution_count": 67,
   "metadata": {},
   "outputs": [
    {
     "name": "stdout",
     "output_type": "stream",
     "text": [
      "There is a connection between MenInBlack and God.\n"
     ]
    }
   ],
   "source": [
    "\"\"\"\n",
    "Explicación:\n",
    "En cualquier tripleta, el predicado tiene que obligatoriamente ser <> o no serlo,\n",
    "es decir (<>|!<>), si además a esto le añadimos el operador de relación inversa (^),\n",
    "podemos decir que, en una relación entre dos entidades que estén conectadas, debe existir\n",
    "una relación tal que (<>|!<>)|^(<>|!<>). Esto sumado al operador * que indica que \n",
    "la relación puede ser de cualquier longitud, nos permite saber si dos entidades están\n",
    "conectadas o no. (En este caso, como el grafo es epqueño y todo está conectado, \n",
    "siempre va a haber una conexión entre dos entidades por muy larga que sea).\n",
    "\"\"\"\n",
    "ask_query = \"\"\"\n",
    "ASK {\n",
    "    ex:MenInBlack ((<>|!<>)|^(<>|!<>))* ex:God\n",
    "}\n",
    "\"\"\"\n",
    "\n",
    "ask_result = g.query(ask_query)\n",
    "\n",
    "if ask_result.askAnswer:\n",
    "    print(\"There is a connection between MenInBlack and God.\")\n",
    "else:\n",
    "    print(\"There is no connection between MenInBlack and God.\")"
   ]
  },
  {
   "cell_type": "markdown",
   "metadata": {},
   "source": [
    "## Quinta consulta: Lugares de trabajo\n",
    "- Objetivo: obtener los lugares de trabajo de cada persona que tenga uno, estos trabajos se representan con nodos anónimos .\n",
    "- No federada"
   ]
  },
  {
   "cell_type": "code",
   "execution_count": 10,
   "metadata": {},
   "outputs": [
    {
     "name": "stdout",
     "output_type": "stream",
     "text": [
      "Japanese Name: 岩倉 康男, English Name: Yasuo Iwakura, Occupation: Computer Programmer, Place of Occupation: http://example.org/TachibanaLabs\n",
      "\n",
      "Japanese Name: 英利 政美, English Name: Masami Eiri, Occupation: Computer Programmer, Place of Occupation: http://example.org/TachibanaLabs\n",
      "\n",
      "Japanese Name: None, English Name: Professor Hodgeson, Occupation: Scientist, Place of Occupation: None\n",
      "\n",
      "Japanese Name: None, English Name: Karl Haushofer, Occupation: Spy, Place of Occupation: None\n",
      "\n",
      "Japanese Name: None, English Name: Lin Sui-Xi, Occupation: Spy, Place of Occupation: None\n",
      "\n"
     ]
    }
   ],
   "source": [
    "query = \"\"\"\n",
    "PREFIX schema: <http://schema.org/>\n",
    "\n",
    "SELECT ?japaneseName ?personName ?occupationLabel ?placeOfOccupation\n",
    "WHERE {\n",
    "    ?person a schema:Person  .\n",
    "    OPTIONAL { ?person schema:name ?japaneseName . FILTER (LANG(?japaneseName) = \"ja\") }\n",
    "    ?person schema:name ?personName .\n",
    "    ?person schema:hasOccupation ?occupation .\n",
    "    ?occupation a schema:Occupation .\n",
    "    ?occupation schema:name ?occupationLabel .\n",
    "    OPTIONAL { ?person schema:employmentUnit ?placeOfOccupation }\n",
    "\n",
    "    FILTER (LANG(?personName) = \"en\")\n",
    "}\n",
    "\"\"\"\n",
    "\n",
    "query_result = g.query(query)\n",
    "\n",
    "for a_row in query_result:\n",
    "    print(f\"Japanese Name: {a_row.japaneseName}, English Name: {a_row.personName}, Occupation: {a_row.occupationLabel}, Place of Occupation: {a_row.placeOfOccupation}\\n\")"
   ]
  },
  {
   "cell_type": "markdown",
   "metadata": {},
   "source": [
    "## Sexta consulta - Información sobre un perosnaje\n",
    "- Objetivo: construir una consulta federada que nos permita obtener información de Wikidata sobre un personaje del grafo.\n",
    "- Ferderada"
   ]
  },
  {
   "cell_type": "code",
   "execution_count": 12,
   "metadata": {},
   "outputs": [
    {
     "name": "stdout",
     "output_type": "stream",
     "text": [
      "http://uniovi.es/miw/uo283069/entity/Lain_Iwakura       Lain Iwakura       http://schema.org/version       2295876459       \n",
      "http://uniovi.es/miw/uo283069/entity/Lain_Iwakura       Lain Iwakura       http://schema.org/dateModified       2025-01-07T14:41:36Z       \n",
      "http://uniovi.es/miw/uo283069/entity/Lain_Iwakura       Lain Iwakura       http://schema.org/description       character in Serial Experiments Lain       \n",
      "http://uniovi.es/miw/uo283069/entity/Lain_Iwakura       Lain Iwakura       http://schema.org/description       karakter utama pada Serial Experiments Lain       \n",
      "http://uniovi.es/miw/uo283069/entity/Lain_Iwakura       Lain Iwakura       http://schema.org/description       personaggio immaginario e protagonista di Serial Experiments Lain       \n",
      "http://uniovi.es/miw/uo283069/entity/Lain_Iwakura       Lain Iwakura       http://www.w3.org/2000/01/rdf-schema#label       Lain Iwakura       \n",
      "http://uniovi.es/miw/uo283069/entity/Lain_Iwakura       Lain Iwakura       http://www.w3.org/2000/01/rdf-schema#label       岩倉 玲音       \n",
      "http://uniovi.es/miw/uo283069/entity/Lain_Iwakura       Lain Iwakura       http://www.w3.org/2000/01/rdf-schema#label       Lain Iwakura       \n",
      "http://uniovi.es/miw/uo283069/entity/Lain_Iwakura       Lain Iwakura       http://www.w3.org/2000/01/rdf-schema#label       Lain Iwakura       \n",
      "http://uniovi.es/miw/uo283069/entity/Lain_Iwakura       Lain Iwakura       http://www.w3.org/2000/01/rdf-schema#label       Lain Iwakura       \n",
      "http://uniovi.es/miw/uo283069/entity/Lain_Iwakura       Lain Iwakura       http://www.w3.org/2000/01/rdf-schema#label       Lain Iwakura       \n",
      "http://uniovi.es/miw/uo283069/entity/Lain_Iwakura       Lain Iwakura       http://www.w3.org/2000/01/rdf-schema#label       Lain Iwakura       \n",
      "http://uniovi.es/miw/uo283069/entity/Lain_Iwakura       Lain Iwakura       http://www.w3.org/2000/01/rdf-schema#label       Lain Iwakura       \n",
      "http://uniovi.es/miw/uo283069/entity/Lain_Iwakura       Lain Iwakura       http://www.w3.org/2000/01/rdf-schema#label       لاين ئيواكورا       \n",
      "http://uniovi.es/miw/uo283069/entity/Lain_Iwakura       Lain Iwakura       http://www.w3.org/2004/02/skos/core#altLabel       Lain       \n",
      "http://uniovi.es/miw/uo283069/entity/Lain_Iwakura       Lain Iwakura       http://wikiba.se/ontology#statements       24       \n",
      "http://uniovi.es/miw/uo283069/entity/Lain_Iwakura       Lain Iwakura       http://wikiba.se/ontology#sitelinks       0       \n",
      "http://uniovi.es/miw/uo283069/entity/Lain_Iwakura       Lain Iwakura       http://wikiba.se/ontology#identifiers       13       \n",
      "http://uniovi.es/miw/uo283069/entity/Lain_Iwakura       Lain Iwakura       http://www.wikidata.org/prop/direct/P21       http://www.wikidata.org/entity/Q6581072       \n",
      "http://uniovi.es/miw/uo283069/entity/Lain_Iwakura       Lain Iwakura       http://www.wikidata.org/prop/direct/P31       http://www.wikidata.org/entity/Q15632617       \n",
      "http://uniovi.es/miw/uo283069/entity/Lain_Iwakura       Lain Iwakura       http://www.wikidata.org/prop/direct/P31       http://www.wikidata.org/entity/Q80447738       \n",
      "http://uniovi.es/miw/uo283069/entity/Lain_Iwakura       Lain Iwakura       http://www.wikidata.org/prop/P21       http://www.wikidata.org/entity/statement/Q112631434-629af88c-4a07-6855-c994-51244e6c28a2       \n",
      "http://uniovi.es/miw/uo283069/entity/Lain_Iwakura       Lain Iwakura       http://www.wikidata.org/prop/P31       http://www.wikidata.org/entity/statement/Q112631434-39921537-A9D6-4905-9F7F-2C462EFBBB4A       \n",
      "http://uniovi.es/miw/uo283069/entity/Lain_Iwakura       Lain Iwakura       http://www.wikidata.org/prop/P31       http://www.wikidata.org/entity/statement/Q112631434-ab0e9fdc-4cb2-ccbc-1e90-fc5689a59265       \n",
      "http://uniovi.es/miw/uo283069/entity/Lain_Iwakura       Lain Iwakura       http://www.wikidata.org/prop/direct/P1340       http://www.wikidata.org/entity/Q17122705       \n",
      "http://uniovi.es/miw/uo283069/entity/Lain_Iwakura       Lain Iwakura       http://www.wikidata.org/prop/direct/P1441       http://www.wikidata.org/entity/Q858387       \n",
      "http://uniovi.es/miw/uo283069/entity/Lain_Iwakura       Lain Iwakura       http://www.wikidata.org/prop/direct/P1441       http://www.wikidata.org/entity/Q15121740       \n",
      "http://uniovi.es/miw/uo283069/entity/Lain_Iwakura       Lain Iwakura       http://www.wikidata.org/prop/direct/P1814       いわくら れいん       \n",
      "http://uniovi.es/miw/uo283069/entity/Lain_Iwakura       Lain Iwakura       http://www.wikidata.org/prop/direct/P1853       http://www.wikidata.org/entity/Q19831454       \n",
      "http://uniovi.es/miw/uo283069/entity/Lain_Iwakura       Lain Iwakura       http://www.wikidata.org/prop/direct/P1884       http://www.wikidata.org/entity/Q2367101       \n",
      "http://uniovi.es/miw/uo283069/entity/Lain_Iwakura       Lain Iwakura       http://www.wikidata.org/prop/direct/P2671       /g/121slkfs       \n",
      "http://uniovi.es/miw/uo283069/entity/Lain_Iwakura       Lain Iwakura       http://www.wikidata.org/prop/direct/P3150       http://www.wikidata.org/entity/Q2695       \n",
      "http://uniovi.es/miw/uo283069/entity/Lain_Iwakura       Lain Iwakura       http://www.wikidata.org/prop/direct/P4085       2219       \n",
      "http://uniovi.es/miw/uo283069/entity/Lain_Iwakura       Lain Iwakura       http://www.wikidata.org/prop/direct/P5648       2338       \n",
      "http://uniovi.es/miw/uo283069/entity/Lain_Iwakura       Lain Iwakura       http://www.wikidata.org/prop/direct/P5847       1087       \n",
      "http://uniovi.es/miw/uo283069/entity/Lain_Iwakura       Lain Iwakura       http://www.wikidata.org/prop/direct/P5863       Lain-Iwakura.Serial-Experiments-Lain       \n",
      "http://uniovi.es/miw/uo283069/entity/Lain_Iwakura       Lain Iwakura       http://www.wikidata.org/prop/direct/P6262       sel:Lain_Iwakura       \n",
      "http://uniovi.es/miw/uo283069/entity/Lain_Iwakura       Lain Iwakura       http://www.wikidata.org/prop/direct/P6262       hero:Lain_Iwakura       \n",
      "http://uniovi.es/miw/uo283069/entity/Lain_Iwakura       Lain Iwakura       http://www.wikidata.org/prop/direct/P6296       3496       \n",
      "http://uniovi.es/miw/uo283069/entity/Lain_Iwakura       Lain Iwakura       http://www.wikidata.org/prop/direct/P7013       15795       \n",
      "http://uniovi.es/miw/uo283069/entity/Lain_Iwakura       Lain Iwakura       http://www.wikidata.org/prop/direct/P8419       Iwakura Lain       \n",
      "http://uniovi.es/miw/uo283069/entity/Lain_Iwakura       Lain Iwakura       http://www.wikidata.org/prop/direct/P9652       http://www.wikidata.org/entity/Q3800808       \n",
      "http://uniovi.es/miw/uo283069/entity/Lain_Iwakura       Lain Iwakura       http://www.wikidata.org/prop/direct/P10757       2860       \n",
      "http://uniovi.es/miw/uo283069/entity/Lain_Iwakura       Lain Iwakura       http://www.wikidata.org/prop/direct/P11352       lain-iwakura       \n",
      "http://uniovi.es/miw/uo283069/entity/Lain_Iwakura       Lain Iwakura       http://www.wikidata.org/prop/direct/P11736       2219       \n",
      "http://uniovi.es/miw/uo283069/entity/Lain_Iwakura       Lain Iwakura       http://www.wikidata.org/prop/direct-normalized/P2671       http://g.co/kg/g/121slkfs       \n",
      "http://uniovi.es/miw/uo283069/entity/Lain_Iwakura       Lain Iwakura       http://www.wikidata.org/prop/P1340       http://www.wikidata.org/entity/statement/Q112631434-0be5abfc-4ae2-5708-88d8-e1b63dfba830       \n",
      "http://uniovi.es/miw/uo283069/entity/Lain_Iwakura       Lain Iwakura       http://www.wikidata.org/prop/P1441       http://www.wikidata.org/entity/statement/Q112631434-3e01bd65-4a50-a2e5-f8c9-3f4d69934aa3       \n",
      "http://uniovi.es/miw/uo283069/entity/Lain_Iwakura       Lain Iwakura       http://www.wikidata.org/prop/P1441       http://www.wikidata.org/entity/statement/Q112631434-43683905-6C08-4AFA-A579-FC8895D01BE4       \n",
      "http://uniovi.es/miw/uo283069/entity/Lain_Iwakura       Lain Iwakura       http://www.wikidata.org/prop/P1814       http://www.wikidata.org/entity/statement/Q112631434-dd19f5d3-4a8c-4844-00a6-9f081d944ec0       \n",
      "http://uniovi.es/miw/uo283069/entity/Lain_Iwakura       Lain Iwakura       http://www.wikidata.org/prop/P1853       http://www.wikidata.org/entity/statement/Q112631434-959fb8df-4b13-2f46-5f3c-ba98ca0a2830       \n",
      "http://uniovi.es/miw/uo283069/entity/Lain_Iwakura       Lain Iwakura       http://www.wikidata.org/prop/P1884       http://www.wikidata.org/entity/statement/Q112631434-4d178695-4348-0dc9-42c7-0d241f7eb95e       \n",
      "http://uniovi.es/miw/uo283069/entity/Lain_Iwakura       Lain Iwakura       http://www.wikidata.org/prop/P2671       http://www.wikidata.org/entity/statement/Q112631434-bf3cc2fd-4880-dae2-2970-9f2bd15611b0       \n",
      "http://uniovi.es/miw/uo283069/entity/Lain_Iwakura       Lain Iwakura       http://www.wikidata.org/prop/P3150       http://www.wikidata.org/entity/statement/Q112631434-d9433522-4b65-ea67-d775-9d5a20b160da       \n",
      "http://uniovi.es/miw/uo283069/entity/Lain_Iwakura       Lain Iwakura       http://www.wikidata.org/prop/P4085       http://www.wikidata.org/entity/statement/Q112631434-80A1DF6C-7ADA-4294-9D58-587FDA498FEC       \n",
      "http://uniovi.es/miw/uo283069/entity/Lain_Iwakura       Lain Iwakura       http://www.wikidata.org/prop/P5648       http://www.wikidata.org/entity/statement/Q112631434-8B8CEEB5-1B6F-4A91-AB37-9E5C9AC5EDA7       \n",
      "http://uniovi.es/miw/uo283069/entity/Lain_Iwakura       Lain Iwakura       http://www.wikidata.org/prop/P5847       http://www.wikidata.org/entity/statement/Q112631434-b67f396f-481f-19d9-4ac1-cd5dbe0c05e7       \n",
      "http://uniovi.es/miw/uo283069/entity/Lain_Iwakura       Lain Iwakura       http://www.wikidata.org/prop/P5863       http://www.wikidata.org/entity/statement/Q112631434-2b78fe80-4cd2-7f43-8b16-2712766fa99a       \n",
      "http://uniovi.es/miw/uo283069/entity/Lain_Iwakura       Lain Iwakura       http://www.wikidata.org/prop/P6262       http://www.wikidata.org/entity/statement/Q112631434-3134C202-36CF-45E9-87FD-7D144BA53DAF       \n",
      "http://uniovi.es/miw/uo283069/entity/Lain_Iwakura       Lain Iwakura       http://www.wikidata.org/prop/P6262       http://www.wikidata.org/entity/statement/Q112631434-bde46ca6-484c-e570-1fb5-a359b631882a       \n",
      "http://uniovi.es/miw/uo283069/entity/Lain_Iwakura       Lain Iwakura       http://www.wikidata.org/prop/P6296       http://www.wikidata.org/entity/statement/Q112631434-fb11b3a3-4e6b-93b0-20ae-7069205e7957       \n",
      "http://uniovi.es/miw/uo283069/entity/Lain_Iwakura       Lain Iwakura       http://www.wikidata.org/prop/P7013       http://www.wikidata.org/entity/statement/Q112631434-b2a3eebb-4577-999f-2b96-3ea063c3ff12       \n",
      "http://uniovi.es/miw/uo283069/entity/Lain_Iwakura       Lain Iwakura       http://www.wikidata.org/prop/P8419       http://www.wikidata.org/entity/statement/Q112631434-3f5eed54-43a8-8580-a79c-b39726d1e116       \n",
      "http://uniovi.es/miw/uo283069/entity/Lain_Iwakura       Lain Iwakura       http://www.wikidata.org/prop/P9652       http://www.wikidata.org/entity/statement/Q112631434-dfbb0c5c-4a04-742a-1e81-2713db997604       \n",
      "http://uniovi.es/miw/uo283069/entity/Lain_Iwakura       Lain Iwakura       http://www.wikidata.org/prop/P10757       http://www.wikidata.org/entity/statement/Q112631434-C0AC4A1F-ADA7-4AEF-9D42-BB6DBD391A4B       \n",
      "http://uniovi.es/miw/uo283069/entity/Lain_Iwakura       Lain Iwakura       http://www.wikidata.org/prop/P11352       http://www.wikidata.org/entity/statement/Q112631434-5cb03fe9-4cd3-cecf-1683-2000e0eb2378       \n",
      "http://uniovi.es/miw/uo283069/entity/Lain_Iwakura       Lain Iwakura       http://www.wikidata.org/prop/P11736       http://www.wikidata.org/entity/statement/Q112631434-4757C746-0EA9-42E7-AD51-D6B0E3087D2F       \n",
      "--------\n"
     ]
    }
   ],
   "source": [
    "from SPARQLWrapper import SPARQLWrapper, JSON\n",
    "\n",
    "sparql = SPARQLWrapper(\"http://156.35.95.43:3030/SerialExperimentsLain/sparql\")  # Construimos un objeto para acceder a cierto endpoint. En este caso, DBpedia\n",
    "sparql.setQuery(\"\"\"\n",
    "PREFIX rdf: <http://www.w3.org/1999/02/22-rdf-syntax-ns#>\n",
    "PREFIX rdfs: <http://www.w3.org/2000/01/rdf-schema#>\n",
    "PREFIX schema: <http://schema.org/>\n",
    "PREFIX uo: <http://uniovi.es/miw/uo283069/entity/>\n",
    "PREFIX uop: <http://uniovi.es/miw/uo283069/property/> \n",
    "PREFIX wd: <http://www.wikidata.org/entity/>\n",
    "PREFIX wdt: <http://www.wikidata.org/prop/direct/>\n",
    "PREFIX wikibase: <http://wikiba.se/ontology#>\n",
    "PREFIX bd: <http://www.bigdata.com/rdf#>\n",
    "PREFIX owl: <http://www.w3.org/2002/07/owl#>\n",
    "\n",
    "SELECT ?subject ?subjectLabel ?predicate ?object\n",
    "WHERE {\n",
    "  ?subject a schema:Person .\n",
    "  ?subject owl:sameAs ?wikidataEntity .\n",
    "  SERVICE <https://query.wikidata.org/sparql> {\n",
    "    ?wikidataEntity rdfs:label ?subjectLabel .\n",
    "    ?wikidataEntity ?predicate ?object .\n",
    "    FILTER (LANG(?subjectLabel) = \"en\")\n",
    "  }\n",
    "}\n",
    "\"\"\")\n",
    "\n",
    "sparql.setReturnFormat(JSON)\n",
    "results = sparql.query().convert()\n",
    "for result in results[\"results\"][\"bindings\"]:\n",
    "    for a_var_key in result:\n",
    "      print(result[a_var_key][\"value\"], end=\"       \")\n",
    "    print()\n",
    "print(\"--------\")"
   ]
  },
  {
   "cell_type": "markdown",
   "metadata": {},
   "source": [
    "## Séptima consulta - Número de objetos existentes\n",
    "- Objetivo: obtener el número de elementos de tipo objeto que existen en el grafo\n",
    "- No federada"
   ]
  },
  {
   "cell_type": "code",
   "execution_count": 14,
   "metadata": {},
   "outputs": [
    {
     "name": "stdout",
     "output_type": "stream",
     "text": [
      "Number of objects: 9\n"
     ]
    }
   ],
   "source": [
    "query = \"\"\"\n",
    "PREFIX ex: <http://example.org/>\n",
    "PREFIX schema: <http://schema.org/>\n",
    "PREFIX dpedia: <http://dbpedia.org/resource/>\n",
    "\n",
    "SELECT (COUNT(?object) AS ?count) \n",
    "WHERE {\n",
    "  ?object a ?type .\n",
    "  VALUES ?type { ex:ComputerCode schema:WebPage schema:VideoGame dpedia:Electrical_device dpedia:Computer_network dpedia:Computer dpedia:Operating_system }\n",
    "}\n",
    "\"\"\"\n",
    "\n",
    "query_result = g.query(query)\n",
    "\n",
    "for a_row in query_result:\n",
    "    print(f\"Number of objects: {a_row['count']}\")"
   ]
  },
  {
   "cell_type": "markdown",
   "metadata": {},
   "source": [
    "## Ocatava consulta - Mayores de edad\n",
    "- Objetivo: obtener las personas mayores de edad\n",
    "- No federada"
   ]
  },
  {
   "cell_type": "code",
   "execution_count": 16,
   "metadata": {},
   "outputs": [
    {
     "name": "stdout",
     "output_type": "stream",
     "text": [
      "Person: http://uniovi.es/miw/uo283069/entity/YasuoIwakura, Name: Yasuo Iwakura, Age: 45\n",
      "Person: http://uniovi.es/miw/uo283069/entity/MihoIwakura, Name: Miho Iwakura, Age: 38\n",
      "Person: http://uniovi.es/miw/uo283069/entity/MasamiEiri, Name: Masami Eiri, Age: 30\n",
      "Person: http://uniovi.es/miw/uo283069/entity/ProfessorHodgeson, Name: Professor Hodgeson, Age: 60\n",
      "Person: http://uniovi.es/miw/uo283069/entity/KarlHaushofer, Name: Karl Haushofer, Age: 32\n",
      "Person: http://uniovi.es/miw/uo283069/entity/LinSuiXi, Name: Lin Sui-Xi, Age: 35\n"
     ]
    }
   ],
   "source": [
    "query = \"\"\"\n",
    "PREFIX rdf: <http://www.w3.org/1999/02/22-rdf-syntax-ns#>\n",
    "PREFIX rdfs: <http://www.w3.org/2000/01/rdf-schema#>\n",
    "PREFIX schema: <http://schema.org/>\n",
    "PREFIX foaf: <http://xmlns.com/foaf/0.1/>\n",
    "\n",
    "SELECT ?person ?name ?age\n",
    "WHERE {\n",
    "    ?person rdf:type schema:Person .\n",
    "    ?person schema:name ?name .\n",
    "    ?person foaf:age ?age .\n",
    "    FILTER (?age > 18)\n",
    "    FILTER(LANG(?name) = \"en\")\n",
    "}\n",
    "\"\"\"\n",
    "\n",
    "query_result = g.query(query)\n",
    "\n",
    "for a_row in query_result:\n",
    "    print(f\"Person: {a_row.person}, Name: {a_row.name}, Age: {a_row.age}\")"
   ]
  },
  {
   "cell_type": "markdown",
   "metadata": {},
   "source": [
    "# Ejercicio 3: Desarrollo de aplicación web \n",
    "\n",
    "Url de la web: http://156.35.95.43:3000/\n",
    "\n",
    "## Para desplegar la web:\n",
    "\n",
    "En un servidor:\n",
    "```powershell\n",
    "docker build -t web-semantica-web-app .\n",
    "docker run -d -p 3000:3000 web-semantica-web-app\n",
    "```\n",
    "\n",
    "En local:\n",
    "```powershell\n",
    "cmd /web-semantica\n",
    "npm i\n",
    "npm stat\n",
    "```\n",
    "\n",
    "## Descripción del contenido\n",
    "\n",
    "Se ha tratado de ofrecer al usuario una forma \"fácil\" de navegar a través del grafo de RDF. La intención de la web es permitir al usuario visualizar todos los nodos **pertinentes** del grafo mostrandle la información de todas sus relaciones (exceptuando la de rdf:type).\n",
    "\n",
    "El contenido de la web se basa en la serie japonesa escogida para modelar los datos, y sigue la siguiente lógica.\n",
    "\n",
    "![Diagrama en resources/Web.png](/resources/Web.png)\n",
    "                                          \n",
    "## Descripción de la forma de uso de RDFa\n",
    "Se ha empleado RDFa para describir los nodos representados en la pantalla del usuario de manera que cada vista representa el nodo de la siguiente forma si lo procesasemos con un procesador de RDFa:\n",
    "```xml\n",
    "@prefix rdfa: <http://www.w3.org/ns/rdfa#> .\n",
    "@prefix schema: <http://schema.org/> .\n",
    "@prefix rdf: <http://www.w3.org/1999/02/22-rdf-syntax-ns#> .\n",
    "@prefix foaf: <http://xmlns.com/foaf/0.1/> .\n",
    "\n",
    "<https://rdfa.info/play/>\n",
    "   rdfa:usesVocabulary schema: .\n",
    "<http://uniovi.es/miw/uo283069/entity/Lain_Iwakura>\n",
    "   rdf:type schema:Person;\n",
    "   schema:name \"Lain Iwakura, 岩倉 レイン\"@en;\n",
    "   foaf:gender \"Female\"@en;\n",
    "   foaf:age \"14\"@en;\n",
    "   schema:parent <http://uniovi.es/miw/uo283069/entity/YasuoIwakura>;\n",
    "   schema:parent <http://uniovi.es/miw/uo283069/entity/MihoIwakura>;\n",
    "   schema:sibling <http://uniovi.es/miw/uo283069/entity/MikaIwakura>;\n",
    "   <http://uniovi.es/miw/uo283069/entity/characterRole> \"Main Character\"@en .\n",
    "```\n",
    "Esto nos permite a su misma vez tener tanto una representación visual del nodo como una visualiación de sus datos en RDFa."
   ]
  },
  {
   "cell_type": "markdown",
   "metadata": {},
   "source": [
    "# Ejercicio 4 - Validación datos RDF\n",
    "\n",
    "Los ficheros utilizados se encuentran bajo la carpeta *shapes*, dentro de ella hay:\n",
    "- CharacterShape: shape para personajes\n",
    "- LocationShape: shpae para lugaress\n",
    "- OccupationShape: shape para ocupación (trabajo)\n",
    "- OrganizationShape: shape para organizaciones\n",
    "- ComputerCodeShape: shape para programas informáticos\n",
    "- SHapeMap.sm: EL shape map utilzado para validar los datos"
   ]
  },
  {
   "cell_type": "code",
   "execution_count": 13,
   "metadata": {},
   "outputs": [
    {
     "name": "stdout",
     "output_type": "stream",
     "text": [
      "Node: http://uniovi.es/miw/uo283069/entity/Lain_Iwakura, Conforms: True\n",
      "Node: http://uniovi.es/miw/uo283069/entity/YasuoIwakura, Conforms: True\n",
      "Node: http://uniovi.es/miw/uo283069/entity/MihoIwakura, Conforms: True\n",
      "Node: http://uniovi.es/miw/uo283069/entity/MikaIwakura, Conforms: True\n",
      "Node: http://uniovi.es/miw/uo283069/entity/MasamiEiri, Conforms: True\n",
      "Node: http://uniovi.es/miw/uo283069/entity/ProfessorHodgeson, Conforms: True\n",
      "Node: http://uniovi.es/miw/uo283069/entity/KarlHaushofer, Conforms: True\n",
      "Node: http://uniovi.es/miw/uo283069/entity/LinSuiXi, Conforms: True\n"
     ]
    }
   ],
   "source": [
    "with open(\"shapes/FullSHape.shex\", \"r\") as file:\n",
    "    shapes = file.read()\n",
    "\n",
    "characters = [\"http://uniovi.es/miw/uo283069/entity/Lain_Iwakura\", \"http://uniovi.es/miw/uo283069/entity/YasuoIwakura\",\n",
    "              \"http://uniovi.es/miw/uo283069/entity/MihoIwakura\", \"http://uniovi.es/miw/uo283069/entity/MikaIwakura\", \n",
    "              \"http://uniovi.es/miw/uo283069/entity/MasamiEiri\", \"http://uniovi.es/miw/uo283069/entity/ProfessorHodgeson\", \n",
    "              \"http://uniovi.es/miw/uo283069/entity/KarlHaushofer\", \"http://uniovi.es/miw/uo283069/entity/LinSuiXi\"]\n",
    "\n",
    "for character in characters:\n",
    "    evaluator = ShExEvaluator(rdf=g.serialize(format=\"turtle\"), schema=shapes, \n",
    "                              focus=character, start=\"SchemaCharacter\")\n",
    "    results = evaluator.evaluate()\n",
    "\n",
    "    for result in results:\n",
    "        if not result.result:\n",
    "            print(f\"Node: {result.focus}, Conforms: {result.result}, Reason: {result.reason}\")\n",
    "        else: \n",
    "            print(f\"Node: {result.focus}, Conforms: {result.result}\")"
   ]
  },
  {
   "cell_type": "code",
   "execution_count": 12,
   "metadata": {},
   "outputs": [
    {
     "name": "stdout",
     "output_type": "stream",
     "text": [
      "Node: http://uniovi.es/miw/uo283069/entity/Tokyo, Conforms: True\n"
     ]
    }
   ],
   "source": [
    "evaluator = ShExEvaluator(rdf=g.serialize(format=\"turtle\"), schema=shapes, \n",
    "                          focus=\"http://uniovi.es/miw/uo283069/entity/Tokyo\", \n",
    "                          start=\"SchemaLocation\")\n",
    "results = evaluator.evaluate()\n",
    "\n",
    "for result in results:\n",
    "    if not result.result:\n",
    "        print(f\"Node: {result.focus}, Conforms: {result.result}, Reason: {result.reason}\")\n",
    "    else: \n",
    "        print(f\"Node: {result.focus}, Conforms: {result.result}\")"
   ]
  },
  {
   "cell_type": "code",
   "execution_count": 14,
   "metadata": {},
   "outputs": [
    {
     "name": "stdout",
     "output_type": "stream",
     "text": [
      "Node: http://uniovi.es/miw/uo283069/entity/TachibanaLabs, Conforms: True\n",
      "Node: http://uniovi.es/miw/uo283069/entity/MenInBlack, Conforms: True\n",
      "Node: http://uniovi.es/miw/uo283069/entity/KnightsoftheEasternCalculus, Conforms: True\n"
     ]
    }
   ],
   "source": [
    "nodes = [\"http://uniovi.es/miw/uo283069/entity/TachibanaLabs\", \"http://uniovi.es/miw/uo283069/entity/MenInBlack\",\n",
    "         \"http://uniovi.es/miw/uo283069/entity/KnightsoftheEasternCalculus\"]\n",
    "\n",
    "for node in nodes:\n",
    "    evaluator = ShExEvaluator(rdf=g.serialize(format=\"turtle\"), schema=shapes, \n",
    "                              focus=node, start=\"SchemaOrganization\")\n",
    "    results = evaluator.evaluate()\n",
    "\n",
    "    for result in results:\n",
    "        if not result.result:\n",
    "            print(f\"Node: {result.focus}, Conforms: {result.result}, Reason: {result.reason}\")\n",
    "        else: \n",
    "            print(f\"Node: {result.focus}, Conforms: {result.result}\")"
   ]
  },
  {
   "cell_type": "code",
   "execution_count": 15,
   "metadata": {},
   "outputs": [
    {
     "name": "stdout",
     "output_type": "stream",
     "text": [
      "Node: http://uniovi.es/miw/uo283069/entity/CRowView.CL, Conforms: True\n",
      "Node: http://uniovi.es/miw/uo283069/entity/Afx-n-nPrv-View.CL, Conforms: True\n"
     ]
    }
   ],
   "source": [
    "nodes = [\"http://uniovi.es/miw/uo283069/entity/CRowView.CL\", \"http://uniovi.es/miw/uo283069/entity/Afx-n-nPrv-View.CL\"]\n",
    "\n",
    "for node in nodes:\n",
    "    evaluator = ShExEvaluator(rdf=g.serialize(format=\"turtle\"), schema=shapes, \n",
    "                              focus=node, \n",
    "                              start=\"ComputerCodeShape\")\n",
    "    results = evaluator.evaluate()\n",
    "\n",
    "    for result in results:\n",
    "        if not result.result:\n",
    "            print(f\"Node: {result.focus}, Conforms: {result.result}, Reason: {result.reason}\")\n",
    "        else: \n",
    "            print(f\"Node: {result.focus}, Conforms: {result.result}\")"
   ]
  },
  {
   "cell_type": "code",
   "execution_count": 16,
   "metadata": {},
   "outputs": [
    {
     "name": "stdout",
     "output_type": "stream",
     "text": [
      "Node: http://uniovi.es/miw/uo283069/entity/PHANTOMa, Conforms: True\n"
     ]
    }
   ],
   "source": [
    "evaluator = ShExEvaluator(rdf=g.serialize(format=\"turtle\"), schema=shapes, \n",
    "                          focus=\"http://uniovi.es/miw/uo283069/entity/PHANTOMa\", \n",
    "                          start=\"SchemaVideoGame\")\n",
    "results = evaluator.evaluate()\n",
    "\n",
    "for result in results:\n",
    "    if not result.result:\n",
    "        print(f\"Node: {result.focus}, Conforms: {result.result}, Reason: {result.reason}\")\n",
    "    else: \n",
    "        print(f\"Node: {result.focus}, Conforms: {result.result}\")"
   ]
  },
  {
   "cell_type": "code",
   "execution_count": 17,
   "metadata": {},
   "outputs": [
    {
     "name": "stdout",
     "output_type": "stream",
     "text": [
      "Node: http://uniovi.es/miw/uo283069/entity/Protocol7, Conforms: True\n",
      "Node: http://uniovi.es/miw/uo283069/entity/KIDS, Conforms: True\n",
      "Node: http://uniovi.es/miw/uo283069/entity/Mebious, Conforms: True\n",
      "Node: http://uniovi.es/miw/uo283069/entity/CRowView.CL, Conforms: True\n",
      "Node: http://uniovi.es/miw/uo283069/entity/Afx-n-nPrv-View.CL, Conforms: True\n"
     ]
    }
   ],
   "source": [
    "nodes = []\n",
    "for a_triple in g.triples(  (None,\n",
    "                             URIRef('http://schema.org/creator'),\n",
    "                             None   )  ):\n",
    "    s, p, o = a_triple\n",
    "    nodes.append(s)\n",
    "\n",
    "for node in nodes:\n",
    "    evaluator = ShExEvaluator(rdf=g.serialize(format=\"turtle\"), schema=shapes, \n",
    "                              focus=node, \n",
    "                              start=\"CreatedItemShape\")\n",
    "    results = evaluator.evaluate()\n",
    "\n",
    "    for result in results:\n",
    "        if not result.result:\n",
    "            print(f\"Node: {result.focus}, Conforms: {result.result}, Reason: {result.reason}\")\n",
    "        else: \n",
    "            print(f\"Node: {result.focus}, Conforms: {result.result}\")"
   ]
  },
  {
   "cell_type": "markdown",
   "metadata": {},
   "source": [
    "### Shape map\n",
    "Se puede encontrar en **/SHEX/ShapeMap.sm** su contenido se presenta a continuación:\n",
    "```RDF\n",
    "SPARQL\"\"\"\n",
    "PREFIX schema: <http://schema.org/>\n",
    "select ?node where{\n",
    "\t?node a schema:Person .\n",
    "\tFILTER(isIRI(?node))\n",
    "}\n",
    "\"\"\"@<SchemaCharacter>,\n",
    "uo:Tokyo@<SchemaLocation>,\n",
    "SPARQL \"\"\"\n",
    "PREFIX schema: <http://schema.org/>\n",
    "PREFIX uop: <http://uniovi.es/miw/uo283069/property/> \n",
    "select ?node where {\n",
    "?node a schema:Organization\n",
    "}\n",
    "\"\"\"@<SchemaOrganization>,\n",
    "{FOCUS a uo:ComputerCode}@<ComputerCodeShape>,\n",
    "SPARQL\"\"\"\n",
    "PREFIX schema: <http://schema.org/>\n",
    "select ?item where {\n",
    "?item schema:creator ?person\n",
    "}\n",
    "\"\"\"@<CreatedItemShape>,\n",
    "uo:PHANTOMa@<SchemaVideoGame>\n",
    "```\n",
    "### SHACL\n",
    "En **/SHEX/ShapesSHACL.ttl** se pueden encontrar las mismas shapes escritas en SHACL."
   ]
  },
  {
   "cell_type": "markdown",
   "metadata": {},
   "source": [
    "## Ejercicio 5 - Extracción de shapes"
   ]
  },
  {
   "cell_type": "code",
   "execution_count": null,
   "metadata": {},
   "outputs": [],
   "source": [
    "from shexer.shaper import Shaper\n",
    "from shexer.consts import TURTLE\n",
    "\n",
    "\n",
    "namespaces_dict = {\n",
    "    \"http://www.w3.org/1999/02/22-rdf-syntax-ns#\": \"rdf\",\n",
    "    \"http://example.org/\": \"ex\",\n",
    "    \"http://www.w3.org/2001/XMLSchema#\": \"xsd\",\n",
    "    \"http://schema.org/\": \"schema\",\n",
    "    \"http://xmlns.com/foaf/0.1/\": \"foaf\",\n",
    "    \"http://purl.org/dc/terms/\": \"dcterms\",\n",
    "    \"http://uniovi.es/miw/uo283069/entity/\": \"uo\",\n",
    "    \"http://uniovi.es/miw/uo283069/property/\": \"uop\",\n",
    "    \"http://www.wikidata.org/entity/\": \"wd\",\n",
    "    \"http://dbpedia.org/resource/\": \"dpedia\",\n",
    "    \"http://www.w3.org/2003/01/geo/wgs84_pos#\": \"geo\",\n",
    "    \"https://www.onetonline.org/link/summary/\": \"onet\",\n",
    "    \"http://www.w3.org/2000/01/rdf-schema#\": \"rdfs\",\n",
    "    \"http://www.w3.org/2002/07/owl#\": \"owl\",\n",
    "    \"http://purl.org/net/VideoGameOntology#\": \"vgo\"\n",
    "}\n",
    "\n",
    "shaper = Shaper(graph_file_input=\"./utf8_lain.ttl\",\n",
    "                input_format=TURTLE,  \n",
    "                all_classes_mode=True,\n",
    "                disable_comments=False,\n",
    "                namespaces_dict=namespaces_dict)\n",
    "\n",
    "result = shaper.shex_graph(string_output=True, acceptance_threshold=0.2)  \n",
    "print(result)"
   ]
  },
  {
   "cell_type": "markdown",
   "metadata": {},
   "source": [
    "Las shapes en SHEX se pueden encontrar en **/SHEX/ShexerShapes.shex**.\n",
    "Si comparamos las Shapes extraidas, podemos ver algunas diferncias con las nuestras:\n",
    "\n",
    "En verde y rojo las diferencias entre mi Shape (verde) y la obtenida con shexer (rojo) (Puede que en GitHub no aparezcan los colores, en todo caso, en rojo son aquellos con un '-' y en verde aquellos con un '+')\n",
    "```diff\n",
    ":Person {\n",
    "-    schema:name  xsd:string  *;\n",
    "+    schema:name rdf:langString + ;      \n",
    "-    foaf:age  xsd:integer  ?;    \n",
    "+    foaf:age xsd:integer ;  \n",
    "-    uop:characterRole  xsd:string  ?;   \n",
    "+    uop:characterRole xsd:string + ;  \n",
    "-    rdf:type  [schema:Person]  ?; \n",
    "+    rdf:type [schema:Person uo:God] {1,2} ;\n",
    "-    foaf:gender  xsd:string  ?  \n",
    "+    foaf:gender xsd:string + ; \n",
    "     schema:parent  @:Person  *;\n",
    "-    schema:sibling  @:Person  ? ;\n",
    "+    schema:sibling @<SchemaCharacter> * ;\n",
    "     schema:children  @:Person  *;\n",
    "+    schema:follows @<SchemaCharacter> * ;\n",
    "-    schema:hasOccupation  BNode  ?;\n",
    "+    schema:hasOccupation @<SchemaOccupation> ? ;\n",
    "-    schema:employmentUnit  IRI  ?;\n",
    "+    schema:employmentUnit @<SchemaOrganization> ? ;\n",
    "-    schema:deathPlace  IRI  ?;\n",
    "+    schema:deathPlace @<SchemaLocation> ?  ;     \n",
    "}\n",
    "```\n",
    "Como podemos ver, para esta shape, que es la más comlpeta de todas en el grafo, el extractor de shapes se deja una sin deducir `schema:follows` y difiere en cuanto shape en los tipos de datos de algunas tripletas como en `schema:name` y en la cardinalidad de las mismas en otras, aunque consigue acertar `schema:parent` y `schema:children`.\n",
    "\n",
    "Si miramos otras shapes más cortas, como la de Organización\n",
    "\n",
    "```diff\n",
    ":Organization\n",
    "{\n",
    "   schema:name  xsd:string  ;   \n",
    "   rdf:type  [schema:Organization]  ;\n",
    "   schema:location  @:City  ?;\n",
    "-   uop:references  IRI  ?;\n",
    "-   schema:founder  BNode  ?;\n",
    "+   schema:founder {\n",
    "+    a [schema:Person] ; \n",
    "+    schema:name rdf:langString * ; \n",
    "+    schema:employmentUnit @<SchemaOrganization> ? ; \n",
    "+    foaf:gender xsd:string ? ;\n",
    "+   } ? ;\n",
    "}\n",
    "```\n",
    "Podemos ver que no difiere tanto de la shape creada por mí, en este caso añade `uop:references`, lo cual no estaría mal pero no forma una parte intrínseca de la descrpición de organización, sino que es más una meta-realción que busca describir una referencia del propio nodo a un objeto o entidad real, por lo que no consta en mi esquema. Además es incapaz de describir el `schema:founder` como un nodo anónimo que se componga de diferentes relaciones, por lo que es posible que a la hora de extraer shapes no podamos realizar inferencias de mayor nivel sobre nodos que desconocemos en el grafo, necesitando aquí el apoyo humano.\n",
    "\n",
    "El resto de shapes son muy simples, por lo que no merece excesivamente la pena compararlas, sin embargo, es notable remarcar una cosa, si no se lo especificamos explicitamente, el extractor es incapaz de inferir que cualquier clase que sea una creación o un objeto manufacturado, debe cumplir con una única shape como *CreatedItemsShape*, en este caso podemos especificarselo nosotros manualmente, pero ya tenemos que decirle específicamente que queremos todas las clases que cumplen con la condición de ser creadas por alguien. \n",
    "\n",
    "En mi opinión personal, creo que estas herramientas tienen mucho potencial en aquellos casos en los que se quiera extraer una shape de un concepto del que se tengan unas bases claras, y que resultan sobre todo útiles para ayudarnos a darnos cuenta de elementos que tal vez nosotros no hayamos tenido en cuenta a la hora de crear nuestra Shape pero que pueden ser de interés a la hora de describir dichos conceptos.\n",
    "\n",
    "Como pensamiento espontaneo, otra manera en la que se puede aplicar esto puede ser a modo de investigación sobre las relaciones de algunos constructos, si podemos decir (como ejemplo muy simplificado) que de todas las entidades de Wikidata que son de tipo \"Construcción\" y que hayan sido construidas por una persona X presentan con un 80% de frecuencia una propiedad \"Derumbado\" o \"Destruido\", tal vez se puedan realizar conjeturas sobre la causalidad de este mismo."
   ]
  },
  {
   "cell_type": "markdown",
   "metadata": {},
   "source": [
    "# Ejercicio 6 -  Elaboración de ontología\n",
    "La ontología se puede encontrar en el archivo **ontology/ontology.owl** enb la raíz del proyecto (el archivo ontology/ontology.ttl es el generado por Protegé para crear la ontología).\n",
    "\n",
    "En cuanto a las dierencias apreciables entre la idea de ontología y de shapes, es bastante obvio resaltar la funcionalidad que tiene cada uno. Una ontología es un \"vocabulario\" de términos que pretenede especificar *qué* términos se deben utilizar y junto con *qué* propiedades o entidades, mientras que las shapes espeficican *cómo* se debe componer un elemento en un grafo para representar un concepto determinado.\n",
    "\n",
    "El contexto en el que se debe aplicar una ontología sería entonces en el momento de describir los datos, sobretodo si buscamos interoperabilidad con el resto de datos pre-existentes y representar conceptos que estén fuertemente relacionados con los de otros grafos de conocimiento. Es en el momento en el que decidimos *qué* datos vamos a representar en el que debemos decidir *en qué* manera representarlos, y si otras ontologías describen nuestros conceptos de una manera que se adaptea nuestras necesidades. En cambio, las shapes se aplicarían al mometno de validar datos para comprobar que estos están estructurados y siguen un patrón definido por nosotros.\n",
    "\n",
    "No obstante, considero que existe un punto medio donde ambos conceptos \"cooperan\" y compensan sus dos objetivos. Imaginemos que tenemos una aplicaciónque guarda datos médicos en RDF, y que queremos que esos datos sean interoperables y estén relacionados con conceptos médicos definidos en ontologías externas, sería lógico pensar que entonces tenemos que hacer uso de esas ontologías, pero ¿cómo permitimos al usuario (considerando que no es experto en RDF, y por tanto no va a insertar datos con sentencias SPARQL) introducir nueva información en el grafo de información sin romper las Shapes que tengamos definidas? Aquí sería donde entran en juego los dos conceptos, necesitaremos una herramienta que permita al usuario introducir datos que cumplan con nuestra shape y que además haga uso de las ontologías (probablemente especificadas en la propia shape). Si esto se hiciese, habría que prestar especial atención en las shapes abiertas para permitir al usuario introducir más información sobre un concepto sin dejar de utilizar las ontologías especializadas, aunque esto ya es divagar en profundiad a cerca del tema.\n",
    "\n",
    "Conclusivamente, aunque existen diferentes contextos en los que se debe emplear una ontología o una shape, estos dos conceptos no son mutuamente exclusivos, sino que se complementan entre si para expandir los grafos de conocimiento.\n",
    "\n",
    "# Ejercicio 7 - Grafos de conocimiento y LLMs\n",
    "\n",
    "Tomamos como primer ejemplo la segunda consulta del ejercicio 2 sobre referencias de nuestro grafo a elementos externos. Al estár representados con URIs externas, es muy simple obtener información a cerca de estas con una consulta federada. \n",
    "\n",
    "Sorprendentemente, un LLM como ChatGPT es capaz de obtener la misma información del grafo que nosotros realizando una query con SPARQL **una vez provisto del grafo de conocimiento**, esto claro, ya que hace uso de la librería *rdflib* para obtener los mismos datos que nosotros, por lo que realmente lo único que está haciendo es \"copiar\" nuestro código sin consultar la información en fuentes externas.\n",
    "\n",
    "Link a la conversación: https://chatgpt.com/share/67b0c15f-0f24-800b-b1bd-bab105fa48f3\n",
    "\n",
    "Si probamos en cambio a no ofrecerle una base de información, podemos ver que obtiene mucha menos información de la que nosotros le hemos provisto, y que en algunos caso se le escapan algunos conceptos (Knights of the Eastern Calculus == Knights of the Lambda Calculus) o que nos dá información muy rebuscada que se escapa del prompt (Eiri Masami → Transhumanist Thinkers). Además de esto no nos proporciona las fuentes que ha empleado para obtener esta información.\n",
    "\n",
    "Link a la conversación: https://chatgpt.com/share/67b0c29a-10c8-800b-a3d7-be6790fb2b9a\n",
    "\n",
    "La primera conversación con ChatGPT nos da una pequeña pista a cerca de un tema comentado en el paper: [\"Large Language Models, Knowledge Graphs and Search Engines: A Crossroad for Answering Users' QUestions\"](https://arxiv.org/abs/2501.06699), en el que se habla del uso conjunto entre LLMs y Grafos de conocimiento.\n",
    "\n",
    "En ese artículo, se mencionan tres maneras de combinar estas tecnologías para reforzar su manera de obtener conocimiento:\n",
    "\n",
    "- **LLMs for Knowledge Graphs**: consistiría en \"rellenar\" los \"huecos\" de los grafos de información con la información obtenida con un LLM, más adelante probaremos a hacer una demostración práctica de esto.\n",
    "- **Knowledge Graphs for LLMs**: consiste en proporcionar a los LLMs con grafos de conocimiento para que puedan *validar* la información que le van a dar al usuario, esto podría asemejarse a lo que hemos hecho en el primer chat con ChatGPT, ya que toda la información que nos ha dado provenía de ese mismo grafo.\n",
    "- **KG + LLM + SE**: consiste en combinar las tres teconologías para obtener información mediante un proceso \"largo\", similar a un *Map-Reduce*. Como resulta un poco más complejo, no entraremos en detalle en este caso, pero un ejemplo de su aplicación podría verse en mi presentación para la asignatura en el pdf [*WS_LLMs_KG.pdf*](./WS_LLMs_KG.pdf) en la página 10, en la que ChatGPT emplea un Search Engine para acceder a información de un Grafo de Conocimiento.\n",
    "\n",
    "Como ejemplo de LLMs for KG, se ha tenido una conversación con ChatGPT para pedirle que rellen el grafo con información faltante. Se le ha pedido explícitamente que se centre solo en los personajes, y que devuelva la información en RDF con sintaxis de Turtle para poder compararla con nuestro grafo actual. El resultado a sido el siguiente archivo [/llms/rdf.ttl](./llms/rdf.ttl)\n",
    "\n",
    "Como podemos apreciar, aunque sí que **nos ofrece información que faltaba** en el grafo (Por ejemplo el personaje Taro), **nos da información incorrecta** (Karl Haushofer no es el \"Top executive\" de los hombres de negro y este segundo no es una Persona, si no una organización) y **no emplea ni los prefijos ni las relaciones existentes** del grafo que le habíamos dado como base (Por ejemplo, no pone que el padre y la madre de Lain_Iwakura tengan una relación con ella de tipo *children*).\n",
    "\n",
    "Además de esto, se le ha pedido que genere una shape con SHEX para validar los nodos de personajes, ya que esta también podría ser otra aplicación de los LLMs en el campo de los grafos de conocimiento. Aunque el schema generado no es del todo incorrecto, si lo comparamos con el que especificamos nosotros en [shapes/CharacterShape](./shapes/CharacterShape.shex), podemos ver que hay ciertas relaciones que le faltan, además de añadir las que anteriormente utilizó él cuando nos dió más información en vez de centrarse solo en el grafo que le pasamos.\n",
    "\n",
    "\n",
    "```shex\n",
    "PREFIX schema: <http://schema.org/>\n",
    "PREFIX ex: <http://example.org/lain/>\n",
    "\n",
    "ex:CharacterShape {\n",
    "    schema:name xsd:string+ ;   # Every character must have at least one name\n",
    "    schema:age xsd:string? ;   # Age is optional\n",
    "    schema:affiliation IRI* ;  # A character may belong to multiple organizations\n",
    "    schema:role xsd:string* ;  # Role(s) of the character (optional, multiple allowed)\n",
    "    schema:description xsd:string* ;  # Character description(s)\n",
    "    schema:parent IRI* ;  # Links to parent(s)\n",
    "    schema:sibling IRI* ;  # Links to sibling(s)\n",
    "    schema:voiceActor xsd:string* ;  # Multiple voice actors possible\n",
    "}\n",
    "\n",
    "```\n",
    "\n",
    "Link a la conversación: https://chatgpt.com/share/67b0cdef-0420-800b-b782-df7433e626d3\n",
    "\n",
    "Como conlcusión aquí, podemos decir que aún falta mucho recorrido para que estas tecnologías se entiendan y complementen entre sí, pero no parece una idea muy descabellada pensar que en un futuro podrían llegar a emplearse de alguna de las maneras descritas para potenciar el concimiento en la web.\n",
    "\n",
    "# Ejercicio 8\n",
    "La presentación realizad en clase se encuentra en [*WS_LLMs_KG.pdf*](./WS_LLMs_KG.pdf).\n",
    "\n",
    "La bilbiografía de la misma se puede resumir en el siguiente artículo: [\"Large Language Models, Knowledge Graphs and Search Engines: A Crossroad for Answering Users' QUestions\"](https://arxiv.org/abs/2501.06699)."
   ]
  }
 ],
 "metadata": {
  "kernelspec": {
   "display_name": "Python 3",
   "language": "python",
   "name": "python3"
  },
  "language_info": {
   "codemirror_mode": {
    "name": "ipython",
    "version": 3
   },
   "file_extension": ".py",
   "mimetype": "text/x-python",
   "name": "python",
   "nbconvert_exporter": "python",
   "pygments_lexer": "ipython3",
   "version": "3.11.4"
  }
 },
 "nbformat": 4,
 "nbformat_minor": 2
}
