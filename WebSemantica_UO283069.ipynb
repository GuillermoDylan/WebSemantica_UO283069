{
 "cells": [
  {
   "cell_type": "code",
   "execution_count": null,
   "metadata": {},
   "outputs": [
    {
     "data": {
      "text/plain": [
       "'@prefix dpedia: <http://dbpedia.org/resource/> .\\n@prefix ex: <http://example.org/> .\\n@prefix foaf: <http://xmlns.com/foaf/0.1/> .\\n@prefix owl: <http://www.w3.org/2002/07/owl#> .\\n@prefix rdf: <http://www.w3.org/1999/02/22-rdf-syntax-ns#> .\\n@prefix rdfs: <http://www.w3.org/2000/01/rdf-schema#> .\\n@prefix schema1: <http://schema.org/> .\\n@prefix vgo: <http://purl.org/net/VideoGameOntology#> .\\n@prefix wd: <http://www.wikidata.org/entity/> .\\n@prefix xsd: <http://www.w3.org/2001/XMLSchema#> .\\n\\nex:God a rdfs:Class ;\\n    rdfs:label \"God\" ;\\n    rdfs:comment \"An omnipresent being who has at least one follower.\" .\\n\\nex:Afx-n-nPrv-View.CL a ex:ComputerCode ;\\n    ex:references wd:Q312 ;\\n    schema1:comment \"Afx-n-nPrv-View.CL is the source for a code walker.\" ;\\n    schema1:creator ex:Lain_Iwakura ;\\n    schema1:name \"Afx-n-nPrv-View.CL\" ;\\n    schema1:programmingLanguage wd:Q849146 ;\\n    foaf:image <https://lain.wiki/wiki/File:Walker.jpg> .\\n\\nex:CRowView.CL a ex:ComputerCode ;\\n    ex:references wd:Q244615 ;\\n    schema1:creator ex:Lain_Iwakura ;\\n    schema1:name \"CRowView.CL\" ;\\n    schema1:programmingLanguage wd:Q849146 ;\\n    rdfs:comment \"CRowView.CL contains code for John Conway\\'s Game of Life.\" ;\\n    foaf:image <https://lain.wiki/wiki/File:Life.jpg> .\\n\\nex:KarlHaushofer a schema1:Person ;\\n    schema1:deathPlace ex:Tokyo ;\\n    schema1:employmentUnit ex:MenInBlack ;\\n    schema1:hasOccupation [ a schema1:Occupation ;\\n            schema1:name \"Spy\" ;\\n            schema1:occupationalCategory \"33-3021.00\" ] ;\\n    schema1:name \"Karl Haushofer\"@en .\\n\\nex:KensingtonExperiment a schema1:Event ;\\n    ex:references wd:Q496036 ;\\n    schema1:director ex:ProfessorHodgeson ;\\n    schema1:location ex:Tokyo ;\\n    schema1:name \"Kensington Experiment\" ;\\n    rdfs:comment \"An experiment conducted by Professor Hodgeson  to harness the latent para-psychological abilities of children that resulted in multiple casualties.\" .\\n\\nex:LinSuiXi a schema1:Person ;\\n    schema1:deathPlace ex:Tokyo ;\\n    schema1:employmentUnit ex:MenInBlack ;\\n    schema1:hasOccupation [ a schema1:Occupation ;\\n            schema1:name \"Spy\" ;\\n            schema1:occupationalCategory \"33-3021.00\" ] ;\\n    schema1:name \"Lin Sui-Xi\"@en .\\n\\nex:Mebious a schema1:WebPage ;\\n    schema1:creator ex:Lain_Iwakura ;\\n    schema1:name \"Mebious.co.uk\" ;\\n    schema1:significantLink <http://www.mebious.co.uk/>,\\n        <http://www.mebious.mobi/> ;\\n    rdfs:comment \"A website on the Wired.\" .\\n\\nex:PHANTOMa a schema1:VideoGame ;\\n    vgo:hasGameGenere ex:MMORPG ;\\n    schema1:device ex:KIDS ;\\n    schema1:name \"PHANTOMa\" ;\\n    foaf:image <https://lain.wiki/wiki/File:1669_900.png> .\\n\\nex:CommunicationOperatingSystem a dpedia:Operating_system ;\\n    rdfs:label \"Communication Operating System\" ;\\n    rdfs:comment \"An operating system designed for communication purposes.\" .\\n\\nex:KIDS a dpedia:Electrical_device ;\\n    schema1:creator ex:ProfessorHodgeson ;\\n    schema1:location ex:Tokyo ;\\n    schema1:name \"KIDS System\" .\\n\\nex:KnightsoftheEasternCalculus a schema1:Organization ;\\n    ex:location ex:Tokyo ;\\n    ex:references wd:Q6422517 ;\\n    schema1:name \"Knights of the Eastern Calculus\" .\\n\\nex:MMORPG a vgo:GameGenre ;\\n    rdfs:label \"MMORPG\" ;\\n    rdfs:comment \"A genre of video games that are played online with a large number of players.\" ;\\n    owl:sameAs wd:Q175173 .\\n\\nex:Navi2 a ex:NAVI ;\\n    ex:hasComponent ex:PsycheChip ;\\n    ex:references wd:Q306381 ;\\n    ex:usesProtocol ex:Protocol7 ;\\n    schema1:creator ex:TachibanaLabs ;\\n    schema1:name \"NAVI\" ;\\n    schema1:operatingSystem ex:CoplandOS ;\\n    schema1:version 2 ;\\n    owl:sameAs wd:Q380574 .\\n\\nex:Navi3 a ex:NAVI ;\\n    ex:references wd:Q420772 ;\\n    schema1:alternateName \"Handheld NAVI\" ;\\n    schema1:creator ex:TachibanaLabs ;\\n    schema1:name \"HandiNAVI\" ;\\n    schema1:operatingSystem ex:CoplandOS ;\\n    schema1:version 3 .\\n\\nex:NaviV1 a ex:NAVI ;\\n    ex:references wd:Q2141790 ;\\n    ex:usesProtocol ex:Protocol6 ;\\n    schema1:creator ex:TachibanaLabs ;\\n    schema1:name \"Child\\'s NAVI\" ;\\n    schema1:operatingSystem ex:CommunicationOperatingSystem ;\\n    schema1:version 1 .\\n\\nex:Protocol6 a wd:Q15836568 ;\\n    ex:grantsAccessTo ex:TheWired ;\\n    ex:references wd:Q2551624 ;\\n    schema1:name \"Protocol 6\" ;\\n    schema1:version 6 .\\n\\nex:PsycheChip a schema1:Product ;\\n    ex:usesProtocol ex:Protocol7 ;\\n    schema1:manufacturer ex:KnightsoftheEasternCalculus ;\\n    schema1:name \"Psyche Chip\" .\\n\\nex:SchumannResonances a dpedia:Electromagnetic_pulse ;\\n    schema1:name \"Schumann Resonances\" ;\\n    rdfs:comment \"A set of spectrum peaks in the extremely low frequency portion of the Earth\\'s electromagnetic field spectrum.\" .\\n\\nex:CoplandOS a dpedia:Operating_system ;\\n    ex:references wd:Q1131259 ;\\n    ex:releaseDate \"1998\" ;\\n    schema1:creator ex:TachibanaLabs ;\\n    schema1:name \"Copland OS\" .\\n\\nex:MasamiEiri a ex:God,\\n        schema1:Person ;\\n    schema1:deathPlace ex:Tokyo ;\\n    schema1:employmentUnit ex:TachibanaLabs ;\\n    schema1:hasOccupation [ a schema1:Occupation ;\\n            schema1:name \"Computer Programmer\" ;\\n            schema1:occupationalCategory \"15-1251.00\" ] ;\\n    schema1:name \"Masami Eiri\"@en,\\n        \"英利 政美\"@ja ;\\n    foaf:age 30 ;\\n    foaf:gender \"Male\" .\\n\\nex:MenInBlack a schema1:Organization ;\\n    ex:location ex:Tokyo ;\\n    ex:references wd:Q51410 ;\\n    schema1:founder [ a schema1:Person ;\\n            schema1:employmentUnit ex:TachibanaLabs ;\\n            schema1:name \"Kurosawa\"@en,\\n                \"黒沢\"@ja ] ;\\n    schema1:name \"Men in Black\" .\\n\\nex:MihoIwakura a schema1:Person ;\\n    schema1:children ex:Lain_Iwakura,\\n        ex:MikaIwakura ;\\n    schema1:employmentUnit ex:TachibanaLabs ;\\n    schema1:name \"Miho Iwakura\"@en,\\n        \"岩倉 美穂\"@ja ;\\n    foaf:age 38 .\\n\\nex:ProfessorHodgeson a schema1:Person ;\\n    schema1:affiliation ex:TachibanaLabs ;\\n    schema1:deathPlace ex:Tokyo ;\\n    schema1:hasOccupation [ a schema1:Occupation ;\\n            schema1:name \"Scientist\" ;\\n            schema1:occupationalCategory \"19-1029.01\" ] ;\\n    schema1:name \"Professor Hodgeson\"@en .\\n\\nex:Protocol7 a wd:Q15836568 ;\\n    ex:grantsAccessTo ex:TheWired ;\\n    ex:references wd:Q28823658 ;\\n    ex:worksThrough ex:SchumannResonances ;\\n    schema1:creator ex:MasamiEiri ;\\n    schema1:name \"Protocol 7\" ;\\n    schema1:version 7 .\\n\\nex:TheWired a dpedia:Computer_network ;\\n    ex:references wd:Q466 ;\\n    schema1:name \"The Wired\" ;\\n    rdfs:subClassOf dpedia:Virtual_reality .\\n\\nex:YasuoIwakura a schema1:Person ;\\n    schema1:children ex:Lain_Iwakura,\\n        ex:MikaIwakura ;\\n    schema1:employmentUnit ex:TachibanaLabs ;\\n    schema1:hasOccupation [ a schema1:Occupation ;\\n            schema1:name \"Computer Programmer\" ;\\n            schema1:occupationalCategory \"15-1251.00\" ] ;\\n    schema1:name \"Yasuo Iwakura\"@en,\\n        \"岩倉 康男\"@ja ;\\n    foaf:age 45 ;\\n    foaf:gender \"Male\" .\\n\\nex:MikaIwakura a schema1:Person ;\\n    schema1:name \"Mika Iwakura\"@en,\\n        \"岩倉 美香\"@ja ;\\n    schema1:parent ex:MihoIwakura,\\n        ex:YasuoIwakura ;\\n    schema1:sibling ex:Lain_Iwakura ;\\n    foaf:age 16 .\\n\\nex:NAVI a dpedia:Computer ;\\n    ex:manufacturer ex:TachibanaLabs ;\\n    ex:releaseDate \"1998\" ;\\n    ex:versions ( ex:NaviV1 ex:Navi2 ex:Navi3 ) ;\\n    schema1:name \"Knowledge Navigator\",\\n        \"NAVI\" .\\n\\nex:Lain_Iwakura a schema1:Person ;\\n    ex:characterRole \"Main Character\" ;\\n    schema1:follows ex:MasamiEiri ;\\n    schema1:name \"Lain Iwakura\"@en,\\n        \"岩倉 レイン\"@ja ;\\n    schema1:parent ex:MihoIwakura,\\n        ex:YasuoIwakura ;\\n    schema1:sibling ex:MikaIwakura ;\\n    foaf:age 14 ;\\n    foaf:gender \"Female\" .\\n\\nex:Tokyo a schema1:City ;\\n    rdfs:label \"Tokyo\" ;\\n    schema1:alternateName \"東京都\"@ja ;\\n    schema1:containedInPlace wd:Q17 ;\\n    schema1:latitude \"35.6895\"^^xsd:float ;\\n    schema1:longitude \"139.6917\"^^xsd:float ;\\n    owl:sameAs wd:Q1490 ;\\n    foaf:depiction <https://upload.wikimedia.org/wikipedia/commons/9/9e/Tokyo_Skyline.jpg> .\\n\\nex:TachibanaLabs a schema1:Organization ;\\n    ex:founder ex:Koji_Tachibana ;\\n    ex:location ex:Tokyo ;\\n    schema1:name \"Tachibana General Laboratories\" .\\n\\n'"
      ]
     },
     "execution_count": 8,
     "metadata": {},
     "output_type": "execute_result"
    }
   ],
   "source": [
    "%pip install rdflib sparqlwrapper pyshex --quiet\n",
    "from rdflib import Graph, Literal, BNode, Namespace, RDF, URIRef\n",
    "\n",
    "g = Graph()\n",
    "base_path = \"./lain.ttl\"\n",
    "g.parse(base_path)\n",
    "g.serialize(format=\"turtle\")"
   ]
  },
  {
   "cell_type": "markdown",
   "metadata": {},
   "source": [
    "# Despliegue datos RDF + consultas SPARQL\n",
    "\n",
    "- URL pública del endpoint de Blazergaph: http://156.35.95.43:9999/blazegraph/namespace/kb/sparql\n",
    "- URL pública del endpoint de Apache Jena Fuseki: http://156.35.95.43:3030/SerialExperimentsLain/sparql\n",
    "\n",
    "## Primera consulta: Familia\n",
    "- Objetivo: Obtener los datos de personajes que formen una familia (padres, hijos o hermanos)\n",
    "- Consulta NO FEDERADA\n",
    "### Query:\n",
    "```SPARQL\n",
    "PREFIX rdf: <http://www.w3.org/1999/02/22-rdf-syntax-ns#>\n",
    "PREFIX rdfs: <http://www.w3.org/2000/01/rdf-schema#>\n",
    "PREFIX schema: <http://schema.org/>\n",
    "\n",
    "SELECT DISTINCT ?person ?personName (GROUP_CONCAT(DISTINCT ?relation; separator=\", \") AS ?relations) (GROUP_CONCAT(DISTINCT ?relativeName; separator=\", \") AS ?relatives)\n",
    "WHERE {\n",
    "  ?person schema:name ?personName .\n",
    "  FILTER (LANG(?personName) = \"en\")\n",
    "\n",
    "  {\n",
    "    ?person schema:parent ?relative .\n",
    "    ?relative schema:name ?relativeName .\n",
    "    FILTER (LANG(?relativeName) = \"en\")\n",
    "    BIND(\"Parent\" AS ?relation)\n",
    "  }\n",
    "  UNION\n",
    "  {\n",
    "    ?person schema:sibling ?relative .\n",
    "    ?relative schema:name ?relativeName .\n",
    "    FILTER (LANG(?relativeName) = \"en\")\n",
    "    BIND(\"Sibling\" AS ?relation)\n",
    "  }\n",
    "  UNION\n",
    "  {\n",
    "    ?person schema:children ?relative .\n",
    "    ?relative schema:name ?relativeName .\n",
    "    FILTER (LANG(?relativeName) = \"en\")\n",
    "    BIND(\"Child\" AS ?relation)\n",
    "  }\n",
    "}\n",
    "GROUP BY ?person ?personName\n",
    "ORDER BY ?personName ?relation\n",
    "\n",
    "```"
   ]
  },
  {
   "cell_type": "code",
   "execution_count": 7,
   "metadata": {},
   "outputs": [
    {
     "name": "stdout",
     "output_type": "stream",
     "text": [
      "Person: http://example.org/Lain_Iwakura, Name: Lain Iwakura, Relations: Parent, Sibling, Relatives: Yasuo Iwakura, Miho Iwakura, Mika Iwakura\n",
      "Person: http://example.org/MihoIwakura, Name: Miho Iwakura, Relations: Child, Relatives: Mika Iwakura, Lain Iwakura\n",
      "Person: http://example.org/MikaIwakura, Name: Mika Iwakura, Relations: Parent, Sibling, Relatives: Miho Iwakura, Yasuo Iwakura, Lain Iwakura\n",
      "Person: http://example.org/YasuoIwakura, Name: Yasuo Iwakura, Relations: Child, Relatives: Mika Iwakura, Lain Iwakura\n"
     ]
    }
   ],
   "source": [
    "str_query = \"\"\"\n",
    "PREFIX rdf: <http://www.w3.org/1999/02/22-rdf-syntax-ns#>\n",
    "PREFIX rdfs: <http://www.w3.org/2000/01/rdf-schema#>\n",
    "PREFIX schema: <http://schema.org/>\n",
    "\n",
    "SELECT DISTINCT ?person ?personName (GROUP_CONCAT(DISTINCT ?relation; separator=\", \") AS ?relations) (GROUP_CONCAT(DISTINCT ?relativeName; separator=\", \") AS ?relatives)\n",
    "WHERE {\n",
    "  ?person schema:name ?personName .\n",
    "  FILTER (LANG(?personName) = \"en\")\n",
    "\n",
    "  {\n",
    "    ?person schema:parent ?relative .\n",
    "    ?relative schema:name ?relativeName .\n",
    "    FILTER (LANG(?relativeName) = \"en\")\n",
    "    BIND(\"Parent\" AS ?relation)\n",
    "  }\n",
    "  UNION\n",
    "  {\n",
    "    ?person schema:sibling ?relative .\n",
    "    ?relative schema:name ?relativeName .\n",
    "    FILTER (LANG(?relativeName) = \"en\")\n",
    "    BIND(\"Sibling\" AS ?relation)\n",
    "  }\n",
    "  UNION\n",
    "  {\n",
    "    ?person schema:children ?relative .\n",
    "    ?relative schema:name ?relativeName .\n",
    "    FILTER (LANG(?relativeName) = \"en\")\n",
    "    BIND(\"Child\" AS ?relation)\n",
    "  }\n",
    "}\n",
    "GROUP BY ?person ?personName\n",
    "ORDER BY ?personName ?relation\n",
    "\"\"\"\n",
    "query_result = g.query(str_query)\n",
    "\n",
    "# Los resultados se recorren por filas, quizá te recuerde a resultsets de librerías para ejecutar consultas SQL.\n",
    "# Cada fila contiene objeto de dominio de rdflib (URIRef, Literal...) en variables que se llaman exactamente como los nombres de variables en la consulta SPARQL\n",
    "for a_row in query_result:\n",
    "  print(f\"Person: {a_row.person}, Name: {a_row.personName}, Relations: {a_row.relations}, Relatives: {a_row.relatives}\")"
   ]
  },
  {
   "cell_type": "markdown",
   "metadata": {},
   "source": [
    "## Segunda consulta: Referencias\n",
    "\n",
    "\n",
    "```SPARQL\n",
    "PREFIX rdf: <http://www.w3.org/1999/02/22-rdf-syntax-ns#>\n",
    "PREFIX rdfs: <http://www.w3.org/2000/01/rdf-schema#>\n",
    "PREFIX schema: <http://schema.org/>\n",
    "PREFIX ex: <http://example.org/>\n",
    "\n",
    "SELECT ?object ?name ?subject\n",
    "WHERE {\n",
    "  ?object ex:references ?subject .\n",
    "  ?object schema:name ?name . \n",
    "}\n",
    "```"
   ]
  },
  {
   "cell_type": "code",
   "execution_count": 4,
   "metadata": {},
   "outputs": [
    {
     "name": "stdout",
     "output_type": "stream",
     "text": [
      "Object: http://example.org/Protocol6, Name: Protocol 6, Subject: http://www.wikidata.org/entity/Q2551624\n",
      "Object: http://example.org/Protocol7, Name: Protocol 7, Subject: http://www.wikidata.org/entity/Q28823658\n",
      "Object: http://example.org/KnightsoftheEasternCalculus, Name: Knights of the Eastern Calculus, Subject: http://www.wikidata.org/entity/Q6422517\n",
      "Object: http://example.org/CoplandOS, Name: Copland OS, Subject: http://www.wikidata.org/entity/Q1131259\n",
      "Object: http://example.org/NaviV1, Name: Child's NAVI, Subject: http://www.wikidata.org/entity/Q2141790\n",
      "Object: http://example.org/Navi2, Name: NAVI, Subject: http://www.wikidata.org/entity/Q306381\n",
      "Object: http://example.org/Navi3, Name: HandiNAVI, Subject: http://www.wikidata.org/entity/Q420772\n",
      "Object: http://example.org/TheWired, Name: The Wired, Subject: http://www.wikidata.org/entity/Q466\n",
      "Object: http://example.org/KensingtonExperiment, Name: Kensington Experiment, Subject: http://www.wikidata.org/entity/Q496036\n",
      "Object: http://example.org/MenInBlack, Name: Men in Black, Subject: http://www.wikidata.org/entity/Q51410\n",
      "Object: http://example.org/CRowView.CL, Name: CRowView.CL, Subject: http://www.wikidata.org/entity/Q244615\n",
      "Object: http://example.org/Afx-n-nPrv-View.CL, Name: Afx-n-nPrv-View.CL, Subject: http://www.wikidata.org/entity/Q312\n"
     ]
    }
   ],
   "source": [
    "str_query =\"\"\"\n",
    "PREFIX rdf: <http://www.w3.org/1999/02/22-rdf-syntax-ns#>\n",
    "PREFIX rdfs: <http://www.w3.org/2000/01/rdf-schema#>\n",
    "PREFIX schema: <http://schema.org/>\n",
    "PREFIX ex: <http://example.org/>\n",
    "\n",
    "SELECT ?object ?name ?subject\n",
    "WHERE {\n",
    "  ?object ex:references ?subject .\n",
    "  ?object schema:name ?name . \n",
    "}\n",
    "\"\"\"\n",
    "query_result = g.query(str_query)\n",
    "\n",
    "for a_row in query_result:\n",
    "  print(f\"Object: {a_row.object}, Name: {a_row.name}, Subject: {a_row.subject}\")"
   ]
  },
  {
   "cell_type": "markdown",
   "metadata": {},
   "source": [
    "## Tercera consulta: Federada\n",
    "- Objetivo: Obtener, en base a la consulta anterior, los nombres de los sujetos en Wikidata"
   ]
  },
  {
   "cell_type": "code",
   "execution_count": 2,
   "metadata": {},
   "outputs": [
    {
     "ename": "NameError",
     "evalue": "name 'g' is not defined",
     "output_type": "error",
     "traceback": [
      "\u001b[1;31m---------------------------------------------------------------------------\u001b[0m",
      "\u001b[1;31mNameError\u001b[0m                                 Traceback (most recent call last)",
      "Cell \u001b[1;32mIn[2], line 22\u001b[0m\n\u001b[0;32m      1\u001b[0m str_query \u001b[38;5;241m=\u001b[39m\u001b[38;5;124m\"\"\"\u001b[39m\n\u001b[0;32m      2\u001b[0m \u001b[38;5;124mPREFIX rdf: <http://www.w3.org/1999/02/22-rdf-syntax-ns#>\u001b[39m\n\u001b[0;32m      3\u001b[0m \u001b[38;5;124mPREFIX rdfs: <http://www.w3.org/2000/01/rdf-schema#>\u001b[39m\n\u001b[1;32m   (...)\u001b[0m\n\u001b[0;32m     20\u001b[0m \u001b[38;5;124m}\u001b[39m\n\u001b[0;32m     21\u001b[0m \u001b[38;5;124m\"\"\"\u001b[39m\n\u001b[1;32m---> 22\u001b[0m query_result \u001b[38;5;241m=\u001b[39m \u001b[43mg\u001b[49m\u001b[38;5;241m.\u001b[39mquery(str_query)\n\u001b[0;32m     24\u001b[0m \u001b[38;5;28;01mfor\u001b[39;00m a_row \u001b[38;5;129;01min\u001b[39;00m query_result:\n\u001b[0;32m     25\u001b[0m   \u001b[38;5;28mprint\u001b[39m(\u001b[38;5;124mf\u001b[39m\u001b[38;5;124m\"\u001b[39m\u001b[38;5;124mObject: \u001b[39m\u001b[38;5;132;01m{\u001b[39;00ma_row\u001b[38;5;241m.\u001b[39mobject\u001b[38;5;132;01m}\u001b[39;00m\u001b[38;5;124m, Name: \u001b[39m\u001b[38;5;132;01m{\u001b[39;00ma_row\u001b[38;5;241m.\u001b[39mname\u001b[38;5;132;01m}\u001b[39;00m\u001b[38;5;124m, Subject: \u001b[39m\u001b[38;5;132;01m{\u001b[39;00ma_row\u001b[38;5;241m.\u001b[39msubjectLabel\u001b[38;5;132;01m}\u001b[39;00m\u001b[38;5;124m - \u001b[39m\u001b[38;5;132;01m{\u001b[39;00ma_row\u001b[38;5;241m.\u001b[39msubject\u001b[38;5;132;01m}\u001b[39;00m\u001b[38;5;124m\"\u001b[39m)\n",
      "\u001b[1;31mNameError\u001b[0m: name 'g' is not defined"
     ]
    }
   ],
   "source": [
    "str_query =\"\"\"\n",
    "PREFIX rdf: <http://www.w3.org/1999/02/22-rdf-syntax-ns#>\n",
    "PREFIX rdfs: <http://www.w3.org/2000/01/rdf-schema#>\n",
    "PREFIX schema: <http://schema.org/>\n",
    "PREFIX ex: <http://example.org/>\n",
    "PREFIX wd: <http://www.wikidata.org/entity/>\n",
    "PREFIX wdt: <http://www.wikidata.org/prop/direct/>\n",
    "PREFIX wikibase: <http://wikiba.se/ontology#>\n",
    "PREFIX bd: <http://www.bigdata.com/rdf#>\n",
    "\n",
    "SELECT ?object ?name ?subject ?subjectLabel\n",
    "WHERE {\n",
    "    ?object ex:references ?subject .\n",
    "    ?object schema:name ?name . \n",
    "    \n",
    "    SERVICE <https://query.wikidata.org/sparql> {\n",
    "        ?subject rdfs:label ?subjectLabel .\n",
    "        FILTER (LANG(?subjectLabel) = \"en\")\n",
    "    }\n",
    "}\n",
    "\"\"\"\n",
    "query_result = g.query(str_query)\n",
    "\n",
    "for a_row in query_result:\n",
    "  print(f\"Object: {a_row.object}, Name: {a_row.name}, Subject: {a_row.subjectLabel} - {a_row.subject}\")"
   ]
  },
  {
   "cell_type": "markdown",
   "metadata": {},
   "source": [
    "## Cuarta consula: Relaciones entre nodos\n",
    "\n",
    "- Objetivo (un poco complejo): Comprobar si hay o no una relación entre dos entidades, para ello utilizaremos el oeprador del wildcard <>.\n",
    "- No federada"
   ]
  },
  {
   "cell_type": "code",
   "execution_count": 67,
   "metadata": {},
   "outputs": [
    {
     "name": "stdout",
     "output_type": "stream",
     "text": [
      "There is a connection between MenInBlack and God.\n"
     ]
    }
   ],
   "source": [
    "\"\"\"\n",
    "Explicación:\n",
    "En cualquier tripleta, el predicado tiene que obligatoriamente ser <> o no serlo,\n",
    "es decir (<>|!<>), si además a esto le añadimos el operador de relación inversa (^),\n",
    "podemos decir que, en una relación entre dos entidades que estén conectadas, debe existir\n",
    "una relación tal que (<>|!<>)|^(<>|!<>). Esto sumado al operador * que indica que \n",
    "la relación puede ser de cualquier longitud, nos permite saber si dos entidades están\n",
    "conectadas o no. (En este caso, como el grafo es epqueño y todo está conectado, \n",
    "siempre va a haber una conexión entre dos entidades por muy larga que sea).\n",
    "\"\"\"\n",
    "ask_query = \"\"\"\n",
    "ASK {\n",
    "    ex:MenInBlack ((<>|!<>)|^(<>|!<>))* ex:God\n",
    "}\n",
    "\"\"\"\n",
    "\n",
    "ask_result = g.query(ask_query)\n",
    "\n",
    "if ask_result.askAnswer:\n",
    "    print(\"There is a connection between MenInBlack and God.\")\n",
    "else:\n",
    "    print(\"There is no connection between MenInBlack and God.\")"
   ]
  },
  {
   "cell_type": "code",
   "execution_count": 10,
   "metadata": {},
   "outputs": [
    {
     "name": "stdout",
     "output_type": "stream",
     "text": [
      "Japanese Name: 岩倉 康男, English Name: Yasuo Iwakura, Occupation: Computer Programmer, Place of Occupation: http://example.org/TachibanaLabs\n",
      "\n",
      "Japanese Name: 英利 政美, English Name: Masami Eiri, Occupation: Computer Programmer, Place of Occupation: http://example.org/TachibanaLabs\n",
      "\n",
      "Japanese Name: None, English Name: Professor Hodgeson, Occupation: Scientist, Place of Occupation: None\n",
      "\n",
      "Japanese Name: None, English Name: Karl Haushofer, Occupation: Spy, Place of Occupation: None\n",
      "\n",
      "Japanese Name: None, English Name: Lin Sui-Xi, Occupation: Spy, Place of Occupation: None\n",
      "\n"
     ]
    }
   ],
   "source": [
    "query = \"\"\"\n",
    "PREFIX schema: <http://schema.org/>\n",
    "\n",
    "SELECT ?japaneseName ?personName ?occupationLabel ?placeOfOccupation\n",
    "WHERE {\n",
    "    ?person a schema:Person  .\n",
    "    OPTIONAL { ?person schema:name ?japaneseName . FILTER (LANG(?japaneseName) = \"ja\") }\n",
    "    ?person schema:name ?personName .\n",
    "    ?person schema:hasOccupation ?occupation .\n",
    "    ?occupation a schema:Occupation .\n",
    "    ?occupation schema:name ?occupationLabel .\n",
    "    OPTIONAL { ?person schema:employmentUnit ?placeOfOccupation }\n",
    "\n",
    "    FILTER (LANG(?personName) = \"en\")\n",
    "}\n",
    "\"\"\"\n",
    "\n",
    "query_result = g.query(query)\n",
    "\n",
    "for a_row in query_result:\n",
    "    print(f\"Japanese Name: {a_row.japaneseName}, English Name: {a_row.personName}, Occupation: {a_row.occupationLabel}, Place of Occupation: {a_row.placeOfOccupation}\\n\")"
   ]
  },
  {
   "cell_type": "code",
   "execution_count": 4,
   "metadata": {},
   "outputs": [
    {
     "ename": "HTTPError",
     "evalue": "HTTP Error 403: Forbidden",
     "output_type": "error",
     "traceback": [
      "\u001b[1;31m---------------------------------------------------------------------------\u001b[0m",
      "\u001b[1;31mHTTPError\u001b[0m                                 Traceback (most recent call last)",
      "Cell \u001b[1;32mIn[4], line 25\u001b[0m\n\u001b[0;32m      4\u001b[0m sparql\u001b[38;5;241m.\u001b[39msetQuery(\u001b[38;5;124m\"\"\"\u001b[39m\n\u001b[0;32m      5\u001b[0m \n\u001b[0;32m      6\u001b[0m \u001b[38;5;124mprefix wdt: \u001b[39m\n\u001b[1;32m   (...)\u001b[0m\n\u001b[0;32m     21\u001b[0m \u001b[38;5;124m\"\"\"\u001b[39m\n\u001b[0;32m     22\u001b[0m )\n\u001b[0;32m     24\u001b[0m sparql\u001b[38;5;241m.\u001b[39msetReturnFormat(JSON)\n\u001b[1;32m---> 25\u001b[0m results \u001b[38;5;241m=\u001b[39m \u001b[43msparql\u001b[49m\u001b[38;5;241;43m.\u001b[39;49m\u001b[43mquery\u001b[49m\u001b[43m(\u001b[49m\u001b[43m)\u001b[49m\u001b[38;5;241m.\u001b[39mconvert()\n\u001b[0;32m     26\u001b[0m \u001b[38;5;28;01mfor\u001b[39;00m result \u001b[38;5;129;01min\u001b[39;00m results[\u001b[38;5;124m\"\u001b[39m\u001b[38;5;124mresults\u001b[39m\u001b[38;5;124m\"\u001b[39m][\u001b[38;5;124m\"\u001b[39m\u001b[38;5;124mbindings\u001b[39m\u001b[38;5;124m\"\u001b[39m]:\n\u001b[0;32m     27\u001b[0m     \u001b[38;5;28;01mfor\u001b[39;00m a_var_key \u001b[38;5;129;01min\u001b[39;00m result:\n",
      "File \u001b[1;32mc:\\Python311\\Lib\\site-packages\\SPARQLWrapper\\Wrapper.py:960\u001b[0m, in \u001b[0;36mSPARQLWrapper.query\u001b[1;34m(self)\u001b[0m\n\u001b[0;32m    942\u001b[0m \u001b[38;5;28;01mdef\u001b[39;00m \u001b[38;5;21mquery\u001b[39m(\u001b[38;5;28mself\u001b[39m) \u001b[38;5;241m-\u001b[39m\u001b[38;5;241m>\u001b[39m \u001b[38;5;124m\"\u001b[39m\u001b[38;5;124mQueryResult\u001b[39m\u001b[38;5;124m\"\u001b[39m:\n\u001b[0;32m    943\u001b[0m \u001b[38;5;250m    \u001b[39m\u001b[38;5;124;03m\"\"\"\u001b[39;00m\n\u001b[0;32m    944\u001b[0m \u001b[38;5;124;03m    Execute the query.\u001b[39;00m\n\u001b[0;32m    945\u001b[0m \u001b[38;5;124;03m    Exceptions can be raised if either the URI is wrong or the HTTP sends back an error (this is also the\u001b[39;00m\n\u001b[1;32m   (...)\u001b[0m\n\u001b[0;32m    958\u001b[0m \u001b[38;5;124;03m    :rtype: :class:`QueryResult` instance\u001b[39;00m\n\u001b[0;32m    959\u001b[0m \u001b[38;5;124;03m    \"\"\"\u001b[39;00m\n\u001b[1;32m--> 960\u001b[0m     \u001b[38;5;28;01mreturn\u001b[39;00m QueryResult(\u001b[38;5;28;43mself\u001b[39;49m\u001b[38;5;241;43m.\u001b[39;49m\u001b[43m_query\u001b[49m\u001b[43m(\u001b[49m\u001b[43m)\u001b[49m)\n",
      "File \u001b[1;32mc:\\Python311\\Lib\\site-packages\\SPARQLWrapper\\Wrapper.py:940\u001b[0m, in \u001b[0;36mSPARQLWrapper._query\u001b[1;34m(self)\u001b[0m\n\u001b[0;32m    938\u001b[0m     \u001b[38;5;28;01mraise\u001b[39;00m EndPointInternalError(e\u001b[38;5;241m.\u001b[39mread())\n\u001b[0;32m    939\u001b[0m \u001b[38;5;28;01melse\u001b[39;00m:\n\u001b[1;32m--> 940\u001b[0m     \u001b[38;5;28;01mraise\u001b[39;00m e\n",
      "File \u001b[1;32mc:\\Python311\\Lib\\site-packages\\SPARQLWrapper\\Wrapper.py:926\u001b[0m, in \u001b[0;36mSPARQLWrapper._query\u001b[1;34m(self)\u001b[0m\n\u001b[0;32m    924\u001b[0m         response \u001b[38;5;241m=\u001b[39m urlopener(request, timeout\u001b[38;5;241m=\u001b[39m\u001b[38;5;28mself\u001b[39m\u001b[38;5;241m.\u001b[39mtimeout)\n\u001b[0;32m    925\u001b[0m     \u001b[38;5;28;01melse\u001b[39;00m:\n\u001b[1;32m--> 926\u001b[0m         response \u001b[38;5;241m=\u001b[39m \u001b[43murlopener\u001b[49m\u001b[43m(\u001b[49m\u001b[43mrequest\u001b[49m\u001b[43m)\u001b[49m\n\u001b[0;32m    927\u001b[0m     \u001b[38;5;28;01mreturn\u001b[39;00m response, \u001b[38;5;28mself\u001b[39m\u001b[38;5;241m.\u001b[39mreturnFormat\n\u001b[0;32m    928\u001b[0m \u001b[38;5;28;01mexcept\u001b[39;00m urllib\u001b[38;5;241m.\u001b[39merror\u001b[38;5;241m.\u001b[39mHTTPError \u001b[38;5;28;01mas\u001b[39;00m e:\n",
      "File \u001b[1;32mc:\\Python311\\Lib\\urllib\\request.py:216\u001b[0m, in \u001b[0;36murlopen\u001b[1;34m(url, data, timeout, cafile, capath, cadefault, context)\u001b[0m\n\u001b[0;32m    214\u001b[0m \u001b[38;5;28;01melse\u001b[39;00m:\n\u001b[0;32m    215\u001b[0m     opener \u001b[38;5;241m=\u001b[39m _opener\n\u001b[1;32m--> 216\u001b[0m \u001b[38;5;28;01mreturn\u001b[39;00m \u001b[43mopener\u001b[49m\u001b[38;5;241;43m.\u001b[39;49m\u001b[43mopen\u001b[49m\u001b[43m(\u001b[49m\u001b[43murl\u001b[49m\u001b[43m,\u001b[49m\u001b[43m \u001b[49m\u001b[43mdata\u001b[49m\u001b[43m,\u001b[49m\u001b[43m \u001b[49m\u001b[43mtimeout\u001b[49m\u001b[43m)\u001b[49m\n",
      "File \u001b[1;32mc:\\Python311\\Lib\\urllib\\request.py:525\u001b[0m, in \u001b[0;36mOpenerDirector.open\u001b[1;34m(self, fullurl, data, timeout)\u001b[0m\n\u001b[0;32m    523\u001b[0m \u001b[38;5;28;01mfor\u001b[39;00m processor \u001b[38;5;129;01min\u001b[39;00m \u001b[38;5;28mself\u001b[39m\u001b[38;5;241m.\u001b[39mprocess_response\u001b[38;5;241m.\u001b[39mget(protocol, []):\n\u001b[0;32m    524\u001b[0m     meth \u001b[38;5;241m=\u001b[39m \u001b[38;5;28mgetattr\u001b[39m(processor, meth_name)\n\u001b[1;32m--> 525\u001b[0m     response \u001b[38;5;241m=\u001b[39m \u001b[43mmeth\u001b[49m\u001b[43m(\u001b[49m\u001b[43mreq\u001b[49m\u001b[43m,\u001b[49m\u001b[43m \u001b[49m\u001b[43mresponse\u001b[49m\u001b[43m)\u001b[49m\n\u001b[0;32m    527\u001b[0m \u001b[38;5;28;01mreturn\u001b[39;00m response\n",
      "File \u001b[1;32mc:\\Python311\\Lib\\urllib\\request.py:634\u001b[0m, in \u001b[0;36mHTTPErrorProcessor.http_response\u001b[1;34m(self, request, response)\u001b[0m\n\u001b[0;32m    631\u001b[0m \u001b[38;5;66;03m# According to RFC 2616, \"2xx\" code indicates that the client's\u001b[39;00m\n\u001b[0;32m    632\u001b[0m \u001b[38;5;66;03m# request was successfully received, understood, and accepted.\u001b[39;00m\n\u001b[0;32m    633\u001b[0m \u001b[38;5;28;01mif\u001b[39;00m \u001b[38;5;129;01mnot\u001b[39;00m (\u001b[38;5;241m200\u001b[39m \u001b[38;5;241m<\u001b[39m\u001b[38;5;241m=\u001b[39m code \u001b[38;5;241m<\u001b[39m \u001b[38;5;241m300\u001b[39m):\n\u001b[1;32m--> 634\u001b[0m     response \u001b[38;5;241m=\u001b[39m \u001b[38;5;28;43mself\u001b[39;49m\u001b[38;5;241;43m.\u001b[39;49m\u001b[43mparent\u001b[49m\u001b[38;5;241;43m.\u001b[39;49m\u001b[43merror\u001b[49m\u001b[43m(\u001b[49m\n\u001b[0;32m    635\u001b[0m \u001b[43m        \u001b[49m\u001b[38;5;124;43m'\u001b[39;49m\u001b[38;5;124;43mhttp\u001b[39;49m\u001b[38;5;124;43m'\u001b[39;49m\u001b[43m,\u001b[49m\u001b[43m \u001b[49m\u001b[43mrequest\u001b[49m\u001b[43m,\u001b[49m\u001b[43m \u001b[49m\u001b[43mresponse\u001b[49m\u001b[43m,\u001b[49m\u001b[43m \u001b[49m\u001b[43mcode\u001b[49m\u001b[43m,\u001b[49m\u001b[43m \u001b[49m\u001b[43mmsg\u001b[49m\u001b[43m,\u001b[49m\u001b[43m \u001b[49m\u001b[43mhdrs\u001b[49m\u001b[43m)\u001b[49m\n\u001b[0;32m    637\u001b[0m \u001b[38;5;28;01mreturn\u001b[39;00m response\n",
      "File \u001b[1;32mc:\\Python311\\Lib\\urllib\\request.py:563\u001b[0m, in \u001b[0;36mOpenerDirector.error\u001b[1;34m(self, proto, *args)\u001b[0m\n\u001b[0;32m    561\u001b[0m \u001b[38;5;28;01mif\u001b[39;00m http_err:\n\u001b[0;32m    562\u001b[0m     args \u001b[38;5;241m=\u001b[39m (\u001b[38;5;28mdict\u001b[39m, \u001b[38;5;124m'\u001b[39m\u001b[38;5;124mdefault\u001b[39m\u001b[38;5;124m'\u001b[39m, \u001b[38;5;124m'\u001b[39m\u001b[38;5;124mhttp_error_default\u001b[39m\u001b[38;5;124m'\u001b[39m) \u001b[38;5;241m+\u001b[39m orig_args\n\u001b[1;32m--> 563\u001b[0m     \u001b[38;5;28;01mreturn\u001b[39;00m \u001b[38;5;28;43mself\u001b[39;49m\u001b[38;5;241;43m.\u001b[39;49m\u001b[43m_call_chain\u001b[49m\u001b[43m(\u001b[49m\u001b[38;5;241;43m*\u001b[39;49m\u001b[43margs\u001b[49m\u001b[43m)\u001b[49m\n",
      "File \u001b[1;32mc:\\Python311\\Lib\\urllib\\request.py:496\u001b[0m, in \u001b[0;36mOpenerDirector._call_chain\u001b[1;34m(self, chain, kind, meth_name, *args)\u001b[0m\n\u001b[0;32m    494\u001b[0m \u001b[38;5;28;01mfor\u001b[39;00m handler \u001b[38;5;129;01min\u001b[39;00m handlers:\n\u001b[0;32m    495\u001b[0m     func \u001b[38;5;241m=\u001b[39m \u001b[38;5;28mgetattr\u001b[39m(handler, meth_name)\n\u001b[1;32m--> 496\u001b[0m     result \u001b[38;5;241m=\u001b[39m \u001b[43mfunc\u001b[49m\u001b[43m(\u001b[49m\u001b[38;5;241;43m*\u001b[39;49m\u001b[43margs\u001b[49m\u001b[43m)\u001b[49m\n\u001b[0;32m    497\u001b[0m     \u001b[38;5;28;01mif\u001b[39;00m result \u001b[38;5;129;01mis\u001b[39;00m \u001b[38;5;129;01mnot\u001b[39;00m \u001b[38;5;28;01mNone\u001b[39;00m:\n\u001b[0;32m    498\u001b[0m         \u001b[38;5;28;01mreturn\u001b[39;00m result\n",
      "File \u001b[1;32mc:\\Python311\\Lib\\urllib\\request.py:643\u001b[0m, in \u001b[0;36mHTTPDefaultErrorHandler.http_error_default\u001b[1;34m(self, req, fp, code, msg, hdrs)\u001b[0m\n\u001b[0;32m    642\u001b[0m \u001b[38;5;28;01mdef\u001b[39;00m \u001b[38;5;21mhttp_error_default\u001b[39m(\u001b[38;5;28mself\u001b[39m, req, fp, code, msg, hdrs):\n\u001b[1;32m--> 643\u001b[0m     \u001b[38;5;28;01mraise\u001b[39;00m HTTPError(req\u001b[38;5;241m.\u001b[39mfull_url, code, msg, hdrs, fp)\n",
      "\u001b[1;31mHTTPError\u001b[0m: HTTP Error 403: Forbidden"
     ]
    }
   ],
   "source": [
    "from SPARQLWrapper import SPARQLWrapper, JSON\n",
    "\n",
    "sparql = SPARQLWrapper(\"https://query.wikidata.org/sparql\")  # Construimos un objeto para acceder a cierto endpoint. En este caso, DBpedia\n",
    "sparql.setQuery(\"\"\"\n",
    "\n",
    "prefix wdt: \n",
    "prefix wd: \n",
    "prefix wikibase: \n",
    "prefix dbr: \n",
    "prefix dbo: \n",
    "prefix dbp: \n",
    "prefix ex:<http://156.35.95.43:3030/SerialExperimentsLain/sparql>\n",
    "\n",
    "                \n",
    "SELECT ?wikidataItem ?name ?subjectLabel\n",
    "  SERVICE {\n",
    "      ?subject ex:references ?wikidataItem .\n",
    "      ?subject rdfs:label ?subjectLabel .\n",
    "      FILTER (LANG(?subjectLabel) = \"en\")\n",
    "  }\n",
    "\"\"\"\n",
    ")\n",
    "\n",
    "sparql.setReturnFormat(JSON)\n",
    "results = sparql.query().convert()\n",
    "for result in results[\"results\"][\"bindings\"]:\n",
    "    for a_var_key in result:\n",
    "      print(result[a_var_key][\"value\"], end=\"       \")\n",
    "    print()\n",
    "print(\"--------\")"
   ]
  },
  {
   "cell_type": "code",
   "execution_count": 14,
   "metadata": {},
   "outputs": [
    {
     "name": "stdout",
     "output_type": "stream",
     "text": [
      "Number of objects: 9\n"
     ]
    }
   ],
   "source": [
    "query = \"\"\"\n",
    "PREFIX ex: <http://example.org/>\n",
    "PREFIX schema: <http://schema.org/>\n",
    "PREFIX dpedia: <http://dbpedia.org/resource/>\n",
    "\n",
    "SELECT (COUNT(?object) AS ?count) \n",
    "WHERE {\n",
    "  ?object a ?type .\n",
    "  VALUES ?type { ex:ComputerCode schema:WebPage schema:VideoGame dpedia:Electrical_device dpedia:Computer_network dpedia:Computer dpedia:Operating_system }\n",
    "}\n",
    "\"\"\"\n",
    "\n",
    "query_result = g.query(query)\n",
    "\n",
    "for a_row in query_result:\n",
    "    print(f\"Number of objects: {a_row['count']}\")"
   ]
  },
  {
   "cell_type": "code",
   "execution_count": null,
   "metadata": {},
   "outputs": [],
   "source": [
    "# Hacer algo como FILTER(?bdate >= \"1960-01-01\"^^xsd:date)"
   ]
  },
  {
   "cell_type": "markdown",
   "metadata": {},
   "source": [
    "# Ejercicio 3: Desarrollo de aplicación web \n",
    "\n",
    "Url de la web: \n",
    "\n",
    "## Descripción del contenido\n",
    "\n",
    "## Descripción de la forma de uso de RDFa"
   ]
  },
  {
   "cell_type": "markdown",
   "metadata": {},
   "source": [
    "# Ejercicio 4 - Validación datos RDF"
   ]
  },
  {
   "cell_type": "code",
   "execution_count": null,
   "metadata": {},
   "outputs": [],
   "source": [
    "from pyshex import ShExEvaluator\n",
    "\n",
    "results = ShExEvaluator().evaluate(g.serialize(format=\"turtle\"), # grafo\n",
    "                                   shex_completa_libro,          # esquema shex\n",
    "                                   focus=\"http://example.org/book1\", # URI del nodo que vamos a evaluar\n",
    "                                   start=\"http://example.org/shape_libro\") # shape de inicio contra la que enfrentar el foco\n",
    "for r in results:\n",
    "    if r.result:\n",
    "        print(\"PASS\")\n",
    "    else:\n",
    "        print(f\"FAIL:\\n {r.reason}\")"
   ]
  },
  {
   "cell_type": "markdown",
   "metadata": {},
   "source": [
    "## Ejercicio : Extracción de shapes"
   ]
  },
  {
   "cell_type": "code",
   "execution_count": 1,
   "metadata": {},
   "outputs": [
    {
     "name": "stdout",
     "output_type": "stream",
     "text": [
      "Note: you may need to restart the kernel to use updated packages.\n"
     ]
    },
    {
     "name": "stderr",
     "output_type": "stream",
     "text": [
      "  WARNING: Failed to write executable - trying to use .deleteme logic\n",
      "ERROR: Could not install packages due to an OSError: [WinError 2] El sistema no puede encontrar el archivo especificado: 'c:\\\\Python311\\\\Scripts\\\\flask.exe' -> 'c:\\\\Python311\\\\Scripts\\\\flask.exe.deleteme'\n",
      "\n"
     ]
    }
   ],
   "source": [
    "%pip install shexer --quiet"
   ]
  }
 ],
 "metadata": {
  "kernelspec": {
   "display_name": "Python 3",
   "language": "python",
   "name": "python3"
  },
  "language_info": {
   "codemirror_mode": {
    "name": "ipython",
    "version": 3
   },
   "file_extension": ".py",
   "mimetype": "text/x-python",
   "name": "python",
   "nbconvert_exporter": "python",
   "pygments_lexer": "ipython3",
   "version": "3.11.4"
  }
 },
 "nbformat": 4,
 "nbformat_minor": 2
}
