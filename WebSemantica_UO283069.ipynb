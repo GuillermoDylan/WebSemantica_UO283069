{
 "cells": [
  {
   "cell_type": "markdown",
   "metadata": {},
   "source": [
    "# Ejercicio 1 - Modelado de datos como RDF\n",
    "## Temática elegida\n",
    "La temática que se ha escogido para modelar los datos ha sido la serie de animación japonesa \"*Serial Experiments: Lain*\", un anime vanguardista conocido por tocar temas filosóficos y de comunicación social (centrado en el comienzo de internet en los 90-2000).\n",
    "\n",
    "Se han modelado principalmente **personajes, organizaciones y objetos** que aparecen en a serie, intentando hacer incapié en las similitudes de esta con elementos de la vida real.\n",
    "\n",
    "Entre los diferentes **conceptos y entidades** modelados, podemos encontrar:\n",
    "\n",
    "- **Personajes**: los personajes principales de la serie, de tipo Person\n",
    "- **Lugares**: (Solamente uno, ya que la trama transcurre en Tokyo, Japón)\n",
    "- **Organizaciones**: tomando el termino de organización como grupo organizado, como pueden ser empresas o sectas\n",
    "- **Productos/Objetos**: muy generalmente, todos aquellos elementos desarrollados por alguien con un fin o propósito, desde internet a productos de compra venta. Por enumerar algunos:\n",
    "    - Código de programación\n",
    "    - Dispositivos electrónicos\n",
    "    - Ordenadores\n",
    "    - Redes de ordenadores\n",
    "- **Otros conceptos que aparecen representados**:\n",
    "    - Dios: de manera simplificada, teniendo en cuenta su papel en la serie (mejor definido en la ontología)\n",
    "    - Videojuegos: muy simplificadamente\n",
    "    - Páginas web: tanto como enlaces como entidades en sí, ya que juegan un papel dentro de la serie\n",
    "    - Conceptos físicos: como resonancias magnéticas\n",
    "    - Eventos \n",
    "\n",
    "Para modelar este dominio, se ha hecho uso de **elementos de otras ontologías**, principalmente de Wikidata, Schema.org y DBpedia, aunque también se han tenido en cuenta otras ontologías como la [VideoGameOntology](http://purl.org/net/VideoGameOntology#), [FOAF](http://xmlns.com/foaf/0.1/) o [GEO](http://www.w3.org/2003/01/geo/wgs84_pos#). Entre estos elementos encontramos:\n",
    "- La entidad de *schema:Person*, que representa a una persona\n",
    "- La entidad *schema:Organization*, que representa organizaciones\n",
    "- Se ha usado *schema:City* para representar ciudades\n",
    "- Diversos Qs de Wikidata, entre ellos *Q15836568* (Computer Network) o *Q1293220* (Resonancia de Schumman)\n",
    "- Para los eventos se ha empleado *schema:Event*\n",
    "- Para el videojuego mencionado en el grafdo, se ha empleado *vgo:GameGenre* para describir su género\n",
    "\n",
    "No se han empleado ontologías que describan a los personajes como personajes de una serie animada ni como peronajes de ficción ya que se ha considerado que no era pertinente para la aplicación que se le pretenderá dar a los datos del grafo."
   ]
  },
  {
   "cell_type": "code",
   "execution_count": null,
   "metadata": {},
   "outputs": [
    {
     "data": {
      "text/plain": [
       "'@prefix dpedia: <http://dbpedia.org/resource/> .\\n@prefix foaf: <http://xmlns.com/foaf/0.1/> .\\n@prefix owl: <http://www.w3.org/2002/07/owl#> .\\n@prefix rdf: <http://www.w3.org/1999/02/22-rdf-syntax-ns#> .\\n@prefix rdfs: <http://www.w3.org/2000/01/rdf-schema#> .\\n@prefix schema1: <http://schema.org/> .\\n@prefix uo: <http://uniovi.es/miw/uo283069/entity/> .\\n@prefix uop: <http://uniovi.es/miw/uo283069/property/> .\\n@prefix vgo: <http://purl.org/net/VideoGameOntology#> .\\n@prefix wd: <http://www.wikidata.org/entity/> .\\n@prefix xsd: <http://www.w3.org/2001/XMLSchema#> .\\n\\nuo:Afx-n-nPrv-View.CL a uo:ComputerCode ;\\n    schema1:creator uo:Lain_Iwakura ;\\n    schema1:name \"Afx-n-nPrv-View.CL\" ;\\n    schema1:programmingLanguage wd:Q849146 ;\\n    uop:references wd:Q312 ;\\n    rdfs:comment \"Afx-n-nPrv-View.CL is the source for a code walker.\" ;\\n    foaf:image <https://lain.wiki/wiki/File:Walker.jpg> .\\n\\nuo:CRowView.CL a uo:ComputerCode ;\\n    schema1:creator uo:Lain_Iwakura ;\\n    schema1:name \"CRowView.CL\" ;\\n    schema1:programmingLanguage wd:Q849146 ;\\n    uop:references wd:Q244615 ;\\n    rdfs:comment \"CRowView.CL contains code for John Conway\\'s Game of Life.\" ;\\n    foaf:image <https://lain.wiki/wiki/File:Life.jpg> .\\n\\nuo:KarlHaushofer a schema1:Person ;\\n    schema1:deathPlace uo:Tokyo ;\\n    schema1:employmentUnit uo:MenInBlack ;\\n    schema1:hasOccupation [ a schema1:Occupation ;\\n            schema1:name \"Spy\" ;\\n            schema1:occupationalCategory \"33-3021.00\" ] ;\\n    schema1:name \"Karl Haushofer\"@en ;\\n    uop:characterRole \"Secondary Character\" ;\\n    foaf:age 32 ;\\n    foaf:gender \"Male\" .\\n\\nuo:KensingtonExperiment a schema1:Event ;\\n    schema1:director uo:ProfessorHodgeson ;\\n    schema1:location uo:Tokyo ;\\n    schema1:name \"Kensington Experiment\" ;\\n    uop:references wd:Q496036 ;\\n    rdfs:comment \"An experiment conducted by Professor Hodgeson  to harness the latent para-psychological abilities of children that resulted in multiple casualties.\" .\\n\\nuo:LinSuiXi a schema1:Person ;\\n    schema1:deathPlace uo:Tokyo ;\\n    schema1:employmentUnit uo:MenInBlack ;\\n    schema1:hasOccupation [ a schema1:Occupation ;\\n            schema1:name \"Spy\" ;\\n            schema1:occupationalCategory \"33-3021.00\" ] ;\\n    schema1:name \"Lin Sui-Xi\"@en ;\\n    uop:characterRole \"Secondary Character\" ;\\n    foaf:age 35 ;\\n    foaf:gender \"Male\" .\\n\\nuo:Mebious a schema1:WebPage ;\\n    schema1:creator uo:Lain_Iwakura ;\\n    schema1:name \"Mebious.co.uk\" ;\\n    schema1:significantLink <http://www.mebious.co.uk/>,\\n        <http://www.mebious.mobi/> ;\\n    rdfs:comment \"A website on the Wired.\" .\\n\\nuo:PHANTOMa a schema1:VideoGame ;\\n    vgo:hasGameGenere uo:MMORPG ;\\n    schema1:device uo:KIDS ;\\n    schema1:name \"PHANTOMa\" ;\\n    foaf:image <https://lain.wiki/wiki/File:1669_900.png> .\\n\\nuo:CommunicationOperatingSystem a dpedia:Operating_system ;\\n    rdfs:label \"Communication Operating System\" ;\\n    rdfs:comment \"An operating system designed for communication purposes.\" .\\n\\nuo:KIDS a dpedia:Electrical_device ;\\n    schema1:creator uo:ProfessorHodgeson ;\\n    schema1:location uo:Tokyo ;\\n    schema1:name \"KIDS System\" .\\n\\nuo:KnightsoftheEasternCalculus a schema1:Organization ;\\n    schema1:location uo:Tokyo ;\\n    schema1:name \"Knights of the Eastern Calculus\" ;\\n    uop:references wd:Q6422517 .\\n\\nuo:MMORPG a vgo:GameGenre ;\\n    rdfs:label \"MMORPG\" ;\\n    rdf:subclassOf vgo:GameGenre ;\\n    rdfs:comment \"A genre of video games that are played online with a large number of players.\" ;\\n    owl:sameAs wd:Q175173 .\\n\\nuo:Navi2 a uo:NAVI ;\\n    schema1:manufacturer uo:TachibanaLabs ;\\n    schema1:name \"NAVI\" ;\\n    schema1:operatingSystem uo:CoplandOS ;\\n    schema1:version 2 ;\\n    uop:hasComponent uo:PsycheChip ;\\n    uop:references wd:Q306381 ;\\n    uop:usesProtocol uo:Protocol7 ;\\n    owl:sameAs wd:Q380574 .\\n\\nuo:Navi3 a uo:NAVI ;\\n    schema1:alternateName \"Handheld NAVI\" ;\\n    schema1:manufacturer uo:TachibanaLabs ;\\n    schema1:name \"HandiNAVI\" ;\\n    schema1:operatingSystem uo:CoplandOS ;\\n    schema1:version 3 ;\\n    uop:references wd:Q420772 .\\n\\nuo:NaviV1 a uo:NAVI ;\\n    schema1:manufacturer uo:TachibanaLabs ;\\n    schema1:name \"Child\\'s NAVI\" ;\\n    schema1:operatingSystem uo:CommunicationOperatingSystem ;\\n    schema1:version 1 ;\\n    uop:references wd:Q2141790 ;\\n    uop:usesProtocol uo:Protocol6 .\\n\\nuo:Protocol6 a wd:Q15836568 ;\\n    schema1:name \"Protocol 6\" ;\\n    schema1:version 6 ;\\n    uop:grantsAccessTo uo:TheWired ;\\n    uop:references wd:Q2551624 .\\n\\nuo:PsycheChip a schema1:Product ;\\n    schema1:manufacturer uo:KnightsoftheEasternCalculus ;\\n    schema1:name \"Psyche Chip\" ;\\n    uop:usesProtocol uo:Protocol7 .\\n\\nuo:SchumannResonances a wd:Q1293220 ;\\n    schema1:name \"Schumann Resonances\" ;\\n    uop:references wd:Q916906 ;\\n    rdfs:comment \"A set of spectrum peaks in the uotremely low frequency portion of the Earth\\'s electromagnetic field spectrum.\" ;\\n    owl:sameAs wd:Q916906 .\\n\\nuo:CoplandOS a dpedia:Operating_system ;\\n    schema1:manufacturer uo:TachibanaLabs ;\\n    schema1:name \"Copland OS\" ;\\n    uop:references wd:Q1131259 .\\n\\nuo:MasamiEiri a schema1:Person,\\n        uo:God ;\\n    schema1:deathPlace uo:Tokyo ;\\n    schema1:employmentUnit uo:TachibanaLabs ;\\n    schema1:hasOccupation [ a schema1:Occupation ;\\n            schema1:name \"Computer Programmer\" ;\\n            schema1:occupationalCategory \"15-1251.00\" ] ;\\n    schema1:name \"Masami Eiri\"@en,\\n        \"英利 政美\"@ja ;\\n    uop:characterRole \"Antagonist\" ;\\n    foaf:age 30 ;\\n    foaf:gender \"Male\" .\\n\\nuo:MenInBlack a schema1:Organization ;\\n    schema1:founder [ a schema1:Person ;\\n            schema1:employmentUnit uo:TachibanaLabs ;\\n            schema1:name \"Kurosawa\"@en,\\n                \"黒沢\"@ja ;\\n            foaf:gender \"Male\" ] ;\\n    schema1:name \"Men in Black\" ;\\n    uop:location uo:Tokyo ;\\n    uop:references wd:Q51410 .\\n\\nuo:MihoIwakura a schema1:Person ;\\n    schema1:children uo:Lain_Iwakura,\\n        uo:MikaIwakura ;\\n    schema1:employmentUnit uo:TachibanaLabs ;\\n    schema1:name \"Miho Iwakura\"@en,\\n        \"岩倉 美穂\"@ja ;\\n    uop:characterRole \"Secondary Character\" ;\\n    foaf:age 38 ;\\n    foaf:gender \"Female\" .\\n\\nuo:ProfessorHodgeson a schema1:Person ;\\n    schema1:deathPlace uo:Tokyo ;\\n    schema1:employmentUnit uo:TachibanaLabs ;\\n    schema1:hasOccupation [ a schema1:Occupation ;\\n            schema1:name \"Scientist\" ;\\n            schema1:occupationalCategory \"19-1029.01\" ] ;\\n    schema1:name \"Professor Hodgeson\"@en ;\\n    uop:characterRole \"Secondary Character\" ;\\n    foaf:age 60 ;\\n    foaf:gender \"Male\" .\\n\\nuo:Protocol7 a wd:Q15836568 ;\\n    schema1:creator uo:MasamiEiri ;\\n    schema1:name \"Protocol 7\" ;\\n    schema1:version 7 ;\\n    uo:worksThrough uo:SchumannResonances ;\\n    uop:grantsAccessTo uo:TheWired ;\\n    uop:references wd:Q28823658 .\\n\\nuo:TheWired a dpedia:Computer_network ;\\n    schema1:name \"The Wired\" ;\\n    uop:references wd:Q466 ;\\n    rdfs:subClassOf dpedia:Virtual_reality .\\n\\nuo:YasuoIwakura a schema1:Person ;\\n    schema1:children uo:Lain_Iwakura,\\n        uo:MikaIwakura ;\\n    schema1:employmentUnit uo:TachibanaLabs ;\\n    schema1:hasOccupation [ a schema1:Occupation ;\\n            schema1:name \"Computer Programmer\" ;\\n            schema1:occupationalCategory \"15-1251.00\" ] ;\\n    schema1:name \"Yasuo Iwakura\"@en,\\n        \"岩倉 康男\"@ja ;\\n    uop:characterRole \"Secondary Character\" ;\\n    foaf:age 45 ;\\n    foaf:gender \"Male\" .\\n\\nuo:MikaIwakura a schema1:Person ;\\n    schema1:name \"Mika Iwakura\"@en,\\n        \"岩倉 美香\"@ja ;\\n    schema1:parent uo:MihoIwakura,\\n        uo:YasuoIwakura ;\\n    schema1:sibling uo:Lain_Iwakura ;\\n    uop:characterRole \"Secondary Character\" ;\\n    foaf:age 16 ;\\n    foaf:gender \"Female\" .\\n\\nuo:NAVI a dpedia:Computer ;\\n    schema1:manufacturer uo:TachibanaLabs ;\\n    schema1:name \"Knowledge Navigator\",\\n        \"NAVI\" ;\\n    uop:versions ( uo:NaviV1 uo:Navi2 uo:Navi3 ) .\\n\\nuo:Lain_Iwakura a schema1:Person ;\\n    schema1:follows uo:MasamiEiri ;\\n    schema1:name \"Lain Iwakura\"@en,\\n        \"岩倉 レイン\"@ja ;\\n    schema1:parent uo:MihoIwakura,\\n        uo:YasuoIwakura ;\\n    schema1:sibling uo:MikaIwakura ;\\n    uop:characterRole \"Main Character\" ;\\n    owl:sameAs wd:Q112631434 ;\\n    foaf:age 14 ;\\n    foaf:gender \"Female\" .\\n\\nuo:Tokyo a schema1:City ;\\n    rdfs:label \"Tokyo\" ;\\n    schema1:alternateName \"東京都\"@ja ;\\n    schema1:containedInPlace wd:Q17 ;\\n    schema1:latitude \"35.6895\"^^xsd:float ;\\n    schema1:longitude \"139.6917\"^^xsd:float ;\\n    owl:sameAs wd:Q1490 .\\n\\nuo:TachibanaLabs a schema1:Organization ;\\n    schema1:location uo:Tokyo ;\\n    schema1:name \"Tachibana General Laboratories\" .\\n\\n'"
      ]
     },
     "execution_count": 6,
     "metadata": {},
     "output_type": "execute_result"
    }
   ],
   "source": [
    "%pip install rdflib sparqlwrapper pyshex shexer --quiet --user\n",
    "from rdflib import Graph, Literal, BNode, Namespace, RDF, URIRef\n",
    "from pyshex import ShExEvaluator\n",
    "from pyshex.evaluate import evaluate\n",
    "\n",
    "g = Graph()\n",
    "base_path = \"./lain.ttl\"\n",
    "g.parse(base_path)\n",
    "g.serialize(format=\"turtle\")"
   ]
  },
  {
   "cell_type": "markdown",
   "metadata": {},
   "source": [
    "# Ejercicio 2 - Despliegue datos RDF + consultas SPARQL\n",
    "\n",
    "- URL pública del endpoint de Apache Jena Fuseki: http://156.35.95.43:3030/SerialExperimentsLain/sparql\n",
    "- URL pública del endpoint de Blazergaph: http://156.35.95.43:9999/blazegraph/namespace/kb/sparql (puede que no funcione por errores del servidor, fuseki en cambio si que funciona)\n",
    "\n",
    "\n",
    "## Primera consulta: Familia\n",
    "- Objetivo: Obtener los datos de personajes que formen una familia (padres, hijos o hermanos)\n",
    "- Consulta NO FEDERADA\n",
    "### Query:\n",
    "```SPARQL\n",
    "PREFIX rdf: <http://www.w3.org/1999/02/22-rdf-syntax-ns#>\n",
    "PREFIX rdfs: <http://www.w3.org/2000/01/rdf-schema#>\n",
    "PREFIX schema: <http://schema.org/>\n",
    "\n",
    "SELECT DISTINCT ?person ?personName (GROUP_CONCAT(DISTINCT ?relation; separator=\", \") AS ?relations) (GROUP_CONCAT(DISTINCT ?relativeName; separator=\", \") AS ?relatives)\n",
    "WHERE {\n",
    "  ?person schema:name ?personName .\n",
    "  FILTER (LANG(?personName) = \"en\")\n",
    "\n",
    "  {\n",
    "    ?person schema:parent ?relative .\n",
    "    ?relative schema:name ?relativeName .\n",
    "    FILTER (LANG(?relativeName) = \"en\")\n",
    "    BIND(\"Parent\" AS ?relation)\n",
    "  }\n",
    "  UNION\n",
    "  {\n",
    "    ?person schema:sibling ?relative .\n",
    "    ?relative schema:name ?relativeName .\n",
    "    FILTER (LANG(?relativeName) = \"en\")\n",
    "    BIND(\"Sibling\" AS ?relation)\n",
    "  }\n",
    "  UNION\n",
    "  {\n",
    "    ?person schema:children ?relative .\n",
    "    ?relative schema:name ?relativeName .\n",
    "    FILTER (LANG(?relativeName) = \"en\")\n",
    "    BIND(\"Child\" AS ?relation)\n",
    "  }\n",
    "}\n",
    "GROUP BY ?person ?personName\n",
    "ORDER BY ?personName ?relation\n",
    "\n",
    "```"
   ]
  },
  {
   "cell_type": "code",
   "execution_count": 7,
   "metadata": {},
   "outputs": [
    {
     "name": "stdout",
     "output_type": "stream",
     "text": [
      "Person: http://example.org/Lain_Iwakura, Name: Lain Iwakura, Relations: Parent, Sibling, Relatives: Yasuo Iwakura, Miho Iwakura, Mika Iwakura\n",
      "Person: http://example.org/MihoIwakura, Name: Miho Iwakura, Relations: Child, Relatives: Mika Iwakura, Lain Iwakura\n",
      "Person: http://example.org/MikaIwakura, Name: Mika Iwakura, Relations: Parent, Sibling, Relatives: Miho Iwakura, Yasuo Iwakura, Lain Iwakura\n",
      "Person: http://example.org/YasuoIwakura, Name: Yasuo Iwakura, Relations: Child, Relatives: Mika Iwakura, Lain Iwakura\n"
     ]
    }
   ],
   "source": [
    "str_query = \"\"\"\n",
    "PREFIX rdf: <http://www.w3.org/1999/02/22-rdf-syntax-ns#>\n",
    "PREFIX rdfs: <http://www.w3.org/2000/01/rdf-schema#>\n",
    "PREFIX schema: <http://schema.org/>\n",
    "\n",
    "SELECT DISTINCT ?person ?personName (GROUP_CONCAT(DISTINCT ?relation; separator=\", \") AS ?relations) (GROUP_CONCAT(DISTINCT ?relativeName; separator=\", \") AS ?relatives)\n",
    "WHERE {\n",
    "  ?person schema:name ?personName .\n",
    "  FILTER (LANG(?personName) = \"en\")\n",
    "\n",
    "  {\n",
    "    ?person schema:parent ?relative .\n",
    "    ?relative schema:name ?relativeName .\n",
    "    FILTER (LANG(?relativeName) = \"en\")\n",
    "    BIND(\"Parent\" AS ?relation)\n",
    "  }\n",
    "  UNION\n",
    "  {\n",
    "    ?person schema:sibling ?relative .\n",
    "    ?relative schema:name ?relativeName .\n",
    "    FILTER (LANG(?relativeName) = \"en\")\n",
    "    BIND(\"Sibling\" AS ?relation)\n",
    "  }\n",
    "  UNION\n",
    "  {\n",
    "    ?person schema:children ?relative .\n",
    "    ?relative schema:name ?relativeName .\n",
    "    FILTER (LANG(?relativeName) = \"en\")\n",
    "    BIND(\"Child\" AS ?relation)\n",
    "  }\n",
    "}\n",
    "GROUP BY ?person ?personName\n",
    "ORDER BY ?personName ?relation\n",
    "\"\"\"\n",
    "query_result = g.query(str_query)\n",
    "\n",
    "# Los resultados se recorren por filas, quizá te recuerde a resultsets de librerías para ejecutar consultas SQL.\n",
    "# Cada fila contiene objeto de dominio de rdflib (URIRef, Literal...) en variables que se llaman exactamente como los nombres de variables en la consulta SPARQL\n",
    "for a_row in query_result:\n",
    "  print(f\"Person: {a_row.person}, Name: {a_row.personName}, Relations: {a_row.relations}, Relatives: {a_row.relatives}\")"
   ]
  },
  {
   "cell_type": "markdown",
   "metadata": {},
   "source": [
    "## Segunda consulta: Referencias\n",
    "\n",
    "\n",
    "```SPARQL\n",
    "PREFIX rdf: <http://www.w3.org/1999/02/22-rdf-syntax-ns#>\n",
    "PREFIX rdfs: <http://www.w3.org/2000/01/rdf-schema#>\n",
    "PREFIX schema: <http://schema.org/>\n",
    "PREFIX ex: <http://example.org/>\n",
    "\n",
    "SELECT ?object ?name ?subject\n",
    "WHERE {\n",
    "  ?object ex:references ?subject .\n",
    "  ?object schema:name ?name . \n",
    "}\n",
    "```"
   ]
  },
  {
   "cell_type": "code",
   "execution_count": 4,
   "metadata": {},
   "outputs": [
    {
     "name": "stdout",
     "output_type": "stream",
     "text": [
      "Object: http://example.org/Protocol6, Name: Protocol 6, Subject: http://www.wikidata.org/entity/Q2551624\n",
      "Object: http://example.org/Protocol7, Name: Protocol 7, Subject: http://www.wikidata.org/entity/Q28823658\n",
      "Object: http://example.org/KnightsoftheEasternCalculus, Name: Knights of the Eastern Calculus, Subject: http://www.wikidata.org/entity/Q6422517\n",
      "Object: http://example.org/CoplandOS, Name: Copland OS, Subject: http://www.wikidata.org/entity/Q1131259\n",
      "Object: http://example.org/NaviV1, Name: Child's NAVI, Subject: http://www.wikidata.org/entity/Q2141790\n",
      "Object: http://example.org/Navi2, Name: NAVI, Subject: http://www.wikidata.org/entity/Q306381\n",
      "Object: http://example.org/Navi3, Name: HandiNAVI, Subject: http://www.wikidata.org/entity/Q420772\n",
      "Object: http://example.org/TheWired, Name: The Wired, Subject: http://www.wikidata.org/entity/Q466\n",
      "Object: http://example.org/KensingtonExperiment, Name: Kensington Experiment, Subject: http://www.wikidata.org/entity/Q496036\n",
      "Object: http://example.org/MenInBlack, Name: Men in Black, Subject: http://www.wikidata.org/entity/Q51410\n",
      "Object: http://example.org/CRowView.CL, Name: CRowView.CL, Subject: http://www.wikidata.org/entity/Q244615\n",
      "Object: http://example.org/Afx-n-nPrv-View.CL, Name: Afx-n-nPrv-View.CL, Subject: http://www.wikidata.org/entity/Q312\n"
     ]
    }
   ],
   "source": [
    "str_query =\"\"\"\n",
    "PREFIX rdf: <http://www.w3.org/1999/02/22-rdf-syntax-ns#>\n",
    "PREFIX rdfs: <http://www.w3.org/2000/01/rdf-schema#>\n",
    "PREFIX schema: <http://schema.org/>\n",
    "PREFIX ex: <http://example.org/>\n",
    "\n",
    "SELECT ?object ?name ?subject\n",
    "WHERE {\n",
    "  ?object ex:references ?subject .\n",
    "  ?object schema:name ?name . \n",
    "}\n",
    "\"\"\"\n",
    "query_result = g.query(str_query)\n",
    "\n",
    "for a_row in query_result:\n",
    "  print(f\"Object: {a_row.object}, Name: {a_row.name}, Subject: {a_row.subject}\")"
   ]
  },
  {
   "cell_type": "markdown",
   "metadata": {},
   "source": [
    "## Tercera consulta: Federada\n",
    "- Objetivo: Obtener, en base a la consulta anterior, los nombres de los sujetos en Wikidata"
   ]
  },
  {
   "cell_type": "code",
   "execution_count": 2,
   "metadata": {},
   "outputs": [
    {
     "ename": "NameError",
     "evalue": "name 'g' is not defined",
     "output_type": "error",
     "traceback": [
      "\u001b[1;31m---------------------------------------------------------------------------\u001b[0m",
      "\u001b[1;31mNameError\u001b[0m                                 Traceback (most recent call last)",
      "Cell \u001b[1;32mIn[2], line 22\u001b[0m\n\u001b[0;32m      1\u001b[0m str_query \u001b[38;5;241m=\u001b[39m\u001b[38;5;124m\"\"\"\u001b[39m\n\u001b[0;32m      2\u001b[0m \u001b[38;5;124mPREFIX rdf: <http://www.w3.org/1999/02/22-rdf-syntax-ns#>\u001b[39m\n\u001b[0;32m      3\u001b[0m \u001b[38;5;124mPREFIX rdfs: <http://www.w3.org/2000/01/rdf-schema#>\u001b[39m\n\u001b[1;32m   (...)\u001b[0m\n\u001b[0;32m     20\u001b[0m \u001b[38;5;124m}\u001b[39m\n\u001b[0;32m     21\u001b[0m \u001b[38;5;124m\"\"\"\u001b[39m\n\u001b[1;32m---> 22\u001b[0m query_result \u001b[38;5;241m=\u001b[39m \u001b[43mg\u001b[49m\u001b[38;5;241m.\u001b[39mquery(str_query)\n\u001b[0;32m     24\u001b[0m \u001b[38;5;28;01mfor\u001b[39;00m a_row \u001b[38;5;129;01min\u001b[39;00m query_result:\n\u001b[0;32m     25\u001b[0m   \u001b[38;5;28mprint\u001b[39m(\u001b[38;5;124mf\u001b[39m\u001b[38;5;124m\"\u001b[39m\u001b[38;5;124mObject: \u001b[39m\u001b[38;5;132;01m{\u001b[39;00ma_row\u001b[38;5;241m.\u001b[39mobject\u001b[38;5;132;01m}\u001b[39;00m\u001b[38;5;124m, Name: \u001b[39m\u001b[38;5;132;01m{\u001b[39;00ma_row\u001b[38;5;241m.\u001b[39mname\u001b[38;5;132;01m}\u001b[39;00m\u001b[38;5;124m, Subject: \u001b[39m\u001b[38;5;132;01m{\u001b[39;00ma_row\u001b[38;5;241m.\u001b[39msubjectLabel\u001b[38;5;132;01m}\u001b[39;00m\u001b[38;5;124m - \u001b[39m\u001b[38;5;132;01m{\u001b[39;00ma_row\u001b[38;5;241m.\u001b[39msubject\u001b[38;5;132;01m}\u001b[39;00m\u001b[38;5;124m\"\u001b[39m)\n",
      "\u001b[1;31mNameError\u001b[0m: name 'g' is not defined"
     ]
    }
   ],
   "source": [
    "str_query =\"\"\"\n",
    "PREFIX rdf: <http://www.w3.org/1999/02/22-rdf-syntax-ns#>\n",
    "PREFIX rdfs: <http://www.w3.org/2000/01/rdf-schema#>\n",
    "PREFIX schema: <http://schema.org/>\n",
    "PREFIX ex: <http://example.org/>\n",
    "PREFIX wd: <http://www.wikidata.org/entity/>\n",
    "PREFIX wdt: <http://www.wikidata.org/prop/direct/>\n",
    "PREFIX wikibase: <http://wikiba.se/ontology#>\n",
    "PREFIX bd: <http://www.bigdata.com/rdf#>\n",
    "\n",
    "SELECT ?object ?name ?subject ?subjectLabel\n",
    "WHERE {\n",
    "    ?object ex:references ?subject .\n",
    "    ?object schema:name ?name . \n",
    "    \n",
    "    SERVICE <https://query.wikidata.org/sparql> {\n",
    "        ?subject rdfs:label ?subjectLabel .\n",
    "        FILTER (LANG(?subjectLabel) = \"en\")\n",
    "    }\n",
    "}\n",
    "\"\"\"\n",
    "query_result = g.query(str_query)\n",
    "\n",
    "for a_row in query_result:\n",
    "  print(f\"Object: {a_row.object}, Name: {a_row.name}, Subject: {a_row.subjectLabel} - {a_row.subject}\")"
   ]
  },
  {
   "cell_type": "markdown",
   "metadata": {},
   "source": [
    "## Cuarta consula: Relaciones entre nodos\n",
    "\n",
    "- Objetivo (un poco complejo): Comprobar si hay o no una relación entre dos entidades, para ello utilizaremos el oeprador del wildcard <>.\n",
    "- No federada"
   ]
  },
  {
   "cell_type": "code",
   "execution_count": 67,
   "metadata": {},
   "outputs": [
    {
     "name": "stdout",
     "output_type": "stream",
     "text": [
      "There is a connection between MenInBlack and God.\n"
     ]
    }
   ],
   "source": [
    "\"\"\"\n",
    "Explicación:\n",
    "En cualquier tripleta, el predicado tiene que obligatoriamente ser <> o no serlo,\n",
    "es decir (<>|!<>), si además a esto le añadimos el operador de relación inversa (^),\n",
    "podemos decir que, en una relación entre dos entidades que estén conectadas, debe existir\n",
    "una relación tal que (<>|!<>)|^(<>|!<>). Esto sumado al operador * que indica que \n",
    "la relación puede ser de cualquier longitud, nos permite saber si dos entidades están\n",
    "conectadas o no. (En este caso, como el grafo es epqueño y todo está conectado, \n",
    "siempre va a haber una conexión entre dos entidades por muy larga que sea).\n",
    "\"\"\"\n",
    "ask_query = \"\"\"\n",
    "ASK {\n",
    "    ex:MenInBlack ((<>|!<>)|^(<>|!<>))* ex:God\n",
    "}\n",
    "\"\"\"\n",
    "\n",
    "ask_result = g.query(ask_query)\n",
    "\n",
    "if ask_result.askAnswer:\n",
    "    print(\"There is a connection between MenInBlack and God.\")\n",
    "else:\n",
    "    print(\"There is no connection between MenInBlack and God.\")"
   ]
  },
  {
   "cell_type": "code",
   "execution_count": 10,
   "metadata": {},
   "outputs": [
    {
     "name": "stdout",
     "output_type": "stream",
     "text": [
      "Japanese Name: 岩倉 康男, English Name: Yasuo Iwakura, Occupation: Computer Programmer, Place of Occupation: http://example.org/TachibanaLabs\n",
      "\n",
      "Japanese Name: 英利 政美, English Name: Masami Eiri, Occupation: Computer Programmer, Place of Occupation: http://example.org/TachibanaLabs\n",
      "\n",
      "Japanese Name: None, English Name: Professor Hodgeson, Occupation: Scientist, Place of Occupation: None\n",
      "\n",
      "Japanese Name: None, English Name: Karl Haushofer, Occupation: Spy, Place of Occupation: None\n",
      "\n",
      "Japanese Name: None, English Name: Lin Sui-Xi, Occupation: Spy, Place of Occupation: None\n",
      "\n"
     ]
    }
   ],
   "source": [
    "query = \"\"\"\n",
    "PREFIX schema: <http://schema.org/>\n",
    "\n",
    "SELECT ?japaneseName ?personName ?occupationLabel ?placeOfOccupation\n",
    "WHERE {\n",
    "    ?person a schema:Person  .\n",
    "    OPTIONAL { ?person schema:name ?japaneseName . FILTER (LANG(?japaneseName) = \"ja\") }\n",
    "    ?person schema:name ?personName .\n",
    "    ?person schema:hasOccupation ?occupation .\n",
    "    ?occupation a schema:Occupation .\n",
    "    ?occupation schema:name ?occupationLabel .\n",
    "    OPTIONAL { ?person schema:employmentUnit ?placeOfOccupation }\n",
    "\n",
    "    FILTER (LANG(?personName) = \"en\")\n",
    "}\n",
    "\"\"\"\n",
    "\n",
    "query_result = g.query(query)\n",
    "\n",
    "for a_row in query_result:\n",
    "    print(f\"Japanese Name: {a_row.japaneseName}, English Name: {a_row.personName}, Occupation: {a_row.occupationLabel}, Place of Occupation: {a_row.placeOfOccupation}\\n\")"
   ]
  },
  {
   "cell_type": "code",
   "execution_count": 4,
   "metadata": {},
   "outputs": [
    {
     "ename": "HTTPError",
     "evalue": "HTTP Error 403: Forbidden",
     "output_type": "error",
     "traceback": [
      "\u001b[1;31m---------------------------------------------------------------------------\u001b[0m",
      "\u001b[1;31mHTTPError\u001b[0m                                 Traceback (most recent call last)",
      "Cell \u001b[1;32mIn[4], line 25\u001b[0m\n\u001b[0;32m      4\u001b[0m sparql\u001b[38;5;241m.\u001b[39msetQuery(\u001b[38;5;124m\"\"\"\u001b[39m\n\u001b[0;32m      5\u001b[0m \n\u001b[0;32m      6\u001b[0m \u001b[38;5;124mprefix wdt: \u001b[39m\n\u001b[1;32m   (...)\u001b[0m\n\u001b[0;32m     21\u001b[0m \u001b[38;5;124m\"\"\"\u001b[39m\n\u001b[0;32m     22\u001b[0m )\n\u001b[0;32m     24\u001b[0m sparql\u001b[38;5;241m.\u001b[39msetReturnFormat(JSON)\n\u001b[1;32m---> 25\u001b[0m results \u001b[38;5;241m=\u001b[39m \u001b[43msparql\u001b[49m\u001b[38;5;241;43m.\u001b[39;49m\u001b[43mquery\u001b[49m\u001b[43m(\u001b[49m\u001b[43m)\u001b[49m\u001b[38;5;241m.\u001b[39mconvert()\n\u001b[0;32m     26\u001b[0m \u001b[38;5;28;01mfor\u001b[39;00m result \u001b[38;5;129;01min\u001b[39;00m results[\u001b[38;5;124m\"\u001b[39m\u001b[38;5;124mresults\u001b[39m\u001b[38;5;124m\"\u001b[39m][\u001b[38;5;124m\"\u001b[39m\u001b[38;5;124mbindings\u001b[39m\u001b[38;5;124m\"\u001b[39m]:\n\u001b[0;32m     27\u001b[0m     \u001b[38;5;28;01mfor\u001b[39;00m a_var_key \u001b[38;5;129;01min\u001b[39;00m result:\n",
      "File \u001b[1;32mc:\\Python311\\Lib\\site-packages\\SPARQLWrapper\\Wrapper.py:960\u001b[0m, in \u001b[0;36mSPARQLWrapper.query\u001b[1;34m(self)\u001b[0m\n\u001b[0;32m    942\u001b[0m \u001b[38;5;28;01mdef\u001b[39;00m \u001b[38;5;21mquery\u001b[39m(\u001b[38;5;28mself\u001b[39m) \u001b[38;5;241m-\u001b[39m\u001b[38;5;241m>\u001b[39m \u001b[38;5;124m\"\u001b[39m\u001b[38;5;124mQueryResult\u001b[39m\u001b[38;5;124m\"\u001b[39m:\n\u001b[0;32m    943\u001b[0m \u001b[38;5;250m    \u001b[39m\u001b[38;5;124;03m\"\"\"\u001b[39;00m\n\u001b[0;32m    944\u001b[0m \u001b[38;5;124;03m    Execute the query.\u001b[39;00m\n\u001b[0;32m    945\u001b[0m \u001b[38;5;124;03m    Exceptions can be raised if either the URI is wrong or the HTTP sends back an error (this is also the\u001b[39;00m\n\u001b[1;32m   (...)\u001b[0m\n\u001b[0;32m    958\u001b[0m \u001b[38;5;124;03m    :rtype: :class:`QueryResult` instance\u001b[39;00m\n\u001b[0;32m    959\u001b[0m \u001b[38;5;124;03m    \"\"\"\u001b[39;00m\n\u001b[1;32m--> 960\u001b[0m     \u001b[38;5;28;01mreturn\u001b[39;00m QueryResult(\u001b[38;5;28;43mself\u001b[39;49m\u001b[38;5;241;43m.\u001b[39;49m\u001b[43m_query\u001b[49m\u001b[43m(\u001b[49m\u001b[43m)\u001b[49m)\n",
      "File \u001b[1;32mc:\\Python311\\Lib\\site-packages\\SPARQLWrapper\\Wrapper.py:940\u001b[0m, in \u001b[0;36mSPARQLWrapper._query\u001b[1;34m(self)\u001b[0m\n\u001b[0;32m    938\u001b[0m     \u001b[38;5;28;01mraise\u001b[39;00m EndPointInternalError(e\u001b[38;5;241m.\u001b[39mread())\n\u001b[0;32m    939\u001b[0m \u001b[38;5;28;01melse\u001b[39;00m:\n\u001b[1;32m--> 940\u001b[0m     \u001b[38;5;28;01mraise\u001b[39;00m e\n",
      "File \u001b[1;32mc:\\Python311\\Lib\\site-packages\\SPARQLWrapper\\Wrapper.py:926\u001b[0m, in \u001b[0;36mSPARQLWrapper._query\u001b[1;34m(self)\u001b[0m\n\u001b[0;32m    924\u001b[0m         response \u001b[38;5;241m=\u001b[39m urlopener(request, timeout\u001b[38;5;241m=\u001b[39m\u001b[38;5;28mself\u001b[39m\u001b[38;5;241m.\u001b[39mtimeout)\n\u001b[0;32m    925\u001b[0m     \u001b[38;5;28;01melse\u001b[39;00m:\n\u001b[1;32m--> 926\u001b[0m         response \u001b[38;5;241m=\u001b[39m \u001b[43murlopener\u001b[49m\u001b[43m(\u001b[49m\u001b[43mrequest\u001b[49m\u001b[43m)\u001b[49m\n\u001b[0;32m    927\u001b[0m     \u001b[38;5;28;01mreturn\u001b[39;00m response, \u001b[38;5;28mself\u001b[39m\u001b[38;5;241m.\u001b[39mreturnFormat\n\u001b[0;32m    928\u001b[0m \u001b[38;5;28;01mexcept\u001b[39;00m urllib\u001b[38;5;241m.\u001b[39merror\u001b[38;5;241m.\u001b[39mHTTPError \u001b[38;5;28;01mas\u001b[39;00m e:\n",
      "File \u001b[1;32mc:\\Python311\\Lib\\urllib\\request.py:216\u001b[0m, in \u001b[0;36murlopen\u001b[1;34m(url, data, timeout, cafile, capath, cadefault, context)\u001b[0m\n\u001b[0;32m    214\u001b[0m \u001b[38;5;28;01melse\u001b[39;00m:\n\u001b[0;32m    215\u001b[0m     opener \u001b[38;5;241m=\u001b[39m _opener\n\u001b[1;32m--> 216\u001b[0m \u001b[38;5;28;01mreturn\u001b[39;00m \u001b[43mopener\u001b[49m\u001b[38;5;241;43m.\u001b[39;49m\u001b[43mopen\u001b[49m\u001b[43m(\u001b[49m\u001b[43murl\u001b[49m\u001b[43m,\u001b[49m\u001b[43m \u001b[49m\u001b[43mdata\u001b[49m\u001b[43m,\u001b[49m\u001b[43m \u001b[49m\u001b[43mtimeout\u001b[49m\u001b[43m)\u001b[49m\n",
      "File \u001b[1;32mc:\\Python311\\Lib\\urllib\\request.py:525\u001b[0m, in \u001b[0;36mOpenerDirector.open\u001b[1;34m(self, fullurl, data, timeout)\u001b[0m\n\u001b[0;32m    523\u001b[0m \u001b[38;5;28;01mfor\u001b[39;00m processor \u001b[38;5;129;01min\u001b[39;00m \u001b[38;5;28mself\u001b[39m\u001b[38;5;241m.\u001b[39mprocess_response\u001b[38;5;241m.\u001b[39mget(protocol, []):\n\u001b[0;32m    524\u001b[0m     meth \u001b[38;5;241m=\u001b[39m \u001b[38;5;28mgetattr\u001b[39m(processor, meth_name)\n\u001b[1;32m--> 525\u001b[0m     response \u001b[38;5;241m=\u001b[39m \u001b[43mmeth\u001b[49m\u001b[43m(\u001b[49m\u001b[43mreq\u001b[49m\u001b[43m,\u001b[49m\u001b[43m \u001b[49m\u001b[43mresponse\u001b[49m\u001b[43m)\u001b[49m\n\u001b[0;32m    527\u001b[0m \u001b[38;5;28;01mreturn\u001b[39;00m response\n",
      "File \u001b[1;32mc:\\Python311\\Lib\\urllib\\request.py:634\u001b[0m, in \u001b[0;36mHTTPErrorProcessor.http_response\u001b[1;34m(self, request, response)\u001b[0m\n\u001b[0;32m    631\u001b[0m \u001b[38;5;66;03m# According to RFC 2616, \"2xx\" code indicates that the client's\u001b[39;00m\n\u001b[0;32m    632\u001b[0m \u001b[38;5;66;03m# request was successfully received, understood, and accepted.\u001b[39;00m\n\u001b[0;32m    633\u001b[0m \u001b[38;5;28;01mif\u001b[39;00m \u001b[38;5;129;01mnot\u001b[39;00m (\u001b[38;5;241m200\u001b[39m \u001b[38;5;241m<\u001b[39m\u001b[38;5;241m=\u001b[39m code \u001b[38;5;241m<\u001b[39m \u001b[38;5;241m300\u001b[39m):\n\u001b[1;32m--> 634\u001b[0m     response \u001b[38;5;241m=\u001b[39m \u001b[38;5;28;43mself\u001b[39;49m\u001b[38;5;241;43m.\u001b[39;49m\u001b[43mparent\u001b[49m\u001b[38;5;241;43m.\u001b[39;49m\u001b[43merror\u001b[49m\u001b[43m(\u001b[49m\n\u001b[0;32m    635\u001b[0m \u001b[43m        \u001b[49m\u001b[38;5;124;43m'\u001b[39;49m\u001b[38;5;124;43mhttp\u001b[39;49m\u001b[38;5;124;43m'\u001b[39;49m\u001b[43m,\u001b[49m\u001b[43m \u001b[49m\u001b[43mrequest\u001b[49m\u001b[43m,\u001b[49m\u001b[43m \u001b[49m\u001b[43mresponse\u001b[49m\u001b[43m,\u001b[49m\u001b[43m \u001b[49m\u001b[43mcode\u001b[49m\u001b[43m,\u001b[49m\u001b[43m \u001b[49m\u001b[43mmsg\u001b[49m\u001b[43m,\u001b[49m\u001b[43m \u001b[49m\u001b[43mhdrs\u001b[49m\u001b[43m)\u001b[49m\n\u001b[0;32m    637\u001b[0m \u001b[38;5;28;01mreturn\u001b[39;00m response\n",
      "File \u001b[1;32mc:\\Python311\\Lib\\urllib\\request.py:563\u001b[0m, in \u001b[0;36mOpenerDirector.error\u001b[1;34m(self, proto, *args)\u001b[0m\n\u001b[0;32m    561\u001b[0m \u001b[38;5;28;01mif\u001b[39;00m http_err:\n\u001b[0;32m    562\u001b[0m     args \u001b[38;5;241m=\u001b[39m (\u001b[38;5;28mdict\u001b[39m, \u001b[38;5;124m'\u001b[39m\u001b[38;5;124mdefault\u001b[39m\u001b[38;5;124m'\u001b[39m, \u001b[38;5;124m'\u001b[39m\u001b[38;5;124mhttp_error_default\u001b[39m\u001b[38;5;124m'\u001b[39m) \u001b[38;5;241m+\u001b[39m orig_args\n\u001b[1;32m--> 563\u001b[0m     \u001b[38;5;28;01mreturn\u001b[39;00m \u001b[38;5;28;43mself\u001b[39;49m\u001b[38;5;241;43m.\u001b[39;49m\u001b[43m_call_chain\u001b[49m\u001b[43m(\u001b[49m\u001b[38;5;241;43m*\u001b[39;49m\u001b[43margs\u001b[49m\u001b[43m)\u001b[49m\n",
      "File \u001b[1;32mc:\\Python311\\Lib\\urllib\\request.py:496\u001b[0m, in \u001b[0;36mOpenerDirector._call_chain\u001b[1;34m(self, chain, kind, meth_name, *args)\u001b[0m\n\u001b[0;32m    494\u001b[0m \u001b[38;5;28;01mfor\u001b[39;00m handler \u001b[38;5;129;01min\u001b[39;00m handlers:\n\u001b[0;32m    495\u001b[0m     func \u001b[38;5;241m=\u001b[39m \u001b[38;5;28mgetattr\u001b[39m(handler, meth_name)\n\u001b[1;32m--> 496\u001b[0m     result \u001b[38;5;241m=\u001b[39m \u001b[43mfunc\u001b[49m\u001b[43m(\u001b[49m\u001b[38;5;241;43m*\u001b[39;49m\u001b[43margs\u001b[49m\u001b[43m)\u001b[49m\n\u001b[0;32m    497\u001b[0m     \u001b[38;5;28;01mif\u001b[39;00m result \u001b[38;5;129;01mis\u001b[39;00m \u001b[38;5;129;01mnot\u001b[39;00m \u001b[38;5;28;01mNone\u001b[39;00m:\n\u001b[0;32m    498\u001b[0m         \u001b[38;5;28;01mreturn\u001b[39;00m result\n",
      "File \u001b[1;32mc:\\Python311\\Lib\\urllib\\request.py:643\u001b[0m, in \u001b[0;36mHTTPDefaultErrorHandler.http_error_default\u001b[1;34m(self, req, fp, code, msg, hdrs)\u001b[0m\n\u001b[0;32m    642\u001b[0m \u001b[38;5;28;01mdef\u001b[39;00m \u001b[38;5;21mhttp_error_default\u001b[39m(\u001b[38;5;28mself\u001b[39m, req, fp, code, msg, hdrs):\n\u001b[1;32m--> 643\u001b[0m     \u001b[38;5;28;01mraise\u001b[39;00m HTTPError(req\u001b[38;5;241m.\u001b[39mfull_url, code, msg, hdrs, fp)\n",
      "\u001b[1;31mHTTPError\u001b[0m: HTTP Error 403: Forbidden"
     ]
    }
   ],
   "source": [
    "from SPARQLWrapper import SPARQLWrapper, JSON\n",
    "\n",
    "sparql = SPARQLWrapper(\"https://query.wikidata.org/sparql\")  # Construimos un objeto para acceder a cierto endpoint. En este caso, DBpedia\n",
    "sparql.setQuery(\"\"\"\n",
    "\n",
    "prefix wdt: \n",
    "prefix wd: \n",
    "prefix wikibase: \n",
    "prefix dbr: \n",
    "prefix dbo: \n",
    "prefix dbp: \n",
    "prefix ex:<http://156.35.95.43:3030/SerialExperimentsLain/sparql>\n",
    "\n",
    "                \n",
    "SELECT ?wikidataItem ?name ?subjectLabel\n",
    "  SERVICE {\n",
    "      ?subject ex:references ?wikidataItem .\n",
    "      ?subject rdfs:label ?subjectLabel .\n",
    "      FILTER (LANG(?subjectLabel) = \"en\")\n",
    "  }\n",
    "\"\"\"\n",
    ")\n",
    "\n",
    "sparql.setReturnFormat(JSON)\n",
    "results = sparql.query().convert()\n",
    "for result in results[\"results\"][\"bindings\"]:\n",
    "    for a_var_key in result:\n",
    "      print(result[a_var_key][\"value\"], end=\"       \")\n",
    "    print()\n",
    "print(\"--------\")"
   ]
  },
  {
   "cell_type": "code",
   "execution_count": 14,
   "metadata": {},
   "outputs": [
    {
     "name": "stdout",
     "output_type": "stream",
     "text": [
      "Number of objects: 9\n"
     ]
    }
   ],
   "source": [
    "query = \"\"\"\n",
    "PREFIX ex: <http://example.org/>\n",
    "PREFIX schema: <http://schema.org/>\n",
    "PREFIX dpedia: <http://dbpedia.org/resource/>\n",
    "\n",
    "SELECT (COUNT(?object) AS ?count) \n",
    "WHERE {\n",
    "  ?object a ?type .\n",
    "  VALUES ?type { ex:ComputerCode schema:WebPage schema:VideoGame dpedia:Electrical_device dpedia:Computer_network dpedia:Computer dpedia:Operating_system }\n",
    "}\n",
    "\"\"\"\n",
    "\n",
    "query_result = g.query(query)\n",
    "\n",
    "for a_row in query_result:\n",
    "    print(f\"Number of objects: {a_row['count']}\")"
   ]
  },
  {
   "cell_type": "code",
   "execution_count": null,
   "metadata": {},
   "outputs": [],
   "source": [
    "# Hacer algo como FILTER(?bdate >= \"1960-01-01\"^^xsd:date)"
   ]
  },
  {
   "cell_type": "markdown",
   "metadata": {},
   "source": [
    "# Ejercicio 3: Desarrollo de aplicación web \n",
    "\n",
    "Url de la web: \n",
    "\n",
    "## Descripción del contenido\n",
    "\n",
    "Se ha tratado de ofrecer al usuario una forma \"fácil\" de navegar a través del grafo de RDF. La intención de la web es permitir al usuario visualizar todos los nodos **pertinentes** del grafo mostrandle la información de todas sus relaciones (exceptuando la de rdf:type).\n",
    "\n",
    "El contenido de la web se basa en la serie japonesa escogida para modelar los datos, y sigue la siguiente lógica.\n",
    "\n",
    "![Diagrama en resources/Web.png](/resources/Web.png)\n",
    "                                          \n",
    "## Descripción de la forma de uso de RDFa\n",
    "Se ha empleado RDFa para describir los nodos representados en la pantalla del usuario de manera que cada vista representa el nodo de la siguiente forma si lo procesasemos con un procesador de RDFa:\n",
    "```xml\n",
    "@prefix rdfa: <http://www.w3.org/ns/rdfa#> .\n",
    "@prefix schema: <http://schema.org/> .\n",
    "@prefix rdf: <http://www.w3.org/1999/02/22-rdf-syntax-ns#> .\n",
    "@prefix foaf: <http://xmlns.com/foaf/0.1/> .\n",
    "\n",
    "<https://rdfa.info/play/>\n",
    "   rdfa:usesVocabulary schema: .\n",
    "<http://uniovi.es/miw/uo283069/entity/Lain_Iwakura>\n",
    "   rdf:type schema:Person;\n",
    "   schema:name \"Lain Iwakura, 岩倉 レイン\"@en;\n",
    "   foaf:gender \"Female\"@en;\n",
    "   foaf:age \"14\"@en;\n",
    "   schema:parent <http://uniovi.es/miw/uo283069/entity/YasuoIwakura>;\n",
    "   schema:parent <http://uniovi.es/miw/uo283069/entity/MihoIwakura>;\n",
    "   schema:sibling <http://uniovi.es/miw/uo283069/entity/MikaIwakura>;\n",
    "   <http://uniovi.es/miw/uo283069/entity/characterRole> \"Main Character\"@en .\n",
    "```\n",
    "Esto nos permite a su misma vez tener tanto una representación visual del nodo como una visualiación de sus datos en RDFa."
   ]
  },
  {
   "cell_type": "markdown",
   "metadata": {},
   "source": [
    "# Ejercicio 4 - Validación datos RDF\n",
    "\n",
    "Los ficheros utilizados se encuentran bajo la carpeta *shapes*, dentro de ella hay:\n",
    "- CharacterShape: shape para personajes\n",
    "- LocationShape: shpae para lugaress\n",
    "- OccupationShape: shape para ocupación (trabajo)\n",
    "- OrganizationShape: shape para organizaciones\n",
    "- ComputerCodeShape: shape para programas informáticos\n",
    "- SHapeMap.sm: EL shape map utilzado para validar los datos"
   ]
  },
  {
   "cell_type": "code",
   "execution_count": 13,
   "metadata": {},
   "outputs": [
    {
     "name": "stdout",
     "output_type": "stream",
     "text": [
      "Node: http://uniovi.es/miw/uo283069/entity/Lain_Iwakura, Conforms: True\n",
      "Node: http://uniovi.es/miw/uo283069/entity/YasuoIwakura, Conforms: True\n",
      "Node: http://uniovi.es/miw/uo283069/entity/MihoIwakura, Conforms: True\n",
      "Node: http://uniovi.es/miw/uo283069/entity/MikaIwakura, Conforms: True\n",
      "Node: http://uniovi.es/miw/uo283069/entity/MasamiEiri, Conforms: True\n",
      "Node: http://uniovi.es/miw/uo283069/entity/ProfessorHodgeson, Conforms: True\n",
      "Node: http://uniovi.es/miw/uo283069/entity/KarlHaushofer, Conforms: True\n",
      "Node: http://uniovi.es/miw/uo283069/entity/LinSuiXi, Conforms: True\n"
     ]
    }
   ],
   "source": [
    "with open(\"shapes/FullSHape.shex\", \"r\") as file:\n",
    "    shapes = file.read()\n",
    "\n",
    "characters = [\"http://uniovi.es/miw/uo283069/entity/Lain_Iwakura\", \"http://uniovi.es/miw/uo283069/entity/YasuoIwakura\",\n",
    "              \"http://uniovi.es/miw/uo283069/entity/MihoIwakura\", \"http://uniovi.es/miw/uo283069/entity/MikaIwakura\", \n",
    "              \"http://uniovi.es/miw/uo283069/entity/MasamiEiri\", \"http://uniovi.es/miw/uo283069/entity/ProfessorHodgeson\", \n",
    "              \"http://uniovi.es/miw/uo283069/entity/KarlHaushofer\", \"http://uniovi.es/miw/uo283069/entity/LinSuiXi\"]\n",
    "\n",
    "for character in characters:\n",
    "    evaluator = ShExEvaluator(rdf=g.serialize(format=\"turtle\"), schema=shapes, \n",
    "                              focus=character, start=\"SchemaCharacter\")\n",
    "    results = evaluator.evaluate()\n",
    "\n",
    "    for result in results:\n",
    "        if not result.result:\n",
    "            print(f\"Node: {result.focus}, Conforms: {result.result}, Reason: {result.reason}\")\n",
    "        else: \n",
    "            print(f\"Node: {result.focus}, Conforms: {result.result}\")"
   ]
  },
  {
   "cell_type": "code",
   "execution_count": 12,
   "metadata": {},
   "outputs": [
    {
     "name": "stdout",
     "output_type": "stream",
     "text": [
      "Node: http://uniovi.es/miw/uo283069/entity/Tokyo, Conforms: True\n"
     ]
    }
   ],
   "source": [
    "evaluator = ShExEvaluator(rdf=g.serialize(format=\"turtle\"), schema=shapes, \n",
    "                          focus=\"http://uniovi.es/miw/uo283069/entity/Tokyo\", \n",
    "                          start=\"SchemaLocation\")\n",
    "results = evaluator.evaluate()\n",
    "\n",
    "for result in results:\n",
    "    if not result.result:\n",
    "        print(f\"Node: {result.focus}, Conforms: {result.result}, Reason: {result.reason}\")\n",
    "    else: \n",
    "        print(f\"Node: {result.focus}, Conforms: {result.result}\")"
   ]
  },
  {
   "cell_type": "code",
   "execution_count": 14,
   "metadata": {},
   "outputs": [
    {
     "name": "stdout",
     "output_type": "stream",
     "text": [
      "Node: http://uniovi.es/miw/uo283069/entity/TachibanaLabs, Conforms: True\n",
      "Node: http://uniovi.es/miw/uo283069/entity/MenInBlack, Conforms: True\n",
      "Node: http://uniovi.es/miw/uo283069/entity/KnightsoftheEasternCalculus, Conforms: True\n"
     ]
    }
   ],
   "source": [
    "nodes = [\"http://uniovi.es/miw/uo283069/entity/TachibanaLabs\", \"http://uniovi.es/miw/uo283069/entity/MenInBlack\",\n",
    "         \"http://uniovi.es/miw/uo283069/entity/KnightsoftheEasternCalculus\"]\n",
    "\n",
    "for node in nodes:\n",
    "    evaluator = ShExEvaluator(rdf=g.serialize(format=\"turtle\"), schema=shapes, \n",
    "                              focus=node, start=\"SchemaOrganization\")\n",
    "    results = evaluator.evaluate()\n",
    "\n",
    "    for result in results:\n",
    "        if not result.result:\n",
    "            print(f\"Node: {result.focus}, Conforms: {result.result}, Reason: {result.reason}\")\n",
    "        else: \n",
    "            print(f\"Node: {result.focus}, Conforms: {result.result}\")"
   ]
  },
  {
   "cell_type": "code",
   "execution_count": 15,
   "metadata": {},
   "outputs": [
    {
     "name": "stdout",
     "output_type": "stream",
     "text": [
      "Node: http://uniovi.es/miw/uo283069/entity/CRowView.CL, Conforms: True\n",
      "Node: http://uniovi.es/miw/uo283069/entity/Afx-n-nPrv-View.CL, Conforms: True\n"
     ]
    }
   ],
   "source": [
    "nodes = [\"http://uniovi.es/miw/uo283069/entity/CRowView.CL\", \"http://uniovi.es/miw/uo283069/entity/Afx-n-nPrv-View.CL\"]\n",
    "\n",
    "for node in nodes:\n",
    "    evaluator = ShExEvaluator(rdf=g.serialize(format=\"turtle\"), schema=shapes, \n",
    "                              focus=node, \n",
    "                              start=\"ComputerCodeShape\")\n",
    "    results = evaluator.evaluate()\n",
    "\n",
    "    for result in results:\n",
    "        if not result.result:\n",
    "            print(f\"Node: {result.focus}, Conforms: {result.result}, Reason: {result.reason}\")\n",
    "        else: \n",
    "            print(f\"Node: {result.focus}, Conforms: {result.result}\")"
   ]
  },
  {
   "cell_type": "code",
   "execution_count": 16,
   "metadata": {},
   "outputs": [
    {
     "name": "stdout",
     "output_type": "stream",
     "text": [
      "Node: http://uniovi.es/miw/uo283069/entity/PHANTOMa, Conforms: True\n"
     ]
    }
   ],
   "source": [
    "evaluator = ShExEvaluator(rdf=g.serialize(format=\"turtle\"), schema=shapes, \n",
    "                          focus=\"http://uniovi.es/miw/uo283069/entity/PHANTOMa\", \n",
    "                          start=\"SchemaVideoGame\")\n",
    "results = evaluator.evaluate()\n",
    "\n",
    "for result in results:\n",
    "    if not result.result:\n",
    "        print(f\"Node: {result.focus}, Conforms: {result.result}, Reason: {result.reason}\")\n",
    "    else: \n",
    "        print(f\"Node: {result.focus}, Conforms: {result.result}\")"
   ]
  },
  {
   "cell_type": "code",
   "execution_count": 17,
   "metadata": {},
   "outputs": [
    {
     "name": "stdout",
     "output_type": "stream",
     "text": [
      "Node: http://uniovi.es/miw/uo283069/entity/Protocol7, Conforms: True\n",
      "Node: http://uniovi.es/miw/uo283069/entity/KIDS, Conforms: True\n",
      "Node: http://uniovi.es/miw/uo283069/entity/Mebious, Conforms: True\n",
      "Node: http://uniovi.es/miw/uo283069/entity/CRowView.CL, Conforms: True\n",
      "Node: http://uniovi.es/miw/uo283069/entity/Afx-n-nPrv-View.CL, Conforms: True\n"
     ]
    }
   ],
   "source": [
    "nodes = []\n",
    "for a_triple in g.triples(  (None,\n",
    "                             URIRef('http://schema.org/creator'),\n",
    "                             None   )  ):\n",
    "    s, p, o = a_triple\n",
    "    nodes.append(s)\n",
    "\n",
    "for node in nodes:\n",
    "    evaluator = ShExEvaluator(rdf=g.serialize(format=\"turtle\"), schema=shapes, \n",
    "                              focus=node, \n",
    "                              start=\"CreatedItemShape\")\n",
    "    results = evaluator.evaluate()\n",
    "\n",
    "    for result in results:\n",
    "        if not result.result:\n",
    "            print(f\"Node: {result.focus}, Conforms: {result.result}, Reason: {result.reason}\")\n",
    "        else: \n",
    "            print(f\"Node: {result.focus}, Conforms: {result.result}\")"
   ]
  },
  {
   "cell_type": "markdown",
   "metadata": {},
   "source": [
    "### Shape map\n",
    "Se puede encontrar en **/SHEX/ShapeMap.sm** su contenido se presenta a continuación:\n",
    "```RDF\n",
    "SPARQL\"\"\"\n",
    "PREFIX schema: <http://schema.org/>\n",
    "select ?node where{\n",
    "\t?node a schema:Person .\n",
    "\tFILTER(isIRI(?node))\n",
    "}\n",
    "\"\"\"@<SchemaCharacter>,\n",
    "uo:Tokyo@<SchemaLocation>,\n",
    "SPARQL \"\"\"\n",
    "PREFIX schema: <http://schema.org/>\n",
    "PREFIX uop: <http://uniovi.es/miw/uo283069/property/> \n",
    "select ?node where {\n",
    "?node a schema:Organization\n",
    "}\n",
    "\"\"\"@<SchemaOrganization>,\n",
    "{FOCUS a uo:ComputerCode}@<ComputerCodeShape>,\n",
    "SPARQL\"\"\"\n",
    "PREFIX schema: <http://schema.org/>\n",
    "select ?item where {\n",
    "?item schema:creator ?person\n",
    "}\n",
    "\"\"\"@<CreatedItemShape>,\n",
    "uo:PHANTOMa@<SchemaVideoGame>\n",
    "```\n",
    "### SHACL\n",
    "En **/SHEX/ShapesSHACL.ttl** se pueden encontrar las mismas shapes escritas en SHACL."
   ]
  },
  {
   "cell_type": "markdown",
   "metadata": {},
   "source": [
    "## Ejercicio 5 - Extracción de shapes"
   ]
  },
  {
   "cell_type": "code",
   "execution_count": null,
   "metadata": {},
   "outputs": [],
   "source": [
    "from shexer.shaper import Shaper\n",
    "from shexer.consts import TURTLE\n",
    "\n",
    "\n",
    "namespaces_dict = {\n",
    "    \"http://www.w3.org/1999/02/22-rdf-syntax-ns#\": \"rdf\",\n",
    "    \"http://example.org/\": \"ex\",\n",
    "    \"http://www.w3.org/2001/XMLSchema#\": \"xsd\",\n",
    "    \"http://schema.org/\": \"schema\",\n",
    "    \"http://xmlns.com/foaf/0.1/\": \"foaf\",\n",
    "    \"http://purl.org/dc/terms/\": \"dcterms\",\n",
    "    \"http://uniovi.es/miw/uo283069/entity/\": \"uo\",\n",
    "    \"http://uniovi.es/miw/uo283069/property/\": \"uop\",\n",
    "    \"http://www.wikidata.org/entity/\": \"wd\",\n",
    "    \"http://dbpedia.org/resource/\": \"dpedia\",\n",
    "    \"http://www.w3.org/2003/01/geo/wgs84_pos#\": \"geo\",\n",
    "    \"https://www.onetonline.org/link/summary/\": \"onet\",\n",
    "    \"http://www.w3.org/2000/01/rdf-schema#\": \"rdfs\",\n",
    "    \"http://www.w3.org/2002/07/owl#\": \"owl\",\n",
    "    \"http://purl.org/net/VideoGameOntology#\": \"vgo\"\n",
    "}\n",
    "\n",
    "shaper = Shaper(graph_file_input=\"./utf8_lain.ttl\",\n",
    "                input_format=TURTLE,  \n",
    "                all_classes_mode=True,\n",
    "                disable_comments=False,\n",
    "                namespaces_dict=namespaces_dict)\n",
    "\n",
    "result = shaper.shex_graph(string_output=True, acceptance_threshold=0.2)  \n",
    "print(result)"
   ]
  },
  {
   "cell_type": "markdown",
   "metadata": {},
   "source": [
    "Las shapes en SHEX se pueden encontrar en **/SHEX/ShexerShapes.shex**.\n",
    "Si comparamos las Shapes extraidas, podemos ver algunas diferncias con las nuestras:\n",
    "\n",
    "En verde y rojo las diferencias entre mi Shape (verde) y la obtenida con shexer (rojo) (Puede que en GitHub no aparezcan los colores, en todo caso, en rojo son aquellos con un '-' y en verde aquellos con un '+')\n",
    "```diff\n",
    ":Person {\n",
    "-    schema:name  xsd:string  *;\n",
    "+    schema:name rdf:langString + ;      \n",
    "-    foaf:age  xsd:integer  ?;    \n",
    "+    foaf:age xsd:integer ;  \n",
    "-    uop:characterRole  xsd:string  ?;   \n",
    "+    uop:characterRole xsd:string + ;  \n",
    "-    rdf:type  [schema:Person]  ?; \n",
    "+    rdf:type [schema:Person uo:God] {1,2} ;\n",
    "-    foaf:gender  xsd:string  ?  \n",
    "+    foaf:gender xsd:string + ; \n",
    "     schema:parent  @:Person  *;\n",
    "-    schema:sibling  @:Person  ? ;\n",
    "+    schema:sibling @<SchemaCharacter> * ;\n",
    "     schema:children  @:Person  *;\n",
    "+    schema:follows @<SchemaCharacter> * ;\n",
    "-    schema:hasOccupation  BNode  ?;\n",
    "+    schema:hasOccupation @<SchemaOccupation> ? ;\n",
    "-    schema:employmentUnit  IRI  ?;\n",
    "+    schema:employmentUnit @<SchemaOrganization> ? ;\n",
    "-    schema:deathPlace  IRI  ?;\n",
    "+    schema:deathPlace @<SchemaLocation> ?  ;     \n",
    "}\n",
    "```\n",
    "Como podemos ver, para esta shape, que es la más comlpeta de todas en el grafo, el extractor de shapes se deja una sin deducir `schema:follows` y difiere en cuanto shape en los tipos de datos de algunas tripletas como en `schema:name` y en la cardinalidad de las mismas en otras, aunque consigue acertar `schema:parent` y `schema:children`.\n",
    "\n",
    "Si miramos otras shapes más cortas, como la de Organización\n",
    "\n",
    "```diff\n",
    ":Organization\n",
    "{\n",
    "   schema:name  xsd:string  ;   \n",
    "   rdf:type  [schema:Organization]  ;\n",
    "   schema:location  @:City  ?;\n",
    "-   uop:references  IRI  ?;\n",
    "-   schema:founder  BNode  ?;\n",
    "+   schema:founder {\n",
    "+    a [schema:Person] ; \n",
    "+    schema:name rdf:langString * ; \n",
    "+    schema:employmentUnit @<SchemaOrganization> ? ; \n",
    "+    foaf:gender xsd:string ? ;\n",
    "+   } ? ;\n",
    "}\n",
    "```\n",
    "Podemos ver que no difiere tanto de la shape creada por mí, en este caso añade `uop:references`, lo cual no estaría mal pero no forma una parte intrínseca de la descrpición de organización, sino que es más una meta-realción que busca describir una referencia del propio nodo a un objeto o entidad real, por lo que no consta en mi esquema. Además es incapaz de describir el `schema:founder` como un nodo anónimo que se componga de diferentes relaciones, por lo que es posible que a la hora de extraer shapes no podamos realizar inferencias de mayor nivel sobre nodos que desconocemos en el grafo, necesitando aquí el apoyo humano.\n",
    "\n",
    "El resto de shapes son muy simples, por lo que no merece excesivamente la pena compararlas, sin embargo, es notable remarcar una cosa, si no se lo especificamos explicitamente, el extractor es incapaz de inferir que cualquier clase que sea una creación o un objeto manufacturado, debe cumplir con una única shape como *CreatedItemsShape*, en este caso podemos especificarselo nosotros manualmente, pero ya tenemos que decirle específicamente que queremos todas las clases que cumplen con la condición de ser creadas por alguien. \n",
    "\n",
    "En mi opinión personal, creo que estas herramientas tienen mucho potencial en aquellos casos en los que se quiera extraer una shape de un concepto del que se tengan unas bases claras, y que resultan sobre todo útiles para ayudarnos a darnos cuenta de elementos que tal vez nosotros no hayamos tenido en cuenta a la hora de crear nuestra Shape pero que pueden ser de interés a la hora de describir dichos conceptos.\n",
    "\n",
    "Como pensamiento espontaneo, otra manera en la que se puede aplicar esto puede ser a modo de investigación sobre las relaciones de algunos constructos, si podemos decir (como ejemplo muy simplificado) que de todas las entidades de Wikidata que son de tipo \"Construcción\" y que hayan sido construidas por una persona X presentan con un 80% de frecuencia una propiedad \"Derumbado\" o \"Destruido\", tal vez se puedan realizar conjeturas sobre la causalidad de este mismo."
   ]
  },
  {
   "cell_type": "markdown",
   "metadata": {},
   "source": [
    "# Ejercicio 6 -  Elaboración de ontología\n",
    "La ontología se puede encontrar en el archivo **ontology/ontology.owl** enb la raíz del proyecto (el archivo ontology/ontology.ttl es el generado por Protegé para crear la ontología).\n",
    "\n",
    "En cuanto a las dierencias apreciables entre la idea de ontología y de shapes, es bastante obvio resaltar la funcionalidad que tiene cada uno. Una ontología es un \"vocabulario\" de términos que pretenede especificar *qué* términos se deben utilizar y junto con *qué* propiedades o entidades, mientras que las shapes espeficican *cómo* se debe componer un elemento en un grafo para representar un concepto determinado.\n",
    "\n",
    "El contexto en el que se debe aplicar una ontología sería entonces en el momento de describir los datos, sobretodo si buscamos interoperabilidad con el resto de datos pre-existentes y representar conceptos que estén fuertemente relacionados con los de otros grafos de conocimiento. Es en el momento en el que decidimos *qué* datos vamos a representar en el que debemos decidir *en qué* manera representarlos, y si otras ontologías describen nuestros conceptos de una manera que se adaptea nuestras necesidades. En cambio, las shapes se aplicarían al mometno de validar datos para comprobar que estos están estructurados y siguen un patrón definido por nosotros.\n",
    "\n",
    "No obstante, considero que existe un punto medio donde ambos conceptos \"cooperan\" y compensan sus dos objetivos. Imaginemos que tenemos una aplicaciónque guarda datos médicos en RDF, y que queremos que esos datos sean interoperables y estén relacionados con conceptos médicos definidos en ontologías externas, sería lógico pensar que entonces tenemos que hacer uso de esas ontologías, pero ¿cómo permitimos al usuario (considerando que no es experto en RDF, y por tanto no va a insertar datos con sentencias SPARQL) introducir nueva información en el grafo de información sin romper las Shapes que tengamos definidas? Aquí sería donde entran en juego los dos conceptos, necesitaremos una herramienta que permita al usuario introducir datos que cumplan con nuestra shape y que además haga uso de las ontologías (probablemente especificadas en la propia shape). Si esto se hiciese, habría que prestar especial atención en las shapes abiertas para permitir al usuario introducir más información sobre un concepto sin dejar de utilizar las ontologías especializadas, aunque esto ya es divagar en profundiad a cerca del tema.\n",
    "\n",
    "Conclusivamente, aunque existen diferentes contextos en los que se debe emplear una ontología o una shape, estos dos conceptos no son mutuamente exclusivos, sino que se complementan entre si para expandir los grafos de conocimiento.\n",
    "\n",
    "# Ejercicio 7 - Grafos de conocimiento y LLMs\n",
    "\n",
    "Tomamos como primer ejemplo la segunda consulta del ejercicio 2 sobre referencias de nuestro grafo a elementos externos. Al estár representados con URIs externas, es muy simple obtener información a cerca de estas con una consulta federada. \n",
    "\n",
    "Sorprendentemente, un LLM como ChatGPT es capaz de obtener la misma información del grafo que nosotros realizando una query con SPARQL **una vez provisto del grafo de conocimiento**, esto claro, ya que hace uso de la librería *rdflib* para obtener los mismos datos que nosotros, por lo que realmente lo único que está haciendo es \"copiar\" nuestro código sin consultar la información en fuentes externas.\n",
    "\n",
    "Link a la conversación: https://chatgpt.com/share/67b0c15f-0f24-800b-b1bd-bab105fa48f3\n",
    "\n",
    "Si probamos en cambio a no ofrecerle una base de información, podemos ver que obtiene mucha menos información de la que nosotros le hemos provisto, y que en algunos caso se le escapan algunos conceptos (Knights of the Eastern Calculus == Knights of the Lambda Calculus) o que nos dá información muy rebuscada que se escapa del prompt (Eiri Masami → Transhumanist Thinkers). Además de esto no nos proporciona las fuentes que ha empleado para obtener esta información.\n",
    "\n",
    "Link a la conversación: https://chatgpt.com/share/67b0c29a-10c8-800b-a3d7-be6790fb2b9a\n",
    "\n",
    "La primera conversación con ChatGPT nos da una pequeña pista a cerca de un tema comentado en el paper: [\"Large Language Models, Knowledge Graphs and Search Engines: A Crossroad for Answering Users' QUestions\"](https://arxiv.org/abs/2501.06699), en el que se habla del uso conjunto entre LLMs y Grafos de conocimiento.\n",
    "\n",
    "En ese artículo, se mencionan tres maneras de combinar estas tecnologías para reforzar su manera de obtener conocimiento:\n",
    "\n",
    "- **LLMs for Knowledge Graphs**: consistiría en \"rellenar\" los \"huecos\" de los grafos de información con la información obtenida con un LLM, más adelante probaremos a hacer una demostración práctica de esto.\n",
    "- **Knowledge Graphs for LLMs**: consiste en proporcionar a los LLMs con grafos de conocimiento para que puedan *validar* la información que le van a dar al usuario, esto podría asemejarse a lo que hemos hecho en el primer chat con ChatGPT, ya que toda la información que nos ha dado provenía de ese mismo grafo.\n",
    "- **KG + LLM + SE**: consiste en combinar las tres teconologías para obtener información mediante un proceso \"largo\", similar a un *Map-Reduce*. Como resulta un poco más complejo, no entraremos en detalle en este caso, pero un ejemplo de su aplicación podría verse en mi presentación para la asignatura en el pdf [*WS_LLMs_KG.pdf*](./WS_LLMs_KG.pdf) en la página 10, en la que ChatGPT emplea un Search Engine para acceder a información de un Grafo de Conocimiento.\n",
    "\n",
    "Como ejemplo de LLMs for KG, se ha tenido una conversación con ChatGPT para pedirle que rellen el grafo con información faltante. Se le ha pedido explícitamente que se centre solo en los personajes, y que devuelva la información en RDF con sintaxis de Turtle para poder compararla con nuestro grafo actual. El resultado a sido el siguiente archivo [/llms/rdf.ttl](./llms/rdf.ttl)\n",
    "\n",
    "Como podemos apreciar, aunque sí que **nos ofrece información que faltaba** en el grafo (Por ejemplo el personaje Taro), **nos da información incorrecta** (Karl Haushofer no es el \"Top executive\" de los hombres de negro y este segundo no es una Persona, si no una organización) y **no emplea ni los prefijos ni las relaciones existentes** del grafo que le habíamos dado como base (Por ejemplo, no pone que el padre y la madre de Lain_Iwakura tengan una relación con ella de tipo *children*).\n",
    "\n",
    "Además de esto, se le ha pedido que genere una shape con SHEX para validar los nodos de personajes, ya que esta también podría ser otra aplicación de los LLMs en el campo de los grafos de conocimiento. Aunque el schema generado no es del todo incorrecto, si lo comparamos con el que especificamos nosotros en [shapes/CharacterShape](./shapes/CharacterShape.shex), podemos ver que hay ciertas relaciones que le faltan, además de añadir las que anteriormente utilizó él cuando nos dió más información en vez de centrarse solo en el grafo que le pasamos.\n",
    "\n",
    "\n",
    "```shex\n",
    "PREFIX schema: <http://schema.org/>\n",
    "PREFIX ex: <http://example.org/lain/>\n",
    "\n",
    "ex:CharacterShape {\n",
    "    schema:name xsd:string+ ;   # Every character must have at least one name\n",
    "    schema:age xsd:string? ;   # Age is optional\n",
    "    schema:affiliation IRI* ;  # A character may belong to multiple organizations\n",
    "    schema:role xsd:string* ;  # Role(s) of the character (optional, multiple allowed)\n",
    "    schema:description xsd:string* ;  # Character description(s)\n",
    "    schema:parent IRI* ;  # Links to parent(s)\n",
    "    schema:sibling IRI* ;  # Links to sibling(s)\n",
    "    schema:voiceActor xsd:string* ;  # Multiple voice actors possible\n",
    "}\n",
    "\n",
    "```\n",
    "\n",
    "Link a la conversación: https://chatgpt.com/share/67b0cdef-0420-800b-b782-df7433e626d3\n",
    "\n",
    "Como conlcusión aquí, podemos decir que aún falta mucho recorrido para que estas tecnologías se entiendan y complementen entre sí, pero no parece una idea muy descabellada pensar que en un futuro podrían llegar a emplearse de alguna de las maneras descritas para potenciar el concimiento en la web.\n",
    "\n",
    "# Ejercicio 8\n",
    "La presentación realizad en clase se encuentra en [*WS_LLMs_KG.pdf*](./WS_LLMs_KG.pdf).\n",
    "\n",
    "La bilbiografía de la misma se puede resumir en el siguiente artículo: [\"Large Language Models, Knowledge Graphs and Search Engines: A Crossroad for Answering Users' QUestions\"](https://arxiv.org/abs/2501.06699)."
   ]
  }
 ],
 "metadata": {
  "kernelspec": {
   "display_name": "Python 3",
   "language": "python",
   "name": "python3"
  },
  "language_info": {
   "codemirror_mode": {
    "name": "ipython",
    "version": 3
   },
   "file_extension": ".py",
   "mimetype": "text/x-python",
   "name": "python",
   "nbconvert_exporter": "python",
   "pygments_lexer": "ipython3",
   "version": "3.11.4"
  }
 },
 "nbformat": 4,
 "nbformat_minor": 2
}
