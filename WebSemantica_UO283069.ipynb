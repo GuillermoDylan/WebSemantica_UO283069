{
 "cells": [
  {
   "cell_type": "markdown",
   "metadata": {},
   "source": [
    "# Ejercicio 1 - Modelado de datos como RDF\n",
    "## Temática elegida\n",
    "La temática que se ha escogido para modelar los datos ha sido la serie de animación japonesa \"*Serial Experiments: Lain*\", un anime vanguardista conocido por tocar temas filosóficos y de comunicación social (centrado en el comienzo de internet en los 90-2000).\n",
    "\n",
    "Se han modelado principalmente **personajes, organizaciones y objetos** que aparecen en a serie, intentando hacer incapié en las similitudes de esta con elementos de la vida real.\n",
    "\n",
    "Entre los diferentes **conceptos y entidades** modelados, podemos encontrar:\n",
    "\n",
    "- **Personajes**: los personajes principales de la serie, de tipo Person\n",
    "- **Lugares**: (Solamente uno, ya que la trama transcurre en Tokyo, Japón)\n",
    "- **Organizaciones**: tomando el termino de organización como grupo organizado, como pueden ser empresas o sectas\n",
    "- **Productos/Objetos**: muy generalmente, todos aquellos elementos desarrollados por alguien con un fin o propósito, desde internet a productos de compra venta. Por enumerar algunos:\n",
    "    - Código de programación\n",
    "    - Dispositivos electrónicos\n",
    "    - Ordenadores\n",
    "    - Redes de ordenadores\n",
    "- **Otros conceptos que aparecen representados**:\n",
    "    - Dios: de manera simplificada, teniendo en cuenta su papel en la serie (mejor definido en la ontología)\n",
    "    - Videojuegos: muy simplificadamente\n",
    "    - Páginas web: tanto como enlaces como entidades en sí, ya que juegan un papel dentro de la serie\n",
    "    - Conceptos físicos: como resonancias magnéticas\n",
    "    - Eventos \n",
    "\n",
    "Para modelar este dominio, se ha hecho uso de **elementos de otras ontologías**, principalmente de Wikidata, Schema.org y DBpedia, aunque también se han tenido en cuenta otras ontologías como la [VideoGameOntology](http://purl.org/net/VideoGameOntology#), [FOAF](http://xmlns.com/foaf/0.1/) o [GEO](http://www.w3.org/2003/01/geo/wgs84_pos#). Entre estos elementos encontramos:\n",
    "- La entidad de *schema:Person*, que representa a una persona\n",
    "- La entidad *schema:Organization*, que representa organizaciones\n",
    "- Se ha usado *schema:City* para representar ciudades\n",
    "- Diversos Qs de Wikidata, entre ellos *Q15836568* (Computer Network) o *Q1293220* (Resonancia de Schumman)\n",
    "- Para los eventos se ha empleado *schema:Event*\n",
    "- Para el videojuego mencionado en el grafdo, se ha empleado *vgo:GameGenre* para describir su género\n",
    "\n",
    "No se han empleado ontologías que describan a los personajes como personajes de una serie animada ni como peronajes de ficción ya que se ha considerado que no era pertinente para la aplicación que se le pretenderá dar a los datos del grafo."
   ]
  },
  {
   "cell_type": "code",
   "execution_count": 2,
   "metadata": {},
   "outputs": [
    {
     "data": {
      "text/plain": [
       "'@prefix dpedia: <http://dbpedia.org/resource/> .\\n@prefix foaf: <http://xmlns.com/foaf/0.1/> .\\n@prefix owl: <http://www.w3.org/2002/07/owl#> .\\n@prefix rdf: <http://www.w3.org/1999/02/22-rdf-syntax-ns#> .\\n@prefix rdfs: <http://www.w3.org/2000/01/rdf-schema#> .\\n@prefix schema1: <http://schema.org/> .\\n@prefix uo: <http://uniovi.es/miw/uo283069/entity/> .\\n@prefix uop: <http://uniovi.es/miw/uo283069/property/> .\\n@prefix vgo: <http://purl.org/net/VideoGameOntology#> .\\n@prefix wd: <http://www.wikidata.org/entity/> .\\n@prefix xsd: <http://www.w3.org/2001/XMLSchema#> .\\n\\nuo:Afx-n-nPrv-View.CL a uo:ComputerCode ;\\n    schema1:creator uo:Lain_Iwakura ;\\n    schema1:name \"Afx-n-nPrv-View.CL\" ;\\n    schema1:programmingLanguage wd:Q849146 ;\\n    uop:references wd:Q312 ;\\n    rdfs:comment \"Afx-n-nPrv-View.CL is the source for a code walker.\" ;\\n    foaf:image <https://lain.wiki/wiki/File:Walker.jpg> .\\n\\nuo:CRowView.CL a uo:ComputerCode ;\\n    schema1:creator uo:Lain_Iwakura ;\\n    schema1:name \"CRowView.CL\" ;\\n    schema1:programmingLanguage wd:Q849146 ;\\n    uop:references wd:Q244615 ;\\n    rdfs:comment \"CRowView.CL contains code for John Conway\\'s Game of Life.\" ;\\n    foaf:image <https://lain.wiki/wiki/File:Life.jpg> .\\n\\nuo:KarlHaushofer a schema1:Person ;\\n    schema1:deathPlace uo:Tokyo ;\\n    schema1:employmentUnit uo:MenInBlack ;\\n    schema1:hasOccupation [ a schema1:Occupation ;\\n            schema1:name \"Spy\" ;\\n            schema1:occupationalCategory \"33-3021.00\" ] ;\\n    schema1:name \"Karl Haushofer\"@en ;\\n    uop:characterRole \"Secondary Character\" ;\\n    foaf:age 32 ;\\n    foaf:gender \"Male\" .\\n\\nuo:Kensingtonuoperiment a schema1:Event ;\\n    schema1:director uo:ProfessorHodgeson ;\\n    schema1:location uo:Tokyo ;\\n    schema1:name \"Kensington uoperiment\" ;\\n    uop:references wd:Q496036 ;\\n    rdfs:comment \"An experiment conducted by Professor Hodgeson  to harness the latent para-psychological abilities of children that resulted in multiple casualties.\" .\\n\\nuo:LinSuiXi a schema1:Person ;\\n    schema1:deathPlace uo:Tokyo ;\\n    schema1:employmentUnit uo:MenInBlack ;\\n    schema1:hasOccupation [ a schema1:Occupation ;\\n            schema1:name \"Spy\" ;\\n            schema1:occupationalCategory \"33-3021.00\" ] ;\\n    schema1:name \"Lin Sui-Xi\"@en ;\\n    uop:characterRole \"Secondary Character\" ;\\n    foaf:age 35 ;\\n    foaf:gender \"Male\" .\\n\\nuo:Mebious a schema1:WebPage ;\\n    schema1:creator uo:Lain_Iwakura ;\\n    schema1:name \"Mebious.co.uk\" ;\\n    schema1:significantLink <http://www.mebious.co.uk/>,\\n        <http://www.mebious.mobi/> ;\\n    rdfs:comment \"A website on the Wired.\" .\\n\\nuo:PHANTOMa a schema1:VideoGame ;\\n    vgo:hasGameGenere uo:MMORPG ;\\n    schema1:device uo:KIDS ;\\n    schema1:name \"PHANTOMa\" ;\\n    foaf:image <https://lain.wiki/wiki/File:1669_900.png> .\\n\\nuo:CommunicationOperatingSystem a dpedia:Operating_system ;\\n    rdfs:label \"Communication Operating System\" ;\\n    rdfs:comment \"An operating system designed for communication purposes.\" .\\n\\nuo:KIDS a dpedia:Electrical_device ;\\n    schema1:creator uo:ProfessorHodgeson ;\\n    schema1:location uo:Tokyo ;\\n    schema1:name \"KIDS System\" .\\n\\nuo:KnightsoftheEasternCalculus a schema1:Organization ;\\n    schema1:location uo:Tokyo ;\\n    schema1:name \"Knights of the Eastern Calculus\" ;\\n    uop:references wd:Q6422517 .\\n\\nuo:MMORPG a vgo:GameGenre ;\\n    rdfs:label \"MMORPG\" ;\\n    rdfs:comment \"A genre of video games that are played online with a large number of players.\" ;\\n    owl:sameAs wd:Q175173 .\\n\\nuo:Navi2 a uo:NAVI ;\\n    schema1:manufacturer uo:TachibanaLabs ;\\n    schema1:name \"NAVI\" ;\\n    schema1:operatingSystem uo:CoplandOS ;\\n    schema1:version 2 ;\\n    uop:hasComponent uo:PsycheChip ;\\n    uop:references wd:Q306381 ;\\n    uop:usesProtocol uo:Protocol7 ;\\n    owl:sameAs wd:Q380574 .\\n\\nuo:Navi3 a uo:NAVI ;\\n    schema1:alternateName \"Handheld NAVI\" ;\\n    schema1:manufacturer uo:TachibanaLabs ;\\n    schema1:name \"HandiNAVI\" ;\\n    schema1:operatingSystem uo:CoplandOS ;\\n    schema1:version 3 ;\\n    uop:references wd:Q420772 .\\n\\nuo:NaviV1 a uo:NAVI ;\\n    schema1:manufacturer uo:TachibanaLabs ;\\n    schema1:name \"Child\\'s NAVI\" ;\\n    schema1:operatingSystem uo:CommunicationOperatingSystem ;\\n    schema1:version 1 ;\\n    uop:references wd:Q2141790 ;\\n    uop:usesProtocol uo:Protocol6 .\\n\\nuo:Protocol6 a wd:Q15836568 ;\\n    schema1:name \"Protocol 6\" ;\\n    schema1:version 6 ;\\n    uop:grantsAccessTo uo:TheWired ;\\n    uop:references wd:Q2551624 .\\n\\nuo:PsycheChip a schema1:Product ;\\n    schema1:manufacturer uo:KnightsoftheEasternCalculus ;\\n    schema1:name \"Psyche Chip\" ;\\n    uop:usesProtocol uo:Protocol7 .\\n\\nuo:SchumannResonances a wd:Q1293220 ;\\n    schema1:name \"Schumann Resonances\" ;\\n    uop:references wd:Q916906 ;\\n    rdfs:comment \"A set of spectrum peaks in the uotremely low frequency portion of the Earth\\'s electromagnetic field spectrum.\" ;\\n    owl:sameAs wd:Q916906 .\\n\\nuo:CoplandOS a dpedia:Operating_system ;\\n    schema1:manufacturer uo:TachibanaLabs ;\\n    schema1:name \"Copland OS\" ;\\n    uop:references wd:Q1131259 .\\n\\nuo:MasamiEiri a schema1:Person,\\n        uo:God ;\\n    schema1:deathPlace uo:Tokyo ;\\n    schema1:employmentUnit uo:TachibanaLabs ;\\n    schema1:hasOccupation [ a schema1:Occupation ;\\n            schema1:name \"Computer Programmer\" ;\\n            schema1:occupationalCategory \"15-1251.00\" ] ;\\n    schema1:name \"Masami Eiri\"@en,\\n        \"英利 政美\"@ja ;\\n    uop:characterRole \"Antagonist\" ;\\n    foaf:age 30 ;\\n    foaf:gender \"Male\" .\\n\\nuo:MenInBlack a schema1:Organization ;\\n    schema1:founder [ a schema1:Person ;\\n            schema1:employmentUnit uo:TachibanaLabs ;\\n            schema1:name \"Kurosawa\"@en,\\n                \"黒沢\"@ja ;\\n            foaf:gender \"Male\" ] ;\\n    schema1:name \"Men in Black\" ;\\n    uop:location uo:Tokyo ;\\n    uop:references wd:Q51410 .\\n\\nuo:MihoIwakura a schema1:Person ;\\n    schema1:children uo:Lain_Iwakura,\\n        uo:MikaIwakura ;\\n    schema1:employmentUnit uo:TachibanaLabs ;\\n    schema1:name \"Miho Iwakura\"@en,\\n        \"岩倉 美穂\"@ja ;\\n    uop:characterRole \"Secondary Character\" ;\\n    foaf:age 38 ;\\n    foaf:gender \"Female\" .\\n\\nuo:ProfessorHodgeson a schema1:Person ;\\n    schema1:deathPlace uo:Tokyo ;\\n    schema1:employmentUnit uo:TachibanaLabs ;\\n    schema1:hasOccupation [ a schema1:Occupation ;\\n            schema1:name \"Scientist\" ;\\n            schema1:occupationalCategory \"19-1029.01\" ] ;\\n    schema1:name \"Professor Hodgeson\"@en ;\\n    uop:characterRole \"Secondary Character\" ;\\n    foaf:age 60 ;\\n    foaf:gender \"Male\" .\\n\\nuo:Protocol7 a wd:Q15836568 ;\\n    schema1:creator uo:MasamiEiri ;\\n    schema1:name \"Protocol 7\" ;\\n    schema1:version 7 ;\\n    uo:worksThrough uo:SchumannResonances ;\\n    uop:grantsAccessTo uo:TheWired ;\\n    uop:references wd:Q28823658 .\\n\\nuo:TheWired a dpedia:Computer_network ;\\n    schema1:name \"The Wired\" ;\\n    uop:references wd:Q466 ;\\n    rdfs:subClassOf dpedia:Virtual_reality .\\n\\nuo:YasuoIwakura a schema1:Person ;\\n    schema1:children uo:Lain_Iwakura,\\n        uo:MikaIwakura ;\\n    schema1:employmentUnit uo:TachibanaLabs ;\\n    schema1:hasOccupation [ a schema1:Occupation ;\\n            schema1:name \"Computer Programmer\" ;\\n            schema1:occupationalCategory \"15-1251.00\" ] ;\\n    schema1:name \"Yasuo Iwakura\"@en,\\n        \"岩倉 康男\"@ja ;\\n    uop:characterRole \"Secondary Character\" ;\\n    foaf:age 45 ;\\n    foaf:gender \"Male\" .\\n\\nuo:MikaIwakura a schema1:Person ;\\n    schema1:name \"Mika Iwakura\"@en,\\n        \"岩倉 美香\"@ja ;\\n    schema1:parent uo:MihoIwakura,\\n        uo:YasuoIwakura ;\\n    schema1:sibling uo:Lain_Iwakura ;\\n    uop:characterRole \"Secondary Character\" ;\\n    foaf:age 16 ;\\n    foaf:gender \"Female\" .\\n\\nuo:NAVI a dpedia:Computer ;\\n    schema1:manufacturer uo:TachibanaLabs ;\\n    schema1:name \"Knowledge Navigator\",\\n        \"NAVI\" ;\\n    uop:versions ( uo:NaviV1 uo:Navi2 uo:Navi3 ) .\\n\\nuo:Lain_Iwakura a schema1:Person ;\\n    schema1:follows uo:MasamiEiri ;\\n    schema1:name \"Lain Iwakura\"@en,\\n        \"岩倉 レイン\"@ja ;\\n    schema1:parent uo:MihoIwakura,\\n        uo:YasuoIwakura ;\\n    schema1:sibling uo:MikaIwakura ;\\n    uop:characterRole \"Main Character\" ;\\n    owl:sameAs wd:Q112631434 ;\\n    foaf:age 14 ;\\n    foaf:gender \"Female\" .\\n\\nuo:Tokyo a schema1:City ;\\n    rdfs:label \"Tokyo\" ;\\n    schema1:alternateName \"東京都\"@ja ;\\n    schema1:containedInPlace wd:Q17 ;\\n    schema1:latitude \"35.6895\"^^xsd:float ;\\n    schema1:longitude \"139.6917\"^^xsd:float ;\\n    owl:sameAs wd:Q1490 .\\n\\nuo:TachibanaLabs a schema1:Organization ;\\n    schema1:location uo:Tokyo ;\\n    schema1:name \"Tachibana General Laboratories\" .\\n\\n'"
      ]
     },
     "execution_count": 2,
     "metadata": {},
     "output_type": "execute_result"
    }
   ],
   "source": [
    "%pip install rdflib sparqlwrapper pyshex --quiet --user\n",
    "from rdflib import Graph, Literal, BNode, Namespace, RDF, URIRef\n",
    "\n",
    "g = Graph()\n",
    "base_path = \"./lain.ttl\"\n",
    "g.parse(base_path)\n",
    "g.serialize(format=\"turtle\")"
   ]
  },
  {
   "cell_type": "markdown",
   "metadata": {},
   "source": [
    "# Ejercicio 2 - Despliegue datos RDF + consultas SPARQL\n",
    "\n",
    "- URL pública del endpoint de Blazergaph: http://156.35.95.43:9999/blazegraph/namespace/kb/sparql\n",
    "- URL pública del endpoint de Apache Jena Fuseki: http://156.35.95.43:3030/SerialExperimentsLain/sparql\n",
    "\n",
    "## Primera consulta: Familia\n",
    "- Objetivo: Obtener los datos de personajes que formen una familia (padres, hijos o hermanos)\n",
    "- Consulta NO FEDERADA\n",
    "### Query:\n",
    "```SPARQL\n",
    "PREFIX rdf: <http://www.w3.org/1999/02/22-rdf-syntax-ns#>\n",
    "PREFIX rdfs: <http://www.w3.org/2000/01/rdf-schema#>\n",
    "PREFIX schema: <http://schema.org/>\n",
    "\n",
    "SELECT DISTINCT ?person ?personName (GROUP_CONCAT(DISTINCT ?relation; separator=\", \") AS ?relations) (GROUP_CONCAT(DISTINCT ?relativeName; separator=\", \") AS ?relatives)\n",
    "WHERE {\n",
    "  ?person schema:name ?personName .\n",
    "  FILTER (LANG(?personName) = \"en\")\n",
    "\n",
    "  {\n",
    "    ?person schema:parent ?relative .\n",
    "    ?relative schema:name ?relativeName .\n",
    "    FILTER (LANG(?relativeName) = \"en\")\n",
    "    BIND(\"Parent\" AS ?relation)\n",
    "  }\n",
    "  UNION\n",
    "  {\n",
    "    ?person schema:sibling ?relative .\n",
    "    ?relative schema:name ?relativeName .\n",
    "    FILTER (LANG(?relativeName) = \"en\")\n",
    "    BIND(\"Sibling\" AS ?relation)\n",
    "  }\n",
    "  UNION\n",
    "  {\n",
    "    ?person schema:children ?relative .\n",
    "    ?relative schema:name ?relativeName .\n",
    "    FILTER (LANG(?relativeName) = \"en\")\n",
    "    BIND(\"Child\" AS ?relation)\n",
    "  }\n",
    "}\n",
    "GROUP BY ?person ?personName\n",
    "ORDER BY ?personName ?relation\n",
    "\n",
    "```"
   ]
  },
  {
   "cell_type": "code",
   "execution_count": 7,
   "metadata": {},
   "outputs": [
    {
     "name": "stdout",
     "output_type": "stream",
     "text": [
      "Person: http://example.org/Lain_Iwakura, Name: Lain Iwakura, Relations: Parent, Sibling, Relatives: Yasuo Iwakura, Miho Iwakura, Mika Iwakura\n",
      "Person: http://example.org/MihoIwakura, Name: Miho Iwakura, Relations: Child, Relatives: Mika Iwakura, Lain Iwakura\n",
      "Person: http://example.org/MikaIwakura, Name: Mika Iwakura, Relations: Parent, Sibling, Relatives: Miho Iwakura, Yasuo Iwakura, Lain Iwakura\n",
      "Person: http://example.org/YasuoIwakura, Name: Yasuo Iwakura, Relations: Child, Relatives: Mika Iwakura, Lain Iwakura\n"
     ]
    }
   ],
   "source": [
    "str_query = \"\"\"\n",
    "PREFIX rdf: <http://www.w3.org/1999/02/22-rdf-syntax-ns#>\n",
    "PREFIX rdfs: <http://www.w3.org/2000/01/rdf-schema#>\n",
    "PREFIX schema: <http://schema.org/>\n",
    "\n",
    "SELECT DISTINCT ?person ?personName (GROUP_CONCAT(DISTINCT ?relation; separator=\", \") AS ?relations) (GROUP_CONCAT(DISTINCT ?relativeName; separator=\", \") AS ?relatives)\n",
    "WHERE {\n",
    "  ?person schema:name ?personName .\n",
    "  FILTER (LANG(?personName) = \"en\")\n",
    "\n",
    "  {\n",
    "    ?person schema:parent ?relative .\n",
    "    ?relative schema:name ?relativeName .\n",
    "    FILTER (LANG(?relativeName) = \"en\")\n",
    "    BIND(\"Parent\" AS ?relation)\n",
    "  }\n",
    "  UNION\n",
    "  {\n",
    "    ?person schema:sibling ?relative .\n",
    "    ?relative schema:name ?relativeName .\n",
    "    FILTER (LANG(?relativeName) = \"en\")\n",
    "    BIND(\"Sibling\" AS ?relation)\n",
    "  }\n",
    "  UNION\n",
    "  {\n",
    "    ?person schema:children ?relative .\n",
    "    ?relative schema:name ?relativeName .\n",
    "    FILTER (LANG(?relativeName) = \"en\")\n",
    "    BIND(\"Child\" AS ?relation)\n",
    "  }\n",
    "}\n",
    "GROUP BY ?person ?personName\n",
    "ORDER BY ?personName ?relation\n",
    "\"\"\"\n",
    "query_result = g.query(str_query)\n",
    "\n",
    "# Los resultados se recorren por filas, quizá te recuerde a resultsets de librerías para ejecutar consultas SQL.\n",
    "# Cada fila contiene objeto de dominio de rdflib (URIRef, Literal...) en variables que se llaman exactamente como los nombres de variables en la consulta SPARQL\n",
    "for a_row in query_result:\n",
    "  print(f\"Person: {a_row.person}, Name: {a_row.personName}, Relations: {a_row.relations}, Relatives: {a_row.relatives}\")"
   ]
  },
  {
   "cell_type": "markdown",
   "metadata": {},
   "source": [
    "## Segunda consulta: Referencias\n",
    "\n",
    "\n",
    "```SPARQL\n",
    "PREFIX rdf: <http://www.w3.org/1999/02/22-rdf-syntax-ns#>\n",
    "PREFIX rdfs: <http://www.w3.org/2000/01/rdf-schema#>\n",
    "PREFIX schema: <http://schema.org/>\n",
    "PREFIX ex: <http://example.org/>\n",
    "\n",
    "SELECT ?object ?name ?subject\n",
    "WHERE {\n",
    "  ?object ex:references ?subject .\n",
    "  ?object schema:name ?name . \n",
    "}\n",
    "```"
   ]
  },
  {
   "cell_type": "code",
   "execution_count": 4,
   "metadata": {},
   "outputs": [
    {
     "name": "stdout",
     "output_type": "stream",
     "text": [
      "Object: http://example.org/Protocol6, Name: Protocol 6, Subject: http://www.wikidata.org/entity/Q2551624\n",
      "Object: http://example.org/Protocol7, Name: Protocol 7, Subject: http://www.wikidata.org/entity/Q28823658\n",
      "Object: http://example.org/KnightsoftheEasternCalculus, Name: Knights of the Eastern Calculus, Subject: http://www.wikidata.org/entity/Q6422517\n",
      "Object: http://example.org/CoplandOS, Name: Copland OS, Subject: http://www.wikidata.org/entity/Q1131259\n",
      "Object: http://example.org/NaviV1, Name: Child's NAVI, Subject: http://www.wikidata.org/entity/Q2141790\n",
      "Object: http://example.org/Navi2, Name: NAVI, Subject: http://www.wikidata.org/entity/Q306381\n",
      "Object: http://example.org/Navi3, Name: HandiNAVI, Subject: http://www.wikidata.org/entity/Q420772\n",
      "Object: http://example.org/TheWired, Name: The Wired, Subject: http://www.wikidata.org/entity/Q466\n",
      "Object: http://example.org/KensingtonExperiment, Name: Kensington Experiment, Subject: http://www.wikidata.org/entity/Q496036\n",
      "Object: http://example.org/MenInBlack, Name: Men in Black, Subject: http://www.wikidata.org/entity/Q51410\n",
      "Object: http://example.org/CRowView.CL, Name: CRowView.CL, Subject: http://www.wikidata.org/entity/Q244615\n",
      "Object: http://example.org/Afx-n-nPrv-View.CL, Name: Afx-n-nPrv-View.CL, Subject: http://www.wikidata.org/entity/Q312\n"
     ]
    }
   ],
   "source": [
    "str_query =\"\"\"\n",
    "PREFIX rdf: <http://www.w3.org/1999/02/22-rdf-syntax-ns#>\n",
    "PREFIX rdfs: <http://www.w3.org/2000/01/rdf-schema#>\n",
    "PREFIX schema: <http://schema.org/>\n",
    "PREFIX ex: <http://example.org/>\n",
    "\n",
    "SELECT ?object ?name ?subject\n",
    "WHERE {\n",
    "  ?object ex:references ?subject .\n",
    "  ?object schema:name ?name . \n",
    "}\n",
    "\"\"\"\n",
    "query_result = g.query(str_query)\n",
    "\n",
    "for a_row in query_result:\n",
    "  print(f\"Object: {a_row.object}, Name: {a_row.name}, Subject: {a_row.subject}\")"
   ]
  },
  {
   "cell_type": "markdown",
   "metadata": {},
   "source": [
    "## Tercera consulta: Federada\n",
    "- Objetivo: Obtener, en base a la consulta anterior, los nombres de los sujetos en Wikidata"
   ]
  },
  {
   "cell_type": "code",
   "execution_count": 2,
   "metadata": {},
   "outputs": [
    {
     "ename": "NameError",
     "evalue": "name 'g' is not defined",
     "output_type": "error",
     "traceback": [
      "\u001b[1;31m---------------------------------------------------------------------------\u001b[0m",
      "\u001b[1;31mNameError\u001b[0m                                 Traceback (most recent call last)",
      "Cell \u001b[1;32mIn[2], line 22\u001b[0m\n\u001b[0;32m      1\u001b[0m str_query \u001b[38;5;241m=\u001b[39m\u001b[38;5;124m\"\"\"\u001b[39m\n\u001b[0;32m      2\u001b[0m \u001b[38;5;124mPREFIX rdf: <http://www.w3.org/1999/02/22-rdf-syntax-ns#>\u001b[39m\n\u001b[0;32m      3\u001b[0m \u001b[38;5;124mPREFIX rdfs: <http://www.w3.org/2000/01/rdf-schema#>\u001b[39m\n\u001b[1;32m   (...)\u001b[0m\n\u001b[0;32m     20\u001b[0m \u001b[38;5;124m}\u001b[39m\n\u001b[0;32m     21\u001b[0m \u001b[38;5;124m\"\"\"\u001b[39m\n\u001b[1;32m---> 22\u001b[0m query_result \u001b[38;5;241m=\u001b[39m \u001b[43mg\u001b[49m\u001b[38;5;241m.\u001b[39mquery(str_query)\n\u001b[0;32m     24\u001b[0m \u001b[38;5;28;01mfor\u001b[39;00m a_row \u001b[38;5;129;01min\u001b[39;00m query_result:\n\u001b[0;32m     25\u001b[0m   \u001b[38;5;28mprint\u001b[39m(\u001b[38;5;124mf\u001b[39m\u001b[38;5;124m\"\u001b[39m\u001b[38;5;124mObject: \u001b[39m\u001b[38;5;132;01m{\u001b[39;00ma_row\u001b[38;5;241m.\u001b[39mobject\u001b[38;5;132;01m}\u001b[39;00m\u001b[38;5;124m, Name: \u001b[39m\u001b[38;5;132;01m{\u001b[39;00ma_row\u001b[38;5;241m.\u001b[39mname\u001b[38;5;132;01m}\u001b[39;00m\u001b[38;5;124m, Subject: \u001b[39m\u001b[38;5;132;01m{\u001b[39;00ma_row\u001b[38;5;241m.\u001b[39msubjectLabel\u001b[38;5;132;01m}\u001b[39;00m\u001b[38;5;124m - \u001b[39m\u001b[38;5;132;01m{\u001b[39;00ma_row\u001b[38;5;241m.\u001b[39msubject\u001b[38;5;132;01m}\u001b[39;00m\u001b[38;5;124m\"\u001b[39m)\n",
      "\u001b[1;31mNameError\u001b[0m: name 'g' is not defined"
     ]
    }
   ],
   "source": [
    "str_query =\"\"\"\n",
    "PREFIX rdf: <http://www.w3.org/1999/02/22-rdf-syntax-ns#>\n",
    "PREFIX rdfs: <http://www.w3.org/2000/01/rdf-schema#>\n",
    "PREFIX schema: <http://schema.org/>\n",
    "PREFIX ex: <http://example.org/>\n",
    "PREFIX wd: <http://www.wikidata.org/entity/>\n",
    "PREFIX wdt: <http://www.wikidata.org/prop/direct/>\n",
    "PREFIX wikibase: <http://wikiba.se/ontology#>\n",
    "PREFIX bd: <http://www.bigdata.com/rdf#>\n",
    "\n",
    "SELECT ?object ?name ?subject ?subjectLabel\n",
    "WHERE {\n",
    "    ?object ex:references ?subject .\n",
    "    ?object schema:name ?name . \n",
    "    \n",
    "    SERVICE <https://query.wikidata.org/sparql> {\n",
    "        ?subject rdfs:label ?subjectLabel .\n",
    "        FILTER (LANG(?subjectLabel) = \"en\")\n",
    "    }\n",
    "}\n",
    "\"\"\"\n",
    "query_result = g.query(str_query)\n",
    "\n",
    "for a_row in query_result:\n",
    "  print(f\"Object: {a_row.object}, Name: {a_row.name}, Subject: {a_row.subjectLabel} - {a_row.subject}\")"
   ]
  },
  {
   "cell_type": "markdown",
   "metadata": {},
   "source": [
    "## Cuarta consula: Relaciones entre nodos\n",
    "\n",
    "- Objetivo (un poco complejo): Comprobar si hay o no una relación entre dos entidades, para ello utilizaremos el oeprador del wildcard <>.\n",
    "- No federada"
   ]
  },
  {
   "cell_type": "code",
   "execution_count": 67,
   "metadata": {},
   "outputs": [
    {
     "name": "stdout",
     "output_type": "stream",
     "text": [
      "There is a connection between MenInBlack and God.\n"
     ]
    }
   ],
   "source": [
    "\"\"\"\n",
    "Explicación:\n",
    "En cualquier tripleta, el predicado tiene que obligatoriamente ser <> o no serlo,\n",
    "es decir (<>|!<>), si además a esto le añadimos el operador de relación inversa (^),\n",
    "podemos decir que, en una relación entre dos entidades que estén conectadas, debe existir\n",
    "una relación tal que (<>|!<>)|^(<>|!<>). Esto sumado al operador * que indica que \n",
    "la relación puede ser de cualquier longitud, nos permite saber si dos entidades están\n",
    "conectadas o no. (En este caso, como el grafo es epqueño y todo está conectado, \n",
    "siempre va a haber una conexión entre dos entidades por muy larga que sea).\n",
    "\"\"\"\n",
    "ask_query = \"\"\"\n",
    "ASK {\n",
    "    ex:MenInBlack ((<>|!<>)|^(<>|!<>))* ex:God\n",
    "}\n",
    "\"\"\"\n",
    "\n",
    "ask_result = g.query(ask_query)\n",
    "\n",
    "if ask_result.askAnswer:\n",
    "    print(\"There is a connection between MenInBlack and God.\")\n",
    "else:\n",
    "    print(\"There is no connection between MenInBlack and God.\")"
   ]
  },
  {
   "cell_type": "code",
   "execution_count": 10,
   "metadata": {},
   "outputs": [
    {
     "name": "stdout",
     "output_type": "stream",
     "text": [
      "Japanese Name: 岩倉 康男, English Name: Yasuo Iwakura, Occupation: Computer Programmer, Place of Occupation: http://example.org/TachibanaLabs\n",
      "\n",
      "Japanese Name: 英利 政美, English Name: Masami Eiri, Occupation: Computer Programmer, Place of Occupation: http://example.org/TachibanaLabs\n",
      "\n",
      "Japanese Name: None, English Name: Professor Hodgeson, Occupation: Scientist, Place of Occupation: None\n",
      "\n",
      "Japanese Name: None, English Name: Karl Haushofer, Occupation: Spy, Place of Occupation: None\n",
      "\n",
      "Japanese Name: None, English Name: Lin Sui-Xi, Occupation: Spy, Place of Occupation: None\n",
      "\n"
     ]
    }
   ],
   "source": [
    "query = \"\"\"\n",
    "PREFIX schema: <http://schema.org/>\n",
    "\n",
    "SELECT ?japaneseName ?personName ?occupationLabel ?placeOfOccupation\n",
    "WHERE {\n",
    "    ?person a schema:Person  .\n",
    "    OPTIONAL { ?person schema:name ?japaneseName . FILTER (LANG(?japaneseName) = \"ja\") }\n",
    "    ?person schema:name ?personName .\n",
    "    ?person schema:hasOccupation ?occupation .\n",
    "    ?occupation a schema:Occupation .\n",
    "    ?occupation schema:name ?occupationLabel .\n",
    "    OPTIONAL { ?person schema:employmentUnit ?placeOfOccupation }\n",
    "\n",
    "    FILTER (LANG(?personName) = \"en\")\n",
    "}\n",
    "\"\"\"\n",
    "\n",
    "query_result = g.query(query)\n",
    "\n",
    "for a_row in query_result:\n",
    "    print(f\"Japanese Name: {a_row.japaneseName}, English Name: {a_row.personName}, Occupation: {a_row.occupationLabel}, Place of Occupation: {a_row.placeOfOccupation}\\n\")"
   ]
  },
  {
   "cell_type": "code",
   "execution_count": 4,
   "metadata": {},
   "outputs": [
    {
     "ename": "HTTPError",
     "evalue": "HTTP Error 403: Forbidden",
     "output_type": "error",
     "traceback": [
      "\u001b[1;31m---------------------------------------------------------------------------\u001b[0m",
      "\u001b[1;31mHTTPError\u001b[0m                                 Traceback (most recent call last)",
      "Cell \u001b[1;32mIn[4], line 25\u001b[0m\n\u001b[0;32m      4\u001b[0m sparql\u001b[38;5;241m.\u001b[39msetQuery(\u001b[38;5;124m\"\"\"\u001b[39m\n\u001b[0;32m      5\u001b[0m \n\u001b[0;32m      6\u001b[0m \u001b[38;5;124mprefix wdt: \u001b[39m\n\u001b[1;32m   (...)\u001b[0m\n\u001b[0;32m     21\u001b[0m \u001b[38;5;124m\"\"\"\u001b[39m\n\u001b[0;32m     22\u001b[0m )\n\u001b[0;32m     24\u001b[0m sparql\u001b[38;5;241m.\u001b[39msetReturnFormat(JSON)\n\u001b[1;32m---> 25\u001b[0m results \u001b[38;5;241m=\u001b[39m \u001b[43msparql\u001b[49m\u001b[38;5;241;43m.\u001b[39;49m\u001b[43mquery\u001b[49m\u001b[43m(\u001b[49m\u001b[43m)\u001b[49m\u001b[38;5;241m.\u001b[39mconvert()\n\u001b[0;32m     26\u001b[0m \u001b[38;5;28;01mfor\u001b[39;00m result \u001b[38;5;129;01min\u001b[39;00m results[\u001b[38;5;124m\"\u001b[39m\u001b[38;5;124mresults\u001b[39m\u001b[38;5;124m\"\u001b[39m][\u001b[38;5;124m\"\u001b[39m\u001b[38;5;124mbindings\u001b[39m\u001b[38;5;124m\"\u001b[39m]:\n\u001b[0;32m     27\u001b[0m     \u001b[38;5;28;01mfor\u001b[39;00m a_var_key \u001b[38;5;129;01min\u001b[39;00m result:\n",
      "File \u001b[1;32mc:\\Python311\\Lib\\site-packages\\SPARQLWrapper\\Wrapper.py:960\u001b[0m, in \u001b[0;36mSPARQLWrapper.query\u001b[1;34m(self)\u001b[0m\n\u001b[0;32m    942\u001b[0m \u001b[38;5;28;01mdef\u001b[39;00m \u001b[38;5;21mquery\u001b[39m(\u001b[38;5;28mself\u001b[39m) \u001b[38;5;241m-\u001b[39m\u001b[38;5;241m>\u001b[39m \u001b[38;5;124m\"\u001b[39m\u001b[38;5;124mQueryResult\u001b[39m\u001b[38;5;124m\"\u001b[39m:\n\u001b[0;32m    943\u001b[0m \u001b[38;5;250m    \u001b[39m\u001b[38;5;124;03m\"\"\"\u001b[39;00m\n\u001b[0;32m    944\u001b[0m \u001b[38;5;124;03m    Execute the query.\u001b[39;00m\n\u001b[0;32m    945\u001b[0m \u001b[38;5;124;03m    Exceptions can be raised if either the URI is wrong or the HTTP sends back an error (this is also the\u001b[39;00m\n\u001b[1;32m   (...)\u001b[0m\n\u001b[0;32m    958\u001b[0m \u001b[38;5;124;03m    :rtype: :class:`QueryResult` instance\u001b[39;00m\n\u001b[0;32m    959\u001b[0m \u001b[38;5;124;03m    \"\"\"\u001b[39;00m\n\u001b[1;32m--> 960\u001b[0m     \u001b[38;5;28;01mreturn\u001b[39;00m QueryResult(\u001b[38;5;28;43mself\u001b[39;49m\u001b[38;5;241;43m.\u001b[39;49m\u001b[43m_query\u001b[49m\u001b[43m(\u001b[49m\u001b[43m)\u001b[49m)\n",
      "File \u001b[1;32mc:\\Python311\\Lib\\site-packages\\SPARQLWrapper\\Wrapper.py:940\u001b[0m, in \u001b[0;36mSPARQLWrapper._query\u001b[1;34m(self)\u001b[0m\n\u001b[0;32m    938\u001b[0m     \u001b[38;5;28;01mraise\u001b[39;00m EndPointInternalError(e\u001b[38;5;241m.\u001b[39mread())\n\u001b[0;32m    939\u001b[0m \u001b[38;5;28;01melse\u001b[39;00m:\n\u001b[1;32m--> 940\u001b[0m     \u001b[38;5;28;01mraise\u001b[39;00m e\n",
      "File \u001b[1;32mc:\\Python311\\Lib\\site-packages\\SPARQLWrapper\\Wrapper.py:926\u001b[0m, in \u001b[0;36mSPARQLWrapper._query\u001b[1;34m(self)\u001b[0m\n\u001b[0;32m    924\u001b[0m         response \u001b[38;5;241m=\u001b[39m urlopener(request, timeout\u001b[38;5;241m=\u001b[39m\u001b[38;5;28mself\u001b[39m\u001b[38;5;241m.\u001b[39mtimeout)\n\u001b[0;32m    925\u001b[0m     \u001b[38;5;28;01melse\u001b[39;00m:\n\u001b[1;32m--> 926\u001b[0m         response \u001b[38;5;241m=\u001b[39m \u001b[43murlopener\u001b[49m\u001b[43m(\u001b[49m\u001b[43mrequest\u001b[49m\u001b[43m)\u001b[49m\n\u001b[0;32m    927\u001b[0m     \u001b[38;5;28;01mreturn\u001b[39;00m response, \u001b[38;5;28mself\u001b[39m\u001b[38;5;241m.\u001b[39mreturnFormat\n\u001b[0;32m    928\u001b[0m \u001b[38;5;28;01mexcept\u001b[39;00m urllib\u001b[38;5;241m.\u001b[39merror\u001b[38;5;241m.\u001b[39mHTTPError \u001b[38;5;28;01mas\u001b[39;00m e:\n",
      "File \u001b[1;32mc:\\Python311\\Lib\\urllib\\request.py:216\u001b[0m, in \u001b[0;36murlopen\u001b[1;34m(url, data, timeout, cafile, capath, cadefault, context)\u001b[0m\n\u001b[0;32m    214\u001b[0m \u001b[38;5;28;01melse\u001b[39;00m:\n\u001b[0;32m    215\u001b[0m     opener \u001b[38;5;241m=\u001b[39m _opener\n\u001b[1;32m--> 216\u001b[0m \u001b[38;5;28;01mreturn\u001b[39;00m \u001b[43mopener\u001b[49m\u001b[38;5;241;43m.\u001b[39;49m\u001b[43mopen\u001b[49m\u001b[43m(\u001b[49m\u001b[43murl\u001b[49m\u001b[43m,\u001b[49m\u001b[43m \u001b[49m\u001b[43mdata\u001b[49m\u001b[43m,\u001b[49m\u001b[43m \u001b[49m\u001b[43mtimeout\u001b[49m\u001b[43m)\u001b[49m\n",
      "File \u001b[1;32mc:\\Python311\\Lib\\urllib\\request.py:525\u001b[0m, in \u001b[0;36mOpenerDirector.open\u001b[1;34m(self, fullurl, data, timeout)\u001b[0m\n\u001b[0;32m    523\u001b[0m \u001b[38;5;28;01mfor\u001b[39;00m processor \u001b[38;5;129;01min\u001b[39;00m \u001b[38;5;28mself\u001b[39m\u001b[38;5;241m.\u001b[39mprocess_response\u001b[38;5;241m.\u001b[39mget(protocol, []):\n\u001b[0;32m    524\u001b[0m     meth \u001b[38;5;241m=\u001b[39m \u001b[38;5;28mgetattr\u001b[39m(processor, meth_name)\n\u001b[1;32m--> 525\u001b[0m     response \u001b[38;5;241m=\u001b[39m \u001b[43mmeth\u001b[49m\u001b[43m(\u001b[49m\u001b[43mreq\u001b[49m\u001b[43m,\u001b[49m\u001b[43m \u001b[49m\u001b[43mresponse\u001b[49m\u001b[43m)\u001b[49m\n\u001b[0;32m    527\u001b[0m \u001b[38;5;28;01mreturn\u001b[39;00m response\n",
      "File \u001b[1;32mc:\\Python311\\Lib\\urllib\\request.py:634\u001b[0m, in \u001b[0;36mHTTPErrorProcessor.http_response\u001b[1;34m(self, request, response)\u001b[0m\n\u001b[0;32m    631\u001b[0m \u001b[38;5;66;03m# According to RFC 2616, \"2xx\" code indicates that the client's\u001b[39;00m\n\u001b[0;32m    632\u001b[0m \u001b[38;5;66;03m# request was successfully received, understood, and accepted.\u001b[39;00m\n\u001b[0;32m    633\u001b[0m \u001b[38;5;28;01mif\u001b[39;00m \u001b[38;5;129;01mnot\u001b[39;00m (\u001b[38;5;241m200\u001b[39m \u001b[38;5;241m<\u001b[39m\u001b[38;5;241m=\u001b[39m code \u001b[38;5;241m<\u001b[39m \u001b[38;5;241m300\u001b[39m):\n\u001b[1;32m--> 634\u001b[0m     response \u001b[38;5;241m=\u001b[39m \u001b[38;5;28;43mself\u001b[39;49m\u001b[38;5;241;43m.\u001b[39;49m\u001b[43mparent\u001b[49m\u001b[38;5;241;43m.\u001b[39;49m\u001b[43merror\u001b[49m\u001b[43m(\u001b[49m\n\u001b[0;32m    635\u001b[0m \u001b[43m        \u001b[49m\u001b[38;5;124;43m'\u001b[39;49m\u001b[38;5;124;43mhttp\u001b[39;49m\u001b[38;5;124;43m'\u001b[39;49m\u001b[43m,\u001b[49m\u001b[43m \u001b[49m\u001b[43mrequest\u001b[49m\u001b[43m,\u001b[49m\u001b[43m \u001b[49m\u001b[43mresponse\u001b[49m\u001b[43m,\u001b[49m\u001b[43m \u001b[49m\u001b[43mcode\u001b[49m\u001b[43m,\u001b[49m\u001b[43m \u001b[49m\u001b[43mmsg\u001b[49m\u001b[43m,\u001b[49m\u001b[43m \u001b[49m\u001b[43mhdrs\u001b[49m\u001b[43m)\u001b[49m\n\u001b[0;32m    637\u001b[0m \u001b[38;5;28;01mreturn\u001b[39;00m response\n",
      "File \u001b[1;32mc:\\Python311\\Lib\\urllib\\request.py:563\u001b[0m, in \u001b[0;36mOpenerDirector.error\u001b[1;34m(self, proto, *args)\u001b[0m\n\u001b[0;32m    561\u001b[0m \u001b[38;5;28;01mif\u001b[39;00m http_err:\n\u001b[0;32m    562\u001b[0m     args \u001b[38;5;241m=\u001b[39m (\u001b[38;5;28mdict\u001b[39m, \u001b[38;5;124m'\u001b[39m\u001b[38;5;124mdefault\u001b[39m\u001b[38;5;124m'\u001b[39m, \u001b[38;5;124m'\u001b[39m\u001b[38;5;124mhttp_error_default\u001b[39m\u001b[38;5;124m'\u001b[39m) \u001b[38;5;241m+\u001b[39m orig_args\n\u001b[1;32m--> 563\u001b[0m     \u001b[38;5;28;01mreturn\u001b[39;00m \u001b[38;5;28;43mself\u001b[39;49m\u001b[38;5;241;43m.\u001b[39;49m\u001b[43m_call_chain\u001b[49m\u001b[43m(\u001b[49m\u001b[38;5;241;43m*\u001b[39;49m\u001b[43margs\u001b[49m\u001b[43m)\u001b[49m\n",
      "File \u001b[1;32mc:\\Python311\\Lib\\urllib\\request.py:496\u001b[0m, in \u001b[0;36mOpenerDirector._call_chain\u001b[1;34m(self, chain, kind, meth_name, *args)\u001b[0m\n\u001b[0;32m    494\u001b[0m \u001b[38;5;28;01mfor\u001b[39;00m handler \u001b[38;5;129;01min\u001b[39;00m handlers:\n\u001b[0;32m    495\u001b[0m     func \u001b[38;5;241m=\u001b[39m \u001b[38;5;28mgetattr\u001b[39m(handler, meth_name)\n\u001b[1;32m--> 496\u001b[0m     result \u001b[38;5;241m=\u001b[39m \u001b[43mfunc\u001b[49m\u001b[43m(\u001b[49m\u001b[38;5;241;43m*\u001b[39;49m\u001b[43margs\u001b[49m\u001b[43m)\u001b[49m\n\u001b[0;32m    497\u001b[0m     \u001b[38;5;28;01mif\u001b[39;00m result \u001b[38;5;129;01mis\u001b[39;00m \u001b[38;5;129;01mnot\u001b[39;00m \u001b[38;5;28;01mNone\u001b[39;00m:\n\u001b[0;32m    498\u001b[0m         \u001b[38;5;28;01mreturn\u001b[39;00m result\n",
      "File \u001b[1;32mc:\\Python311\\Lib\\urllib\\request.py:643\u001b[0m, in \u001b[0;36mHTTPDefaultErrorHandler.http_error_default\u001b[1;34m(self, req, fp, code, msg, hdrs)\u001b[0m\n\u001b[0;32m    642\u001b[0m \u001b[38;5;28;01mdef\u001b[39;00m \u001b[38;5;21mhttp_error_default\u001b[39m(\u001b[38;5;28mself\u001b[39m, req, fp, code, msg, hdrs):\n\u001b[1;32m--> 643\u001b[0m     \u001b[38;5;28;01mraise\u001b[39;00m HTTPError(req\u001b[38;5;241m.\u001b[39mfull_url, code, msg, hdrs, fp)\n",
      "\u001b[1;31mHTTPError\u001b[0m: HTTP Error 403: Forbidden"
     ]
    }
   ],
   "source": [
    "from SPARQLWrapper import SPARQLWrapper, JSON\n",
    "\n",
    "sparql = SPARQLWrapper(\"https://query.wikidata.org/sparql\")  # Construimos un objeto para acceder a cierto endpoint. En este caso, DBpedia\n",
    "sparql.setQuery(\"\"\"\n",
    "\n",
    "prefix wdt: \n",
    "prefix wd: \n",
    "prefix wikibase: \n",
    "prefix dbr: \n",
    "prefix dbo: \n",
    "prefix dbp: \n",
    "prefix ex:<http://156.35.95.43:3030/SerialExperimentsLain/sparql>\n",
    "\n",
    "                \n",
    "SELECT ?wikidataItem ?name ?subjectLabel\n",
    "  SERVICE {\n",
    "      ?subject ex:references ?wikidataItem .\n",
    "      ?subject rdfs:label ?subjectLabel .\n",
    "      FILTER (LANG(?subjectLabel) = \"en\")\n",
    "  }\n",
    "\"\"\"\n",
    ")\n",
    "\n",
    "sparql.setReturnFormat(JSON)\n",
    "results = sparql.query().convert()\n",
    "for result in results[\"results\"][\"bindings\"]:\n",
    "    for a_var_key in result:\n",
    "      print(result[a_var_key][\"value\"], end=\"       \")\n",
    "    print()\n",
    "print(\"--------\")"
   ]
  },
  {
   "cell_type": "code",
   "execution_count": 14,
   "metadata": {},
   "outputs": [
    {
     "name": "stdout",
     "output_type": "stream",
     "text": [
      "Number of objects: 9\n"
     ]
    }
   ],
   "source": [
    "query = \"\"\"\n",
    "PREFIX ex: <http://example.org/>\n",
    "PREFIX schema: <http://schema.org/>\n",
    "PREFIX dpedia: <http://dbpedia.org/resource/>\n",
    "\n",
    "SELECT (COUNT(?object) AS ?count) \n",
    "WHERE {\n",
    "  ?object a ?type .\n",
    "  VALUES ?type { ex:ComputerCode schema:WebPage schema:VideoGame dpedia:Electrical_device dpedia:Computer_network dpedia:Computer dpedia:Operating_system }\n",
    "}\n",
    "\"\"\"\n",
    "\n",
    "query_result = g.query(query)\n",
    "\n",
    "for a_row in query_result:\n",
    "    print(f\"Number of objects: {a_row['count']}\")"
   ]
  },
  {
   "cell_type": "code",
   "execution_count": null,
   "metadata": {},
   "outputs": [],
   "source": [
    "# Hacer algo como FILTER(?bdate >= \"1960-01-01\"^^xsd:date)"
   ]
  },
  {
   "cell_type": "markdown",
   "metadata": {},
   "source": [
    "# Ejercicio 3: Desarrollo de aplicación web \n",
    "\n",
    "Url de la web: \n",
    "\n",
    "## Descripción del contenido\n",
    "\n",
    "Se ha tratado de ofrecer al usuario una forma \"fácil\" de navegar a través del grafo de RDF. La intención de la web es permitir al usuario visualizar todos los nodos **pertinentes** del grafo mostrandle la información de todas sus relaciones (exceptuando la de rdf:type).\n",
    "\n",
    "El contenido de la web se basa en la serie japonesa escogida para modelar los datos, y sigue la siguiente lógica.\n",
    "\n",
    "![Diagrama en resources/Web.png](/resources/Web.png)\n",
    "                                          \n",
    "## Descripción de la forma de uso de RDFa\n",
    "Se ha empleado RDFa para describir los nodos representados en la pantalla del usuario.\n",
    "// TODO"
   ]
  },
  {
   "cell_type": "markdown",
   "metadata": {},
   "source": [
    "# Ejercicio 4 - Validación datos RDF\n",
    "\n",
    "Los ficheros utilizados se encuentran bajo la carpeta SHEX, dentro de ella hay:\n",
    "- CharacterShape: shape para personajes\n",
    "- LocationShape: shpae para lugaress\n",
    "- OccupationShape: shape para ocupación (trabajo)\n",
    "- OrganizationShape: shape para organizaciones\n",
    "- ComputerCodeShape: shape para programas informáticos\n",
    "- SHapeMap.sm: EL shape map utilzado para validar los datos"
   ]
  },
  {
   "cell_type": "code",
   "execution_count": null,
   "metadata": {},
   "outputs": [
    {
     "name": "stderr",
     "output_type": "stream",
     "text": [
      "\n",
      "SPARQL'''\n",
      "PREFIX schema: <http://schema.org/>\n",
      "select ?node where{\n",
      "\t?node a schema:Person .\n",
      "\tFILTER(isIRI(?node))\n",
      "}\n",
      "'''@<SchemaCharacter>,\n",
      " does not look like a valid URI, trying to serialize this will break.\n"
     ]
    },
    {
     "name": "stdout",
     "output_type": "stream",
     "text": [
      "Node: \n",
      "SPARQL'''\n",
      "PREFIX schema: <http://schema.org/>\n",
      "select ?node where{\n",
      "\t?node a schema:Person .\n",
      "\tFILTER(isIRI(?node))\n",
      "}\n",
      "'''@<SchemaCharacter>,\n",
      ", Conforms: False, Reason: Focus: \n",
      "SPARQL'''\n",
      "PREFIX schema: <http://schema.org/>\n",
      "select ?node where{\n",
      "\t?node a schema:Person .\n",
      "\tFILTER(isIRI(?node))\n",
      "}\n",
      "'''@<SchemaCharacter>,\n",
      " not in graph\n"
     ]
    }
   ],
   "source": [
    "from pyshex import ShExEvaluator\n",
    "from pyshex.evaluate import evaluate\n",
    "\n",
    "with open(\"SHEX/FullSHape.shex\", \"r\") as file:\n",
    "    shapes = file.read()\n",
    "\n",
    "evaluator = ShExEvaluator(rdf=g.serialize(format=\"turtle\"), schema=shapes, \n",
    "                          focus=\"http://uniovi.es/miw/uo283069/entity/Lain_Iwakura\", \n",
    "                          start=\"SchemaCharacter\")\n",
    "results = evaluator.evaluate()\n",
    "\n",
    "for result in results:\n",
    "    print(f\"Node: {result.focus}, Conforms: {result.result}, Reason: {result.reason}\")\n"
   ]
  },
  {
   "cell_type": "code",
   "execution_count": 7,
   "metadata": {},
   "outputs": [
    {
     "name": "stdout",
     "output_type": "stream",
     "text": [
      "Node: http://uniovi.es/miw/uo283069/entity/Tokyo, Conforms: True, Reason: \n"
     ]
    }
   ],
   "source": [
    "evaluator = ShExEvaluator(rdf=g.serialize(format=\"turtle\"), schema=shapes, \n",
    "                          focus=\"http://uniovi.es/miw/uo283069/entity/Tokyo\", \n",
    "                          start=\"SchemaLocation\")\n",
    "results = evaluator.evaluate()\n",
    "\n",
    "for result in results:\n",
    "    print(f\"Node: {result.focus}, Conforms: {result.result}, Reason: {result.reason}\")"
   ]
  },
  {
   "cell_type": "code",
   "execution_count": null,
   "metadata": {},
   "outputs": [
    {
     "name": "stdout",
     "output_type": "stream",
     "text": [
      "Node: http://uniovi.es/miw/uo283069/entity/TachibanaLabs, Conforms: True, Reason: \n"
     ]
    }
   ],
   "source": [
    "evaluator = ShExEvaluator(rdf=g.serialize(format=\"turtle\"), schema=shapes, \n",
    "                          focus=\"http://uniovi.es/miw/uo283069/entity/TachibanaLabs\", \n",
    "                          start=\"SchemaOrganization\")\n",
    "results = evaluator.evaluate()\n",
    "\n",
    "for result in results:\n",
    "    print(f\"Node: {result.focus}, Conforms: {result.result}, Reason: {result.reason}\")"
   ]
  },
  {
   "cell_type": "code",
   "execution_count": 14,
   "metadata": {},
   "outputs": [
    {
     "name": "stdout",
     "output_type": "stream",
     "text": [
      "Node: http://uniovi.es/miw/uo283069/entity/Afx-n-nPrv-View.CL, Conforms: True, Reason: \n"
     ]
    }
   ],
   "source": [
    "\n",
    "nodes = [\"http://uniovi.es/miw/uo283069/entity/CRowView.CL\", \"http://uniovi.es/miw/uo283069/entity/Afx-n-nPrv-View.CL\"]\n",
    "\n",
    "for node in nodes:\n",
    "    evaluator = ShExEvaluator(rdf=g.serialize(format=\"turtle\"), schema=shapes, \n",
    "                              focus=node, \n",
    "                              start=\"ComputerCodeShape\")\n",
    "    results = evaluator.evaluate()\n",
    "\n",
    "    for result in results:\n",
    "        print(f\"Node: {result.focus}, Conforms: {result.result}, Reason: {result.reason}\")"
   ]
  },
  {
   "cell_type": "markdown",
   "metadata": {},
   "source": [
    "### Shape map"
   ]
  },
  {
   "cell_type": "markdown",
   "metadata": {},
   "source": [
    "## Ejercicio : Extracción de shapes"
   ]
  },
  {
   "cell_type": "code",
   "execution_count": 1,
   "metadata": {},
   "outputs": [
    {
     "name": "stdout",
     "output_type": "stream",
     "text": [
      "Note: you may need to restart the kernel to use updated packages.\n"
     ]
    },
    {
     "name": "stderr",
     "output_type": "stream",
     "text": [
      "  WARNING: Failed to write executable - trying to use .deleteme logic\n",
      "ERROR: Could not install packages due to an OSError: [WinError 2] El sistema no puede encontrar el archivo especificado: 'c:\\\\Python311\\\\Scripts\\\\flask.exe' -> 'c:\\\\Python311\\\\Scripts\\\\flask.exe.deleteme'\n",
      "\n"
     ]
    }
   ],
   "source": [
    "%pip install shexer --quiet"
   ]
  }
 ],
 "metadata": {
  "kernelspec": {
   "display_name": "Python 3",
   "language": "python",
   "name": "python3"
  },
  "language_info": {
   "codemirror_mode": {
    "name": "ipython",
    "version": 3
   },
   "file_extension": ".py",
   "mimetype": "text/x-python",
   "name": "python",
   "nbconvert_exporter": "python",
   "pygments_lexer": "ipython3",
   "version": "3.11.4"
  }
 },
 "nbformat": 4,
 "nbformat_minor": 2
}
